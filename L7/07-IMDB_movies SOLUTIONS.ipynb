{
 "cells": [
  {
   "cell_type": "markdown",
   "id": "a313129b",
   "metadata": {},
   "source": [
    "# Pandas data manipulation and transformation"
   ]
  },
  {
   "cell_type": "code",
   "execution_count": 4,
   "id": "17aa7cf8",
   "metadata": {},
   "outputs": [],
   "source": [
    "import numpy as np\n",
    "import pandas as pd\n",
    "import matplotlib.pyplot as plt"
   ]
  },
  {
   "cell_type": "code",
   "execution_count": 5,
   "id": "fa79f23f",
   "metadata": {},
   "outputs": [
    {
     "data": {
      "text/plain": [
       "(1000, 10)"
      ]
     },
     "execution_count": 5,
     "metadata": {},
     "output_type": "execute_result"
    }
   ],
   "source": [
    "imdb_movies = pd.read_csv(\"../datasets/imdb-movies.csv\")\n",
    "imdb_movies.set_index('Rank', inplace=True)\n",
    "imdb_movies.shape"
   ]
  },
  {
   "cell_type": "code",
   "execution_count": 6,
   "id": "aba9a31c",
   "metadata": {},
   "outputs": [
    {
     "name": "stdout",
     "output_type": "stream",
     "text": [
      "<class 'pandas.core.frame.DataFrame'>\n",
      "Int64Index: 1000 entries, 1 to 1000\n",
      "Data columns (total 10 columns):\n",
      " #   Column              Non-Null Count  Dtype  \n",
      "---  ------              --------------  -----  \n",
      " 0   Title               1000 non-null   object \n",
      " 1   Genre               1000 non-null   object \n",
      " 2   Director            1000 non-null   object \n",
      " 3   Year                1000 non-null   int64  \n",
      " 4   Runtime (Minutes)   1000 non-null   int64  \n",
      " 5   Rating              1000 non-null   float64\n",
      " 6   Votes               1000 non-null   int64  \n",
      " 7   Revenue (Millions)  872 non-null    float64\n",
      " 8   Metascore           936 non-null    float64\n",
      " 9   Actors              1000 non-null   object \n",
      "dtypes: float64(3), int64(3), object(4)\n",
      "memory usage: 85.9+ KB\n"
     ]
    }
   ],
   "source": [
    "imdb_movies.info()"
   ]
  },
  {
   "cell_type": "code",
   "execution_count": 7,
   "id": "6175e2e4",
   "metadata": {},
   "outputs": [
    {
     "data": {
      "text/html": [
       "<div>\n",
       "<style scoped>\n",
       "    .dataframe tbody tr th:only-of-type {\n",
       "        vertical-align: middle;\n",
       "    }\n",
       "\n",
       "    .dataframe tbody tr th {\n",
       "        vertical-align: top;\n",
       "    }\n",
       "\n",
       "    .dataframe thead th {\n",
       "        text-align: right;\n",
       "    }\n",
       "</style>\n",
       "<table border=\"1\" class=\"dataframe\">\n",
       "  <thead>\n",
       "    <tr style=\"text-align: right;\">\n",
       "      <th></th>\n",
       "      <th>Title</th>\n",
       "      <th>Genre</th>\n",
       "      <th>Director</th>\n",
       "      <th>Year</th>\n",
       "      <th>Runtime (Minutes)</th>\n",
       "      <th>Rating</th>\n",
       "      <th>Votes</th>\n",
       "      <th>Revenue (Millions)</th>\n",
       "      <th>Metascore</th>\n",
       "      <th>Actors</th>\n",
       "    </tr>\n",
       "    <tr>\n",
       "      <th>Rank</th>\n",
       "      <th></th>\n",
       "      <th></th>\n",
       "      <th></th>\n",
       "      <th></th>\n",
       "      <th></th>\n",
       "      <th></th>\n",
       "      <th></th>\n",
       "      <th></th>\n",
       "      <th></th>\n",
       "      <th></th>\n",
       "    </tr>\n",
       "  </thead>\n",
       "  <tbody>\n",
       "    <tr>\n",
       "      <th>416</th>\n",
       "      <td>Tusk</td>\n",
       "      <td>Comedy,Drama,Horror</td>\n",
       "      <td>Kevin Smith</td>\n",
       "      <td>2014</td>\n",
       "      <td>102</td>\n",
       "      <td>5.4</td>\n",
       "      <td>34546</td>\n",
       "      <td>1.82</td>\n",
       "      <td>55.0</td>\n",
       "      <td>Justin Long, Michael Parks, Haley Joel Osment,...</td>\n",
       "    </tr>\n",
       "    <tr>\n",
       "      <th>118</th>\n",
       "      <td>Dangal</td>\n",
       "      <td>Action,Biography,Drama</td>\n",
       "      <td>Nitesh Tiwari</td>\n",
       "      <td>2016</td>\n",
       "      <td>161</td>\n",
       "      <td>8.8</td>\n",
       "      <td>48969</td>\n",
       "      <td>11.15</td>\n",
       "      <td>NaN</td>\n",
       "      <td>Aamir Khan, Sakshi Tanwar, Fatima Sana Shaikh,...</td>\n",
       "    </tr>\n",
       "    <tr>\n",
       "      <th>529</th>\n",
       "      <td>Godzilla</td>\n",
       "      <td>Action,Adventure,Sci-Fi</td>\n",
       "      <td>Gareth Edwards</td>\n",
       "      <td>2014</td>\n",
       "      <td>123</td>\n",
       "      <td>6.4</td>\n",
       "      <td>318058</td>\n",
       "      <td>200.66</td>\n",
       "      <td>62.0</td>\n",
       "      <td>Aaron Taylor-Johnson, Elizabeth Olsen, Bryan C...</td>\n",
       "    </tr>\n",
       "    <tr>\n",
       "      <th>515</th>\n",
       "      <td>Magic Mike XXL</td>\n",
       "      <td>Comedy,Drama,Music</td>\n",
       "      <td>Gregory Jacobs</td>\n",
       "      <td>2015</td>\n",
       "      <td>115</td>\n",
       "      <td>5.7</td>\n",
       "      <td>42506</td>\n",
       "      <td>NaN</td>\n",
       "      <td>60.0</td>\n",
       "      <td>Channing Tatum, Joe Manganiello, Matt Bomer,Ad...</td>\n",
       "    </tr>\n",
       "    <tr>\n",
       "      <th>442</th>\n",
       "      <td>Brooklyn</td>\n",
       "      <td>Drama,Romance</td>\n",
       "      <td>John Crowley</td>\n",
       "      <td>2015</td>\n",
       "      <td>117</td>\n",
       "      <td>7.5</td>\n",
       "      <td>94977</td>\n",
       "      <td>38.32</td>\n",
       "      <td>87.0</td>\n",
       "      <td>Saoirse Ronan, Emory Cohen, Domhnall Gleeson,J...</td>\n",
       "    </tr>\n",
       "  </tbody>\n",
       "</table>\n",
       "</div>"
      ],
      "text/plain": [
       "               Title                    Genre        Director  Year  \\\n",
       "Rank                                                                  \n",
       "416             Tusk      Comedy,Drama,Horror     Kevin Smith  2014   \n",
       "118           Dangal   Action,Biography,Drama   Nitesh Tiwari  2016   \n",
       "529         Godzilla  Action,Adventure,Sci-Fi  Gareth Edwards  2014   \n",
       "515   Magic Mike XXL       Comedy,Drama,Music  Gregory Jacobs  2015   \n",
       "442         Brooklyn            Drama,Romance    John Crowley  2015   \n",
       "\n",
       "      Runtime (Minutes)  Rating   Votes  Revenue (Millions)  Metascore  \\\n",
       "Rank                                                                     \n",
       "416                 102     5.4   34546                1.82       55.0   \n",
       "118                 161     8.8   48969               11.15        NaN   \n",
       "529                 123     6.4  318058              200.66       62.0   \n",
       "515                 115     5.7   42506                 NaN       60.0   \n",
       "442                 117     7.5   94977               38.32       87.0   \n",
       "\n",
       "                                                 Actors  \n",
       "Rank                                                     \n",
       "416   Justin Long, Michael Parks, Haley Joel Osment,...  \n",
       "118   Aamir Khan, Sakshi Tanwar, Fatima Sana Shaikh,...  \n",
       "529   Aaron Taylor-Johnson, Elizabeth Olsen, Bryan C...  \n",
       "515   Channing Tatum, Joe Manganiello, Matt Bomer,Ad...  \n",
       "442   Saoirse Ronan, Emory Cohen, Domhnall Gleeson,J...  "
      ]
     },
     "execution_count": 7,
     "metadata": {},
     "output_type": "execute_result"
    }
   ],
   "source": [
    "imdb_movies.sample(5)"
   ]
  },
  {
   "cell_type": "markdown",
   "id": "dbce2375",
   "metadata": {},
   "source": [
    "### Question 1A: Do movies longer than 2h45 (165mins) get better scores than movies shorter than 100 mins?"
   ]
  },
  {
   "cell_type": "code",
   "execution_count": 8,
   "id": "c1fa133a",
   "metadata": {},
   "outputs": [
    {
     "name": "stdout",
     "output_type": "stream",
     "text": [
      "number of movies > 2hrs 45 =  9\n",
      "number of movies < 100 mins =  227\n"
     ]
    },
    {
     "name": "stderr",
     "output_type": "stream",
     "text": [
      "/var/folders/ry/3hkntqmd6lx9rvtg9q4zp4vr0000gn/T/ipykernel_16739/55455135.py:18: FutureWarning: The default value of numeric_only in DataFrameGroupBy.mean is deprecated. In a future version, numeric_only will default to False. Either specify numeric_only or select only columns which should be valid for the function.\n",
      "  imdb_movies.groupby(['Score vs length']).mean()['Metascore']\n"
     ]
    },
    {
     "data": {
      "text/plain": [
       "Score vs length\n",
       "Less than 100 mins    55.867841\n",
       "Over 2hrs 45 mins     67.222222\n",
       "Name: Metascore, dtype: float64"
      ]
     },
     "execution_count": 8,
     "metadata": {},
     "output_type": "execute_result"
    }
   ],
   "source": [
    "# 2 hrs 45 = 165 mins\n",
    "\n",
    "# average of scores > 165 mins\n",
    "# average of scores < 100 mins\n",
    "\n",
    "long_movies  = sum(  (imdb_movies.loc[:,'Runtime (Minutes)'] > 165) & (imdb_movies['Metascore'] > 0 ) )\n",
    "short_movies = sum(  (imdb_movies.loc[:,'Runtime (Minutes)'] < 100) & (imdb_movies['Metascore'] > 0 ) )\n",
    "\n",
    "print(\"number of movies > 2hrs 45 = \",long_movies)\n",
    "print(\"number of movies < 100 mins = \",short_movies)\n",
    "\n",
    "\n",
    "#imdb_movies.groupby(['Runtime (Minutes)', 'Metascore']).mean()\n",
    "\n",
    "imdb_movies.loc[imdb_movies['Runtime (Minutes)']<100,'Score vs length'] = 'Less than 100 mins'     #short\n",
    "imdb_movies.loc[imdb_movies['Runtime (Minutes)']>165,'Score vs length'] = 'Over 2hrs 45 mins'     #long\n",
    "\n",
    "imdb_movies.groupby(['Score vs length']).mean()['Metascore']\n"
   ]
  },
  {
   "cell_type": "code",
   "execution_count": 9,
   "id": "13743256",
   "metadata": {},
   "outputs": [
    {
     "name": "stdout",
     "output_type": "stream",
     "text": [
      "55.86784140969163\n",
      "67.22222222222223\n"
     ]
    }
   ],
   "source": [
    "short = imdb_movies[\"Runtime (Minutes)\"] < 100\n",
    "long = imdb_movies[\"Runtime (Minutes)\"] > 165\n",
    "print(imdb_movies[short][\"Metascore\"].mean())\n",
    "print(imdb_movies[long][\"Metascore\"].mean())"
   ]
  },
  {
   "cell_type": "code",
   "execution_count": 10,
   "id": "ab6491d6",
   "metadata": {},
   "outputs": [
    {
     "name": "stdout",
     "output_type": "stream",
     "text": [
      " Mean rating of movies shorter 1h40 : 6.316304347826088\n",
      " Mean rating of movies longer 2h45 : 7.675\n"
     ]
    }
   ],
   "source": [
    "movies_longer = imdb_movies[imdb_movies['Runtime (Minutes)'] >= 165].sort_values(by=\"Rating\",ascending=False)\n",
    "movies_shorter = imdb_movies[imdb_movies['Runtime (Minutes)'] <= 100].sort_values(by=\"Rating\",ascending=False)\n",
    "\n",
    "print(f\" Mean rating of movies shorter 1h40 : {movies_shorter['Rating'].mean()}\")\n",
    "print(f\" Mean rating of movies longer 2h45 : {movies_longer['Rating'].mean()}\")"
   ]
  },
  {
   "cell_type": "markdown",
   "id": "2dd810e1",
   "metadata": {},
   "source": [
    "### Question 1B. Visualise the response to 1A with an appropriate plot (matplotlib)"
   ]
  },
  {
   "cell_type": "code",
   "execution_count": 25,
   "id": "1e463f8a",
   "metadata": {},
   "outputs": [
    {
     "data": {
      "image/png": "[encoded data removed]",
      "text/plain": [
       "<Figure size 640x480 with 1 Axes>"
      ]
     },
     "metadata": {},
     "output_type": "display_data"
    }
   ],
   "source": [
    "fig = plt.figure()\n",
    "ax = fig.add_axes([0.1,0.1,0.8,0.8])    \n",
    "\n",
    "labels = ['Short films (<100)', 'Long films (>165)']\n",
    "scores = [imdb_movies[short][\"Metascore\"].mean(), imdb_movies[long][\"Metascore\"].mean()]\n",
    "\n",
    "ax.set_xlabel('Film category')\n",
    "ax.set_ylabel('Score')\n",
    "ax.set_title('Score vs Film Length')\n",
    "\n",
    "ax.bar(labels,scores)\n",
    "\n",
    "plt.show()\n",
    "#plt.savefig('bar1.png', dpi=200)"
   ]
  },
  {
   "cell_type": "code",
   "execution_count": 19,
   "id": "bcd5010b",
   "metadata": {},
   "outputs": [
    {
     "data": {
      "text/plain": [
       "<Axes: xlabel='Runtime (Minutes)', ylabel='Rating'>"
      ]
     },
     "execution_count": 19,
     "metadata": {},
     "output_type": "execute_result"
    },
    {
     "data": {
      "image/png": "[encoded data removed]",
      "text/plain": [
       "<Figure size 640x480 with 1 Axes>"
      ]
     },
     "metadata": {},
     "output_type": "display_data"
    }
   ],
   "source": [
    "movies_between = imdb_movies[(imdb_movies['Runtime (Minutes)'] >= 165) | (imdb_movies['Runtime (Minutes)'] <= 100)]\n",
    "movies_between.plot.scatter(x='Runtime (Minutes)', y='Rating')"
   ]
  },
  {
   "cell_type": "markdown",
   "id": "c1dddd4c",
   "metadata": {},
   "source": [
    "### Question 2: Which is the director with highest revenue per minute of runtime?"
   ]
  },
  {
   "cell_type": "code",
   "execution_count": 24,
   "id": "a88b6dd1",
   "metadata": {},
   "outputs": [
    {
     "name": "stderr",
     "output_type": "stream",
     "text": [
      "/var/folders/ry/3hkntqmd6lx9rvtg9q4zp4vr0000gn/T/ipykernel_16739/3294392306.py:9: FutureWarning: The default value of numeric_only in DataFrameGroupBy.sum is deprecated. In a future version, numeric_only will default to False. Either specify numeric_only or select only columns which should be valid for the function.\n",
      "  imdb_movies.groupby(['Director']).sum()['Revenue by minute'].sort_values(0, 0, False)\n",
      "/var/folders/ry/3hkntqmd6lx9rvtg9q4zp4vr0000gn/T/ipykernel_16739/3294392306.py:9: FutureWarning: In a future version of pandas all arguments of Series.sort_values will be keyword-only.\n",
      "  imdb_movies.groupby(['Director']).sum()['Revenue by minute'].sort_values(0, 0, False)\n"
     ]
    },
    {
     "data": {
      "text/plain": [
       "Director\n",
       "J.J. Abrams          12.841471\n",
       "David Yates          11.950776\n",
       "Francis Lawrence     10.243712\n",
       "Christopher Nolan     9.738683\n",
       "Michael Bay           9.423046\n",
       "                       ...    \n",
       "James Franco          0.000000\n",
       "James Lapine          0.000000\n",
       "Jeff Grace            0.000000\n",
       "Jeffrey G. Hunt       0.000000\n",
       "Gillies MacKinnon     0.000000\n",
       "Name: Revenue by minute, Length: 644, dtype: float64"
      ]
     },
     "execution_count": 24,
     "metadata": {},
     "output_type": "execute_result"
    }
   ],
   "source": [
    "# Divide revenue by runtime (unfiltered/not cleaned) \n",
    "\n",
    "#imdb_movies.groupby(['Director', 'Runtime (Minutes)' ]).sum()['Revenue (Millions)']\n",
    "\n",
    "imdb_movies.loc[imdb_movies['Runtime (Minutes)'] > 0,'Revenue by minute'] = imdb_movies['Revenue (Millions)'] / imdb_movies['Runtime (Minutes)']\n",
    "\n",
    "#imdb_movies.groupby(['Director']).sum()['Revenue by minute'].max()\n",
    "                                                                        #row   #descending order\n",
    "imdb_movies.groupby(['Director']).sum()['Revenue by minute'].sort_values(0, 0, False)\n"
   ]
  },
  {
   "cell_type": "code",
   "execution_count": 20,
   "id": "d7df1093",
   "metadata": {},
   "outputs": [
    {
     "name": "stdout",
     "output_type": "stream",
     "text": [
      "<class 'pandas.core.frame.DataFrame'>\n",
      "Int64Index: 872 entries, 1 to 1000\n",
      "Data columns (total 11 columns):\n",
      " #   Column              Non-Null Count  Dtype  \n",
      "---  ------              --------------  -----  \n",
      " 0   Title               872 non-null    object \n",
      " 1   Genre               872 non-null    object \n",
      " 2   Director            872 non-null    object \n",
      " 3   Year                872 non-null    int64  \n",
      " 4   Runtime (Minutes)   872 non-null    int64  \n",
      " 5   Rating              872 non-null    float64\n",
      " 6   Votes               872 non-null    int64  \n",
      " 7   Revenue (Millions)  872 non-null    float64\n",
      " 8   Metascore           838 non-null    float64\n",
      " 9   Actors              872 non-null    object \n",
      " 10  Score vs length     196 non-null    object \n",
      "dtypes: float64(3), int64(3), object(5)\n",
      "memory usage: 81.8+ KB\n"
     ]
    }
   ],
   "source": [
    "imdb_movies_clean_revenue = imdb_movies[imdb_movies['Revenue (Millions)'].notna()]\n",
    "imdb_movies_clean_revenue.info()"
   ]
  },
  {
   "cell_type": "code",
   "execution_count": 21,
   "id": "a46e889a",
   "metadata": {
    "scrolled": true
   },
   "outputs": [
    {
     "name": "stderr",
     "output_type": "stream",
     "text": [
      "/var/folders/ry/3hkntqmd6lx9rvtg9q4zp4vr0000gn/T/ipykernel_16739/3093295231.py:1: SettingWithCopyWarning: \n",
      "A value is trying to be set on a copy of a slice from a DataFrame.\n",
      "Try using .loc[row_indexer,col_indexer] = value instead\n",
      "\n",
      "See the caveats in the documentation: https://pandas.pydata.org/pandas-docs/stable/user_guide/indexing.html#returning-a-view-versus-a-copy\n",
      "  imdb_movies_clean_revenue['revenue_per_min'] = imdb_movies_clean_revenue['Revenue (Millions)'] / imdb_movies_clean_revenue['Runtime (Minutes)']\n"
     ]
    }
   ],
   "source": [
    "imdb_movies_clean_revenue['revenue_per_min'] = imdb_movies_clean_revenue['Revenue (Millions)'] / imdb_movies_clean_revenue['Runtime (Minutes)']"
   ]
  },
  {
   "cell_type": "code",
   "execution_count": 22,
   "id": "43716fbc",
   "metadata": {},
   "outputs": [
    {
     "data": {
      "text/plain": [
       "Rank\n",
       "1       2.753140\n",
       "2       1.019839\n",
       "3       1.180513\n",
       "4       2.502963\n",
       "5       2.642439\n",
       "          ...   \n",
       "994     0.619897\n",
       "995     0.621818\n",
       "997     0.186596\n",
       "998     0.591939\n",
       "1000    0.225747\n",
       "Name: revenue_per_min, Length: 872, dtype: float64"
      ]
     },
     "execution_count": 22,
     "metadata": {},
     "output_type": "execute_result"
    }
   ],
   "source": [
    "imdb_movies_clean_revenue['revenue_per_min']"
   ]
  },
  {
   "cell_type": "code",
   "execution_count": 23,
   "id": "bcadb6f5",
   "metadata": {},
   "outputs": [
    {
     "data": {
      "text/html": [
       "<div>\n",
       "<style scoped>\n",
       "    .dataframe tbody tr th:only-of-type {\n",
       "        vertical-align: middle;\n",
       "    }\n",
       "\n",
       "    .dataframe tbody tr th {\n",
       "        vertical-align: top;\n",
       "    }\n",
       "\n",
       "    .dataframe thead th {\n",
       "        text-align: right;\n",
       "    }\n",
       "</style>\n",
       "<table border=\"1\" class=\"dataframe\">\n",
       "  <thead>\n",
       "    <tr style=\"text-align: right;\">\n",
       "      <th></th>\n",
       "      <th>Rating</th>\n",
       "      <th>revenue_per_min</th>\n",
       "      <th>Runtime (Minutes)</th>\n",
       "      <th>Revenue (Millions)</th>\n",
       "    </tr>\n",
       "    <tr>\n",
       "      <th>Director</th>\n",
       "      <th></th>\n",
       "      <th></th>\n",
       "      <th></th>\n",
       "      <th></th>\n",
       "    </tr>\n",
       "  </thead>\n",
       "  <tbody>\n",
       "    <tr>\n",
       "      <th>Colin Trevorrow</th>\n",
       "      <td>7.0</td>\n",
       "      <td>5.259516</td>\n",
       "      <td>124.0</td>\n",
       "      <td>652.18</td>\n",
       "    </tr>\n",
       "    <tr>\n",
       "      <th>James Cameron</th>\n",
       "      <td>7.8</td>\n",
       "      <td>4.694506</td>\n",
       "      <td>162.0</td>\n",
       "      <td>760.51</td>\n",
       "    </tr>\n",
       "    <tr>\n",
       "      <th>Chris Renaud</th>\n",
       "      <td>6.6</td>\n",
       "      <td>4.233448</td>\n",
       "      <td>87.0</td>\n",
       "      <td>368.31</td>\n",
       "    </tr>\n",
       "    <tr>\n",
       "      <th>Lee Unkrich</th>\n",
       "      <td>8.3</td>\n",
       "      <td>4.028932</td>\n",
       "      <td>103.0</td>\n",
       "      <td>414.98</td>\n",
       "    </tr>\n",
       "    <tr>\n",
       "      <th>Chris Buck</th>\n",
       "      <td>7.5</td>\n",
       "      <td>3.928824</td>\n",
       "      <td>102.0</td>\n",
       "      <td>400.74</td>\n",
       "    </tr>\n",
       "    <tr>\n",
       "      <th>...</th>\n",
       "      <td>...</td>\n",
       "      <td>...</td>\n",
       "      <td>...</td>\n",
       "      <td>...</td>\n",
       "    </tr>\n",
       "    <tr>\n",
       "      <th>So Yong Kim</th>\n",
       "      <td>6.4</td>\n",
       "      <td>0.000119</td>\n",
       "      <td>84.0</td>\n",
       "      <td>0.01</td>\n",
       "    </tr>\n",
       "    <tr>\n",
       "      <th>Phillip Guzman</th>\n",
       "      <td>4.7</td>\n",
       "      <td>0.000101</td>\n",
       "      <td>99.0</td>\n",
       "      <td>0.01</td>\n",
       "    </tr>\n",
       "    <tr>\n",
       "      <th>Patricia Rozema</th>\n",
       "      <td>5.9</td>\n",
       "      <td>0.000099</td>\n",
       "      <td>101.0</td>\n",
       "      <td>0.01</td>\n",
       "    </tr>\n",
       "    <tr>\n",
       "      <th>Robin Swicord</th>\n",
       "      <td>7.5</td>\n",
       "      <td>0.000094</td>\n",
       "      <td>106.0</td>\n",
       "      <td>0.01</td>\n",
       "    </tr>\n",
       "    <tr>\n",
       "      <th>Andy Goddard</th>\n",
       "      <td>5.2</td>\n",
       "      <td>0.000000</td>\n",
       "      <td>95.0</td>\n",
       "      <td>0.00</td>\n",
       "    </tr>\n",
       "  </tbody>\n",
       "</table>\n",
       "<p>540 rows × 4 columns</p>\n",
       "</div>"
      ],
      "text/plain": [
       "                 Rating  revenue_per_min  Runtime (Minutes)  \\\n",
       "Director                                                      \n",
       "Colin Trevorrow     7.0         5.259516              124.0   \n",
       "James Cameron       7.8         4.694506              162.0   \n",
       "Chris Renaud        6.6         4.233448               87.0   \n",
       "Lee Unkrich         8.3         4.028932              103.0   \n",
       "Chris Buck          7.5         3.928824              102.0   \n",
       "...                 ...              ...                ...   \n",
       "So Yong Kim         6.4         0.000119               84.0   \n",
       "Phillip Guzman      4.7         0.000101               99.0   \n",
       "Patricia Rozema     5.9         0.000099              101.0   \n",
       "Robin Swicord       7.5         0.000094              106.0   \n",
       "Andy Goddard        5.2         0.000000               95.0   \n",
       "\n",
       "                 Revenue (Millions)  \n",
       "Director                             \n",
       "Colin Trevorrow              652.18  \n",
       "James Cameron                760.51  \n",
       "Chris Renaud                 368.31  \n",
       "Lee Unkrich                  414.98  \n",
       "Chris Buck                   400.74  \n",
       "...                             ...  \n",
       "So Yong Kim                    0.01  \n",
       "Phillip Guzman                 0.01  \n",
       "Patricia Rozema                0.01  \n",
       "Robin Swicord                  0.01  \n",
       "Andy Goddard                   0.00  \n",
       "\n",
       "[540 rows x 4 columns]"
      ]
     },
     "execution_count": 23,
     "metadata": {},
     "output_type": "execute_result"
    }
   ],
   "source": [
    "attr =[ \"Director\", \"Rating\", \"revenue_per_min\", 'Runtime (Minutes)', 'Revenue (Millions)']\n",
    "grouped_by_director = imdb_movies_clean_revenue[attr].groupby('Director')\n",
    "grouped_by_director.mean().sort_values(by=\"revenue_per_min\", ascending=False)"
   ]
  },
  {
   "cell_type": "markdown",
   "id": "aae97230",
   "metadata": {},
   "source": [
    "### Question 3: which is the most common movie genre in our dataset between 2007 and 2014?"
   ]
  },
  {
   "cell_type": "code",
   "execution_count": 181,
   "id": "e2653552",
   "metadata": {},
   "outputs": [
    {
     "name": "stdout",
     "output_type": "stream",
     "text": [
      "Year\n",
      "2007                   Thriller\n",
      "2008            Sci-Fi,Thriller\n",
      "2009    Horror,Mystery,Thriller\n",
      "2010           Mystery,Thriller\n",
      "2011    Romance,Sci-Fi,Thriller\n",
      "2012             Horror,Mystery\n",
      "2013           Mystery,Thriller\n",
      "2014                   Thriller\n",
      "Name: Genre, dtype: object\n",
      "\n",
      "Most common genre between 2007 and 2014 is: Thriller\n"
     ]
    },
    {
     "name": "stderr",
     "output_type": "stream",
     "text": [
      "/var/folders/ry/3hkntqmd6lx9rvtg9q4zp4vr0000gn/T/ipykernel_48283/672679285.py:5: FutureWarning: Dropping invalid columns in DataFrameGroupBy.max is deprecated. In a future version, a TypeError will be raised. Before calling .max, select only columns which should be valid for the function.\n",
      "  print(imdb_movies.groupby(['Year']).max()['Genre'].filter(YEARS))\n",
      "/var/folders/ry/3hkntqmd6lx9rvtg9q4zp4vr0000gn/T/ipykernel_48283/672679285.py:8: FutureWarning: Dropping invalid columns in DataFrameGroupBy.max is deprecated. In a future version, a TypeError will be raised. Before calling .max, select only columns which should be valid for the function.\n",
      "  print(\"Most common genre between 2007 and 2014 is:\", imdb_movies.groupby(['Year']).max()['Genre'].filter(YEARS).max() )\n"
     ]
    }
   ],
   "source": [
    "# filter by year >= 2007 and year <=2014\n",
    "\n",
    "YEARS = np.arange(2007, 2015)\n",
    "\n",
    "print(imdb_movies.groupby(['Year']).max()['Genre'].filter(YEARS))\n",
    "\n",
    "print()\n",
    "print(\"Most common genre between 2007 and 2014 is:\", imdb_movies.groupby(['Year']).max()['Genre'].filter(YEARS).max() )\n"
   ]
  },
  {
   "cell_type": "markdown",
   "id": "0d4f8a69",
   "metadata": {},
   "source": [
    "### Question 4: which is the actor who has appeared in more movies between 2009 and 2015?"
   ]
  },
  {
   "cell_type": "code",
   "execution_count": 349,
   "id": "c42e8c0b",
   "metadata": {},
   "outputs": [
    {
     "name": "stdout",
     "output_type": "stream",
     "text": [
      "Separated actor columns for testing:\n",
      "\n",
      "                   Actor1                 Actor2                  Actor3  \\\n",
      "Rank                                                                       \n",
      "1             Chris Pratt             Vin Diesel          Bradley Cooper   \n",
      "2            Noomi Rapace   Logan Marshall-Green      Michael Fassbender   \n",
      "27                Prabhas         Rana Daggubati          Anushka Shetty   \n",
      "37    Matthew McConaughey          Anne Hathaway        Jessica Chastain   \n",
      "46            Johnny Depp          Penélope Cruz             Ian McShane   \n",
      "...                   ...                    ...                     ...   \n",
      "993          Topher Grace             Anna Faris              Dan Fogler   \n",
      "994        Milla Jovovich             Ali Larter        Wentworth Miller   \n",
      "995           Thomas Mann          Oliver Cooper   Jonathan Daniel Brown   \n",
      "996      Chiwetel Ejiofor          Nicole Kidman           Julia Roberts   \n",
      "999            Adam Pally            T.J. Miller      Thomas Middleditch   \n",
      "\n",
      "                Actor4  Year  \n",
      "Rank                          \n",
      "1          Zoe Saldana  2014  \n",
      "2      Charlize Theron  2012  \n",
      "27    Tamannaah Bhatia  2015  \n",
      "37       Mackenzie Foy  2014  \n",
      "46       Geoffrey Rush  2011  \n",
      "...                ...   ...  \n",
      "993      Teresa Palmer  2011  \n",
      "994         Kim Coates  2010  \n",
      "995          Dax Flame  2012  \n",
      "996        Dean Norris  2015  \n",
      "999   Shannon Woodward  2014  \n",
      "\n",
      "[554 rows x 5 columns]\n",
      "\n",
      "Max of 1st Actor col: Zooey Deschanel\n",
      "Max of 2nd Actor col: Billy Connolly\n",
      "Max of 3rd Actor col: Seann William Scott\n",
      "Max of 4th Actor col: Xavier Samuel\n",
      "\n",
      "Now merging the four actor columns into one column...\n",
      "\n",
      "Length of the merged actor cols:  2216\n",
      "Most popular actor between years 2009-2015 is:  Zooey Deschanel\n"
     ]
    }
   ],
   "source": [
    "# filter by year => 2009 and year <= 2015\n",
    "\n",
    "#imdb_movies.groupby(['Year']).max()['Actors'].filter(YEARS)\n",
    "\n",
    "#uniqueActors = set(sorted(imdb_movies['Actors'].unique()))\n",
    "\n",
    "#imdb_movies.groupby(['Year']).max()['Actors'].filter(YEARS).max()\n",
    "\n",
    "\n",
    "\n",
    "#split the Actors column into separate columns (one per actor)\n",
    "actors_df = imdb_movies['Actors'].str.split(\",\",expand=True,)\n",
    "#actors_df\n",
    "\n",
    "#add year column from original df\n",
    "actors_df['Year']= imdb_movies['Year']\n",
    "\n",
    "# rename columns for access\n",
    "actors_df.columns = ['Actor1', 'Actor2', 'Actor3', 'Actor4', 'Year']\n",
    "\n",
    "#drop rows if year < 2009 or year > 2015\n",
    "actors_df = actors_df.drop(actors_df[(actors_df['Year'] < 2009) | (actors_df['Year'] > 2015)].index)\n",
    "\n",
    "#testing\n",
    "print(\"Separated actor columns for testing:\")\n",
    "print()\n",
    "print(actors_df)\n",
    "\n",
    "print()\n",
    "print(\"Max of 1st Actor col:\",actors_df['Actor1'].dropna().max())\n",
    "print(\"Max of 2nd Actor col:\",actors_df['Actor2'].dropna().max())\n",
    "print(\"Max of 3rd Actor col:\",actors_df['Actor3'].dropna().max())\n",
    "print(\"Max of 4th Actor col:\",actors_df['Actor4'].dropna().max())\n",
    "\n",
    "\n",
    "# Merge the four actor columns into a list, then find the most frequent\n",
    "\n",
    "print()\n",
    "print(\"Now merging the four actor columns into one column...\")\n",
    "merged_list = pd.concat( [ actors_df['Actor1'], actors_df['Actor2'], actors_df['Actor3'], actors_df['Actor4']])\n",
    "print()\n",
    "print(\"Length of the merged actor cols: \",len(merged_list))\n",
    "print(\"Most popular actor between years 2009-2015 is: \",merged_list.dropna().max())\n"
   ]
  },
  {
   "cell_type": "code",
   "execution_count": null,
   "id": "ef2a965f",
   "metadata": {},
   "outputs": [],
   "source": []
  },
  {
   "cell_type": "code",
   "execution_count": null,
   "id": "8b4ce504",
   "metadata": {},
   "outputs": [],
   "source": []
  }
 ],
 "metadata": {
  "kernelspec": {
   "display_name": "Python 3 (ipykernel)",
   "language": "python",
   "name": "python3"
  },
  "language_info": {
   "codemirror_mode": {
    "name": "ipython",
    "version": 3
   },
   "file_extension": ".py",
   "mimetype": "text/x-python",
   "name": "python",
   "nbconvert_exporter": "python",
   "pygments_lexer": "ipython3",
   "version": "3.10.9"
  },
  "vscode": {
   "interpreter": {
    "hash": "31f2aee4e71d21fbe5cf8b01ff0e069b9275f58929596ceb00d14d90e3e16cd6"
   }
  }
 },
 "nbformat": 4,
 "nbformat_minor": 5
}

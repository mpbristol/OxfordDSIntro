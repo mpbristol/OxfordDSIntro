{
 "cells": [
  {
   "cell_type": "markdown",
   "metadata": {},
   "source": [
    "# Second Assignment: World Progress"
   ]
  },
  {
   "cell_type": "markdown",
   "metadata": {},
   "source": [
    "In this project, you'll explore data from [Gapminder.org](http://gapminder.org), a website dedicated to providing a fact-based view of the world and how it has changed. That site includes several data visualizations and presentations, but also publishes the raw data that we will use in this project to recreate and extend some of their most famous visualizations.\n",
    "\n",
    "The Gapminder website collects data from many sources and compiles them into tables that describe many countries around the world. All of the data they aggregate are published in the [Systema Globalis](https://github.com/open-numbers/ddf--gapminder--systema_globalis/blob/master/README.md). Their goal is \"to compile all public statistics; Social, Economic and Environmental; into a comparable total dataset.\" All data sets in this project are copied directly from the Systema Globalis without any changes.\n",
    "\n",
    "This project is dedicated to [Hans Rosling](https://en.wikipedia.org/wiki/Hans_Rosling) (1948-2017), who championed the use of data to understand and prioritize global development challenges.\n",
    "\n",
    "### Logistics\n",
    "\n",
    "The first assignment was worth 35 points. This second assignment contains 13 questions - each correct answer will be worth 5 points, for a total of 65 points. In order to pass overall you will need to reach at least 40 points out of 100 from the two assignments.\n",
    "\n",
    "**Advice:** Develop your answers incrementally. To perform a complicated table manipulation, break it up into steps, perform each step on a different line, give a new name to each result, and check that each intermediate result is what you expect. You can add any additional names or functions you want to the provided cells. \n",
    "\n",
    "**Submission:** Please send your solutions to the Weekly Classes Office (weeklyclasses@conted.ox.ac.uk) with a signed DoA (Declaration of Authorship) form. Please send the notebook with your name appended to the file name.\n",
    "\n",
    "**Deadline: Please see Canvas**\n",
    "\n",
    "To get started, load `pandas`, `numpy`, and `matplotlib`."
   ]
  },
  {
   "cell_type": "code",
   "execution_count": 1,
   "metadata": {},
   "outputs": [],
   "source": [
    "import pandas as pd\n",
    "import numpy as np\n",
    "%matplotlib inline\n",
    "import matplotlib.pyplot as plots"
   ]
  },
  {
   "cell_type": "markdown",
   "metadata": {
    "deletable": false,
    "editable": false
   },
   "source": [
    "## 1. Global Population Growth\n"
   ]
  },
  {
   "cell_type": "markdown",
   "metadata": {
    "deletable": false,
    "editable": false
   },
   "source": [
    "The global population of humans reached 1 billion around 1800, 3 billion around 1960, and 7 billion around 2011. The potential impact of exponential population growth has concerned scientists, economists, and politicians alike.\n",
    "\n",
    "The UN Population Division estimates that the world population will likely continue to grow throughout the 21st century, but at a slower rate, perhaps reaching 11 billion by 2100. However, the UN does not rule out scenarios of more extreme growth.\n",
    "\n",
    "<a href=\"http://www.pewresearch.org/fact-tank/2015/06/08/scientists-more-worried-than-public-about-worlds-growing-population/ft_15-06-04_popcount/\"> \n",
    " <img src=\"https://www.pewresearch.org/wp-content/uploads/2015/06/fT_15.06.04_popCount.png\"/> \n",
    "</a>\n",
    "\n",
    "In this section, we will examine some of the factors that influence population growth and how they are changing around the world."
   ]
  },
  {
   "cell_type": "markdown",
   "metadata": {
    "deletable": false,
    "editable": false
   },
   "source": [
    "The first table we will consider is the total population of each country over time. Run the cell below."
   ]
  },
  {
   "cell_type": "code",
   "execution_count": 2,
   "metadata": {
    "deletable": false
   },
   "outputs": [
    {
     "data": {
      "text/html": [
       "<div>\n",
       "<style scoped>\n",
       "    .dataframe tbody tr th:only-of-type {\n",
       "        vertical-align: middle;\n",
       "    }\n",
       "\n",
       "    .dataframe tbody tr th {\n",
       "        vertical-align: top;\n",
       "    }\n",
       "\n",
       "    .dataframe thead th {\n",
       "        text-align: right;\n",
       "    }\n",
       "</style>\n",
       "<table border=\"1\" class=\"dataframe\">\n",
       "  <thead>\n",
       "    <tr style=\"text-align: right;\">\n",
       "      <th></th>\n",
       "      <th>geo</th>\n",
       "      <th>time</th>\n",
       "      <th>population_total</th>\n",
       "    </tr>\n",
       "  </thead>\n",
       "  <tbody>\n",
       "    <tr>\n",
       "      <th>0</th>\n",
       "      <td>abw</td>\n",
       "      <td>1800</td>\n",
       "      <td>19286</td>\n",
       "    </tr>\n",
       "    <tr>\n",
       "      <th>1</th>\n",
       "      <td>abw</td>\n",
       "      <td>1801</td>\n",
       "      <td>19286</td>\n",
       "    </tr>\n",
       "    <tr>\n",
       "      <th>2</th>\n",
       "      <td>abw</td>\n",
       "      <td>1802</td>\n",
       "      <td>19286</td>\n",
       "    </tr>\n",
       "  </tbody>\n",
       "</table>\n",
       "</div>"
      ],
      "text/plain": [
       "   geo  time  population_total\n",
       "0  abw  1800             19286\n",
       "1  abw  1801             19286\n",
       "2  abw  1802             19286"
      ]
     },
     "execution_count": 2,
     "metadata": {},
     "output_type": "execute_result"
    }
   ],
   "source": [
    "# The population.csv file should also be found online here:\n",
    "# https://github.com/open-numbers/ddf--gapminder--systema_globalis/raw/master/ddf--datapoints--population_total--by--geo--time.csv\n",
    "# The version in this project was downloaded in February, 2017.\n",
    "population = pd.read_csv('../datasets/population.csv')\n",
    "population.head(3)"
   ]
  },
  {
   "cell_type": "markdown",
   "metadata": {
    "deletable": false,
    "editable": false
   },
   "source": [
    "### Bangladesh\n",
    "\n",
    "In the `population` table, the `geo` column contains three-letter codes established by the [International Organization for Standardization](https://en.wikipedia.org/wiki/International_Organization_for_Standardization) (ISO) in the [Alpha-3](https://en.wikipedia.org/wiki/ISO_3166-1_alpha-3#Current_codes) standard. We will begin by taking a close look at Bangladesh. Inspect the standard to find the 3-letter code for Bangladesh."
   ]
  },
  {
   "cell_type": "markdown",
   "metadata": {
    "deletable": false,
    "editable": false
   },
   "source": [
    "**Question 1.** Create a `DataFrame` called `b_pop` that has two columns labeled `time` and `population_total`. The first column should contain the years from 1970 through 2015 (including both 1970 and 2015) and the second should contain the population of Bangladesh in each of those years."
   ]
  },
  {
   "cell_type": "code",
   "execution_count": 3,
   "metadata": {
    "deletable": false
   },
   "outputs": [
    {
     "data": {
      "text/plain": [
       "<bound method NDFrame.head of       time  population_total\n",
       "7509  1970          65048701\n",
       "7510  1971          66417450\n",
       "7511  1972          67578486\n",
       "7512  1973          68658472\n",
       "7513  1974          69837960\n",
       "7514  1975          71247153\n",
       "7515  1976          72930206\n",
       "7516  1977          74848466\n",
       "7517  1978          76948378\n",
       "7518  1979          79141947\n",
       "7519  1980          81364176\n",
       "7520  1981          83599582\n",
       "7521  1982          85868228\n",
       "7522  1983          88181211\n",
       "7523  1984          90559540\n",
       "7524  1985          93015182\n",
       "7525  1986          95550798\n",
       "7526  1987          98149262\n",
       "7527  1988         100779551\n",
       "7528  1989         103400571\n",
       "7529  1990         105983136\n",
       "7530  1991         108509679\n",
       "7531  1992         110987459\n",
       "7532  1993         113442354\n",
       "7533  1994         115913710\n",
       "7534  1995         118427768\n",
       "7535  1996         120987124\n",
       "7536  1997         123574107\n",
       "7537  1998         126169583\n",
       "7538  1999         128746273\n",
       "7539  2000         131280739\n",
       "7540  2001         133776064\n",
       "7541  2002         136228456\n",
       "7542  2003         138600174\n",
       "7543  2004         140843786\n",
       "7544  2005         142929979\n",
       "7545  2006         144839238\n",
       "7546  2007         146592687\n",
       "7547  2008         148252473\n",
       "7548  2009         149905836\n",
       "7549  2010         151616777\n",
       "7550  2011         153405612\n",
       "7551  2012         155257387\n",
       "7552  2013         157157394\n",
       "7553  2014         159077513\n",
       "7554  2015         160995642>"
      ]
     },
     "execution_count": 3,
     "metadata": {},
     "output_type": "execute_result"
    }
   ],
   "source": [
    "b_pop = population[(population['geo']=='bgd') & (population['time'].between(1970,2015))]\n",
    "b_pop = b_pop[[\"time\", \"population_total\"]]\n",
    "b_pop.head\n",
    "\n"
   ]
  },
  {
   "cell_type": "markdown",
   "metadata": {
    "deletable": false,
    "editable": false
   },
   "source": [
    "Create a table called `b_five` that has the population of Bangladesh every five years. At a glance, it appears that the population of Bangladesh has been growing quickly indeed!"
   ]
  },
  {
   "cell_type": "code",
   "execution_count": 4,
   "metadata": {
    "deletable": false
   },
   "outputs": [
    {
     "data": {
      "text/html": [
       "<div>\n",
       "<style scoped>\n",
       "    .dataframe tbody tr th:only-of-type {\n",
       "        vertical-align: middle;\n",
       "    }\n",
       "\n",
       "    .dataframe tbody tr th {\n",
       "        vertical-align: top;\n",
       "    }\n",
       "\n",
       "    .dataframe thead th {\n",
       "        text-align: right;\n",
       "    }\n",
       "</style>\n",
       "<table border=\"1\" class=\"dataframe\">\n",
       "  <thead>\n",
       "    <tr style=\"text-align: right;\">\n",
       "      <th></th>\n",
       "      <th>time</th>\n",
       "      <th>population_total</th>\n",
       "    </tr>\n",
       "  </thead>\n",
       "  <tbody>\n",
       "    <tr>\n",
       "      <th>7509</th>\n",
       "      <td>1970</td>\n",
       "      <td>65048701</td>\n",
       "    </tr>\n",
       "    <tr>\n",
       "      <th>7514</th>\n",
       "      <td>1975</td>\n",
       "      <td>71247153</td>\n",
       "    </tr>\n",
       "    <tr>\n",
       "      <th>7519</th>\n",
       "      <td>1980</td>\n",
       "      <td>81364176</td>\n",
       "    </tr>\n",
       "    <tr>\n",
       "      <th>7524</th>\n",
       "      <td>1985</td>\n",
       "      <td>93015182</td>\n",
       "    </tr>\n",
       "    <tr>\n",
       "      <th>7529</th>\n",
       "      <td>1990</td>\n",
       "      <td>105983136</td>\n",
       "    </tr>\n",
       "    <tr>\n",
       "      <th>7534</th>\n",
       "      <td>1995</td>\n",
       "      <td>118427768</td>\n",
       "    </tr>\n",
       "    <tr>\n",
       "      <th>7539</th>\n",
       "      <td>2000</td>\n",
       "      <td>131280739</td>\n",
       "    </tr>\n",
       "    <tr>\n",
       "      <th>7544</th>\n",
       "      <td>2005</td>\n",
       "      <td>142929979</td>\n",
       "    </tr>\n",
       "    <tr>\n",
       "      <th>7549</th>\n",
       "      <td>2010</td>\n",
       "      <td>151616777</td>\n",
       "    </tr>\n",
       "    <tr>\n",
       "      <th>7554</th>\n",
       "      <td>2015</td>\n",
       "      <td>160995642</td>\n",
       "    </tr>\n",
       "  </tbody>\n",
       "</table>\n",
       "</div>"
      ],
      "text/plain": [
       "      time  population_total\n",
       "7509  1970          65048701\n",
       "7514  1975          71247153\n",
       "7519  1980          81364176\n",
       "7524  1985          93015182\n",
       "7529  1990         105983136\n",
       "7534  1995         118427768\n",
       "7539  2000         131280739\n",
       "7544  2005         142929979\n",
       "7549  2010         151616777\n",
       "7554  2015         160995642"
      ]
     },
     "execution_count": 4,
     "metadata": {},
     "output_type": "execute_result"
    }
   ],
   "source": [
    "fives = np.arange(1970, 2016, 5) # 1970, 1975, 1980, ...\n",
    "b_five = b_pop.iloc[::5,:]\n",
    "b_five"
   ]
  },
  {
   "cell_type": "markdown",
   "metadata": {
    "deletable": false,
    "editable": false
   },
   "source": [
    "**Question 2.** Create a table called `b_five_growth` that includes three columns, `time`, `population_total`, and `annual_growth`. There should be one row for every five years from 1970 through 2010 (but not 2015). The first two columns are the same as `b_five`. The third column is the **annual** growth rate for each five-year period. For example, the annual growth rate for 1975 is the yearly exponential growth rate that describes the total growth from 1975 to 1980 when applied 5 times.\n",
    "\n",
    "*Hint*: Only your `b_five_growth` table will be scored for correctness; the other names are suggestions that you are welcome to use, change, or delete."
   ]
  },
  {
   "cell_type": "code",
   "execution_count": null,
   "metadata": {
    "deletable": false
   },
   "outputs": [
    {
     "data": {
      "text/html": [
       "<div>\n",
       "<style scoped>\n",
       "    .dataframe tbody tr th:only-of-type {\n",
       "        vertical-align: middle;\n",
       "    }\n",
       "\n",
       "    .dataframe tbody tr th {\n",
       "        vertical-align: top;\n",
       "    }\n",
       "\n",
       "    .dataframe thead th {\n",
       "        text-align: right;\n",
       "    }\n",
       "</style>\n",
       "<table border=\"1\" class=\"dataframe\">\n",
       "  <thead>\n",
       "    <tr style=\"text-align: right;\">\n",
       "      <th></th>\n",
       "      <th>time</th>\n",
       "      <th>population_total</th>\n",
       "      <th>annual_growth</th>\n",
       "    </tr>\n",
       "  </thead>\n",
       "  <tbody>\n",
       "    <tr>\n",
       "      <th>7509</th>\n",
       "      <td>1970</td>\n",
       "      <td>65048701</td>\n",
       "      <td>NaN</td>\n",
       "    </tr>\n",
       "    <tr>\n",
       "      <th>7514</th>\n",
       "      <td>1975</td>\n",
       "      <td>71247153</td>\n",
       "      <td>0.095289</td>\n",
       "    </tr>\n",
       "    <tr>\n",
       "      <th>7519</th>\n",
       "      <td>1980</td>\n",
       "      <td>81364176</td>\n",
       "      <td>0.141999</td>\n",
       "    </tr>\n",
       "    <tr>\n",
       "      <th>7524</th>\n",
       "      <td>1985</td>\n",
       "      <td>93015182</td>\n",
       "      <td>0.143196</td>\n",
       "    </tr>\n",
       "    <tr>\n",
       "      <th>7529</th>\n",
       "      <td>1990</td>\n",
       "      <td>105983136</td>\n",
       "      <td>0.139418</td>\n",
       "    </tr>\n",
       "    <tr>\n",
       "      <th>7534</th>\n",
       "      <td>1995</td>\n",
       "      <td>118427768</td>\n",
       "      <td>0.117421</td>\n",
       "    </tr>\n",
       "    <tr>\n",
       "      <th>7539</th>\n",
       "      <td>2000</td>\n",
       "      <td>131280739</td>\n",
       "      <td>0.108530</td>\n",
       "    </tr>\n",
       "    <tr>\n",
       "      <th>7544</th>\n",
       "      <td>2005</td>\n",
       "      <td>142929979</td>\n",
       "      <td>0.088735</td>\n",
       "    </tr>\n",
       "    <tr>\n",
       "      <th>7549</th>\n",
       "      <td>2010</td>\n",
       "      <td>151616777</td>\n",
       "      <td>0.060777</td>\n",
       "    </tr>\n",
       "  </tbody>\n",
       "</table>\n",
       "</div>"
      ],
      "text/plain": [
       "      time  population_total  annual_growth\n",
       "7509  1970          65048701            NaN\n",
       "7514  1975          71247153       0.095289\n",
       "7519  1980          81364176       0.141999\n",
       "7524  1985          93015182       0.143196\n",
       "7529  1990         105983136       0.139418\n",
       "7534  1995         118427768       0.117421\n",
       "7539  2000         131280739       0.108530\n",
       "7544  2005         142929979       0.088735\n",
       "7549  2010         151616777       0.060777"
      ]
     },
     "execution_count": 5,
     "metadata": {},
     "output_type": "execute_result"
    }
   ],
   "source": [
    "b_five_growth = b_five.copy()\n",
    "#\n",
    "b_five_growth['annual_growth'] = b_five_growth.population_total.pct_change()\n",
    "b_1970_through_2010 = b_five_growth[(b_five_growth['time'].between(1970,2015,\"left\"))]\n",
    "b_1970_through_2010\n"
   ]
  },
  {
   "cell_type": "markdown",
   "metadata": {
    "deletable": false,
    "editable": false
   },
   "source": [
    "While the population has grown every five years since 1970, the annual growth rate decreased dramatically from 1985 to 2005. Let's look at some other information in order to develop a possible explanation. Run the next cell to load three additional tables of measurements about countries over time."
   ]
  },
  {
   "cell_type": "code",
   "execution_count": 6,
   "metadata": {
    "deletable": false
   },
   "outputs": [],
   "source": [
    "life_expectancy = pd.read_csv('../datasets/life_expectancy.csv')\n",
    "child_mortality = pd.read_csv('../datasets/child_mortality.csv')\n",
    "fertility = pd.read_csv('../datasets/fertility.csv')"
   ]
  },
  {
   "cell_type": "markdown",
   "metadata": {
    "deletable": false,
    "editable": false
   },
   "source": [
    "The `life_expectancy` table contains a statistic that is often used to measure how long people live, called *life expectancy at birth*. This number, for a country in a given year, [does not measure how long babies born in that year are expected to live](http://blogs.worldbank.org/opendata/what-does-life-expectancy-birth-really-mean). Instead, it measures how long someone would live, on average, if the *mortality conditions* in that year persisted throughout their lifetime. These \"mortality conditions\" describe what fraction of people at each age survived the year. So, it is a way of measuring the proportion of people that are staying alive, aggregated over different age groups in the population."
   ]
  },
  {
   "cell_type": "markdown",
   "metadata": {
    "deletable": false,
    "editable": false
   },
   "source": [
    "**Question 3.** Perhaps population is growing more slowly because people aren't living as long. Use the `life_expectancy` table to draw a line graph with the years 1970 and later on the horizontal axis that shows how the *life expectancy at birth* has changed in Bangladesh."
   ]
  },
  {
   "cell_type": "code",
   "execution_count": 7,
   "metadata": {
    "deletable": false,
    "manual_grade": true,
    "manual_problem_id": "global_pop_3"
   },
   "outputs": [
    {
     "data": {
      "image/png": "[encoded data removed]",
      "text/plain": [
       "<Figure size 640x480 with 1 Axes>"
      ]
     },
     "metadata": {},
     "output_type": "display_data"
    },
    {
     "data": {
      "text/plain": [
       "<bound method NDFrame.head of        geo  time  children_per_woman_total_fertility\n",
       "0      afg  1800                                7.00\n",
       "1      afg  1801                                7.00\n",
       "2      afg  1802                                7.00\n",
       "3      afg  1803                                7.00\n",
       "4      afg  1804                                7.00\n",
       "...    ...   ...                                 ...\n",
       "43407  zwe  2011                                3.64\n",
       "43408  zwe  2012                                3.56\n",
       "43409  zwe  2013                                3.49\n",
       "43410  zwe  2014                                3.41\n",
       "43411  zwe  2015                                3.35\n",
       "\n",
       "[43412 rows x 3 columns]>"
      ]
     },
     "execution_count": 7,
     "metadata": {},
     "output_type": "execute_result"
    }
   ],
   "source": [
    "life_expectancy.dtypes\n",
    "le = life_expectancy[(life_expectancy.time >1970) & (life_expectancy['geo']=='bgd')]\n",
    "\n",
    "le = le[[\"time\",\"life_expectancy_years\"]]\n",
    "le = le.set_index(le.time)\n",
    "\n",
    "le.plot(y='life_expectancy_years')\n",
    "\n",
    "\n",
    "plots.show()\n",
    "\n",
    "life_expectancy.head\n",
    "fertility.head\n",
    "#child_mortality.head\n"
   ]
  },
  {
   "cell_type": "markdown",
   "metadata": {
    "deletable": false,
    "editable": false
   },
   "source": [
    "Does the graph above help directly explain why the population growth rate decreased from 1985 to 2010 in Bangladesh? Why or why not? What happened in Bangladesh in 1991, and does that event explain the change in population growth rate?"
   ]
  },
  {
   "cell_type": "markdown",
   "metadata": {},
   "source": [
    "## Bangladesh Life Expectancy 1985 to 2010\n",
    "\n",
    "The 1991 Bangladesh Cyclone has been noted as one of the deadliest tropical cyclones in recorded history, causing at least 138,866 deaths [Wikipedia Bangladesh Cyclone](https://en.wikipedia.org/wiki/1991_Bangladesh_cyclone). Whilst the 1991 disaster will undoubtedly have impacted the growth in the population during and after this period, reducing the number of people available to concieve during these years, the change in life has increased from 45 as an average life expectancy in 1970 to 70 in 2010 (as shown in the graph above).  [Wikipedia's 1980's Bangladesh ](https://en.wikipedia.org/wiki/1980s_in_Bangladesh#Demographics) attributes the reduction in the population to a decrease in the fertitilty rate (births per woman) from 6.4 to 4.7."
   ]
  },
  {
   "cell_type": "markdown",
   "metadata": {
    "deletable": false,
    "editable": false
   },
   "source": [
    "The `fertility` table contains a statistic that is often used to measure how many babies are being born, the *total fertility rate*. This number describes the [number of children a woman would have in her lifetime](https://www.measureevaluation.org/prh/rh_indicators/specific/fertility/total-fertility-rate), on average, if the current rates of birth by age of the mother persisted throughout her child bearing years, assuming she survived through age 49. "
   ]
  },
  {
   "cell_type": "markdown",
   "metadata": {
    "deletable": false,
    "editable": false
   },
   "source": [
    "**Question 4.** Write a function `fertility_over_time` that takes the Alpha-3 code of a `country` and a `start` year. It returns a two-column table with labels \"`Year`\" and \"`Children per woman`\" that can be used to generate a line chart of the country's fertility rate each year, starting at the `start` year. The plot should include the `start` year and all later years that appear in the `fertility` table. \n",
    "\n",
    "Then, in the next cell, call your `fertility_over_time` function on the Alpha-3 code for Bangladesh and the year 1970 in order to plot how Bangladesh's fertility rate has changed since 1970. **The expression that draws the line plot is provided for you; please don't change it.**"
   ]
  },
  {
   "cell_type": "code",
   "execution_count": 8,
   "metadata": {
    "deletable": false
   },
   "outputs": [],
   "source": [
    "def fertility_over_time(country: str, start: int) -> pd.DataFrame:\n",
    "    \"\"\"\n",
    "    Create a two-column DataFrame that describes a country's total fertility rate each year.\n",
    "    :param country - alpha-3 code for the country\n",
    "    :param start - start year\n",
    "    \"\"\"\n",
    "    # Filter rows where Age is greater than 30\n",
    "    filtered_df = fertility[(fertility['geo']==country) & (fertility['time'] >= start)]\n",
    "    filtered_df =  filtered_df[[\"time\", \"children_per_woman_total_fertility\"]]\n",
    "    return filtered_df\n",
    "  "
   ]
  },
  {
   "cell_type": "code",
   "execution_count": 9,
   "metadata": {
    "deletable": false
   },
   "outputs": [
    {
     "data": {
      "image/png": "[encoded data removed]",
      "text/plain": [
       "<Figure size 640x480 with 1 Axes>"
      ]
     },
     "metadata": {},
     "output_type": "display_data"
    }
   ],
   "source": [
    "bangladesh_code = fertility_over_time('bgd',1970)\n",
    "bangladesh_code.plot(0, 1) # You should *not* change this line.\n",
    "plots.show()\n"
   ]
  },
  {
   "cell_type": "markdown",
   "metadata": {
    "deletable": false,
    "editable": false
   },
   "source": [
    "**Question 5.** Does the graph above help directly explain why the population growth rate decreased from 1985 to 2010 in Bangladesh? Why or why not?"
   ]
  },
  {
   "cell_type": "markdown",
   "metadata": {
    "deletable": false,
    "manual_grade": true,
    "manual_problem_id": "global_pop_6"
   },
   "source": [
    "# Bangladesh Life Expectancy 1985 to 2010\n",
    "\n",
    "This does not fully exaplain the growth rate decrease.  Whilst the number of births (children per woman) has fallen in this period, this is offset by the infant mortality rate (child deaths from 0-5 years of age) which has fallen by a 25% mortality reducing from 199 per 1,000 births to 150 [Wikipedia's 1980's Bangladesh ](https://en.wikipedia.org/wiki/1980s_in_Bangladesh#Demographics)."
   ]
  },
  {
   "cell_type": "markdown",
   "metadata": {
    "deletable": false,
    "editable": false
   },
   "source": [
    "It has been observed that lower fertility rates are often associated with lower child mortality rates. The link has been attributed to family planning: if parents can expect that their children will all survive into adulthood, then they will choose to have fewer children. We can see if this association is evident in Bangladesh by plotting the relationship between total fertility rate and [child mortality rate per 1000 children](https://en.wikipedia.org/wiki/Child_mortality)."
   ]
  },
  {
   "cell_type": "markdown",
   "metadata": {
    "deletable": false,
    "editable": false
   },
   "source": [
    "**Question 6.** Using both the `fertility` and `child_mortality` tables, draw a scatter diagram with one point for each year, starting with 1970, that has Bangladesh's total fertility on the horizontal axis and its child mortality on the vertical axis. \n",
    "\n",
    "**The expression that draws the scatter diagram is provided for you; please don't change it.** Instead, create a table called `fertility_and_child_mortality` with the appropriate column labels and data in order to generate the chart correctly. Use the label \"`Children per woman`\" to describe total fertility and the label \"`Child deaths per 1000 born`\" to describe child mortality."
   ]
  },
  {
   "cell_type": "code",
   "execution_count": 10,
   "metadata": {
    "deletable": false
   },
   "outputs": [
    {
     "data": {
      "image/png": "[encoded data removed]",
      "text/plain": [
       "<Figure size 640x480 with 1 Axes>"
      ]
     },
     "metadata": {},
     "output_type": "display_data"
    },
    {
     "data": {
      "text/plain": [
       "<bound method NDFrame.head of       time  Children per woman  Child deaths per 1000 born\n",
       "2978  1970                6.95                       224.1\n",
       "2979  1971                6.94                       223.0\n",
       "2980  1972                6.93                       222.0\n",
       "2981  1973                6.90                       220.7\n",
       "2982  1974                6.87                       219.1\n",
       "2983  1975                6.82                       217.1\n",
       "2984  1976                6.76                       214.5\n",
       "2985  1977                6.68                       211.2\n",
       "2986  1978                6.59                       207.4\n",
       "2987  1979                6.48                       203.3\n",
       "2988  1980                6.36                       198.9\n",
       "2989  1981                6.22                       194.2\n",
       "2990  1982                6.06                       189.4\n",
       "2991  1983                5.89                       184.4\n",
       "2992  1984                5.71                       179.1\n",
       "2993  1985                5.52                       173.5\n",
       "2994  1986                5.33                       167.7\n",
       "2995  1987                5.13                       161.8\n",
       "2996  1988                4.93                       155.8\n",
       "2997  1989                4.74                       149.7\n",
       "2998  1990                4.55                       143.7\n",
       "2999  1991                4.37                       137.7\n",
       "3000  1992                4.20                       131.7\n",
       "3001  1993                4.03                       125.8\n",
       "3002  1994                3.88                       119.9\n",
       "3003  1995                3.73                       114.2\n",
       "3004  1996                3.60                       108.6\n",
       "3005  1997                3.47                       103.2\n",
       "3006  1998                3.35                        97.9\n",
       "3007  1999                3.23                        92.8\n",
       "3008  2000                3.12                        88.0\n",
       "3009  2001                3.01                        83.5\n",
       "3010  2002                2.91                        79.0\n",
       "3011  2003                2.80                        74.8\n",
       "3012  2004                2.70                        70.7\n",
       "3013  2005                2.61                        66.8\n",
       "3014  2006                2.52                        63.0\n",
       "3015  2007                2.44                        59.4\n",
       "3016  2008                2.38                        55.9\n",
       "3017  2009                2.32                        52.6\n",
       "3018  2010                2.28                        49.6\n",
       "3019  2011                2.24                        46.7\n",
       "3020  2012                2.21                        44.0\n",
       "3021  2013                2.18                        41.6\n",
       "3022  2014                2.15                        39.5\n",
       "3023  2015                2.12                        37.6>"
      ]
     },
     "execution_count": 10,
     "metadata": {},
     "output_type": "execute_result"
    }
   ],
   "source": [
    "\n",
    "fc_merge =  pd.merge(left=fertility, right=child_mortality, how='left', left_on=['geo','time'], right_on=['geo','time'])\n",
    "fc_merge = fc_merge[(fc_merge['geo']=='bgd') & (fc_merge['time'] >= 1970)]\n",
    "fc_merge = fc_merge[[\"time\", \"children_per_woman_total_fertility\", \"child_mortality_0_5_year_olds_dying_per_1000_born\"]]\n",
    "fertility_and_child_mortality = fc_merge.rename(columns={'children_per_woman_total_fertility':'Children per woman','child_mortality_0_5_year_olds_dying_per_1000_born':'Child deaths per 1000 born'})\n",
    "\n",
    "# You should *not* change the statement below\n",
    "fertility_and_child_mortality.plot.scatter(\n",
    "    'Children per woman', 'Child deaths per 1000 born'\n",
    ") \n",
    "\n",
    "plots.show()\n",
    "fertility_and_child_mortality.head"
   ]
  },
  {
   "cell_type": "markdown",
   "metadata": {
    "deletable": false,
    "editable": false
   },
   "source": [
    "In one or two sentences, describe the association (if any) that is illustrated by this scatter diagram. Does the diagram show that reduced child mortality causes parents to choose to have fewer children?"
   ]
  },
  {
   "cell_type": "markdown",
   "metadata": {
    "deletable": false
   },
   "source": [
    "## Bangladesh Life Expectancy 1985 to 2010\n",
    "\n",
    "The scatter diagram showing Children per woman compared to Child deaths per 1000 born **supports** the theory that lower fertility rates are associated with lower child mortality rates. In 1970 Children per woman is on avergage 6.95 when the the mortality rate per 1000 is 224.1, this compares with the lower birth and mortiality rate of 2.12 and 37.6 in 2015"
   ]
  },
  {
   "cell_type": "markdown",
   "metadata": {
    "deletable": false,
    "editable": false
   },
   "source": [
    "### The World\n",
    "\n",
    "The change observed in Bangladesh since 1970 can also be observed in many other developing countries: health services improve, life expectancy increases, and child mortality decreases. At the same time, the fertility rate often plummets, and so the population growth rate decreases despite increasing longevity."
   ]
  },
  {
   "cell_type": "markdown",
   "metadata": {
    "deletable": false,
    "editable": false
   },
   "source": [
    "Run the cell below to generate two overlaid histograms, one for 1960 and one for 2010, that show the distributions of total fertility rates for these two years among all 201 countries in the `fertility` table."
   ]
  },
  {
   "cell_type": "code",
   "execution_count": 11,
   "metadata": {},
   "outputs": [
    {
     "data": {
      "text/html": [
       "<div>\n",
       "<style scoped>\n",
       "    .dataframe tbody tr th:only-of-type {\n",
       "        vertical-align: middle;\n",
       "    }\n",
       "\n",
       "    .dataframe tbody tr th {\n",
       "        vertical-align: top;\n",
       "    }\n",
       "\n",
       "    .dataframe thead th {\n",
       "        text-align: right;\n",
       "    }\n",
       "</style>\n",
       "<table border=\"1\" class=\"dataframe\">\n",
       "  <thead>\n",
       "    <tr style=\"text-align: right;\">\n",
       "      <th></th>\n",
       "      <th>geo</th>\n",
       "      <th>time</th>\n",
       "      <th>children_per_woman_total_fertility</th>\n",
       "    </tr>\n",
       "  </thead>\n",
       "  <tbody>\n",
       "    <tr>\n",
       "      <th>160</th>\n",
       "      <td>afg</td>\n",
       "      <td>1960</td>\n",
       "      <td>7.67</td>\n",
       "    </tr>\n",
       "    <tr>\n",
       "      <th>376</th>\n",
       "      <td>alb</td>\n",
       "      <td>1960</td>\n",
       "      <td>6.19</td>\n",
       "    </tr>\n",
       "    <tr>\n",
       "      <th>592</th>\n",
       "      <td>dza</td>\n",
       "      <td>1960</td>\n",
       "      <td>7.65</td>\n",
       "    </tr>\n",
       "    <tr>\n",
       "      <th>808</th>\n",
       "      <td>ago</td>\n",
       "      <td>1960</td>\n",
       "      <td>7.32</td>\n",
       "    </tr>\n",
       "    <tr>\n",
       "      <th>1024</th>\n",
       "      <td>atg</td>\n",
       "      <td>1960</td>\n",
       "      <td>4.43</td>\n",
       "    </tr>\n",
       "    <tr>\n",
       "      <th>...</th>\n",
       "      <td>...</td>\n",
       "      <td>...</td>\n",
       "      <td>...</td>\n",
       "    </tr>\n",
       "    <tr>\n",
       "      <th>42492</th>\n",
       "      <td>vnm</td>\n",
       "      <td>1960</td>\n",
       "      <td>6.35</td>\n",
       "    </tr>\n",
       "    <tr>\n",
       "      <th>42708</th>\n",
       "      <td>vir</td>\n",
       "      <td>1960</td>\n",
       "      <td>5.62</td>\n",
       "    </tr>\n",
       "    <tr>\n",
       "      <th>42924</th>\n",
       "      <td>yem</td>\n",
       "      <td>1960</td>\n",
       "      <td>7.29</td>\n",
       "    </tr>\n",
       "    <tr>\n",
       "      <th>43140</th>\n",
       "      <td>zmb</td>\n",
       "      <td>1960</td>\n",
       "      <td>7.02</td>\n",
       "    </tr>\n",
       "    <tr>\n",
       "      <th>43356</th>\n",
       "      <td>zwe</td>\n",
       "      <td>1960</td>\n",
       "      <td>7.16</td>\n",
       "    </tr>\n",
       "  </tbody>\n",
       "</table>\n",
       "<p>201 rows × 3 columns</p>\n",
       "</div>"
      ],
      "text/plain": [
       "       geo  time  children_per_woman_total_fertility\n",
       "160    afg  1960                                7.67\n",
       "376    alb  1960                                6.19\n",
       "592    dza  1960                                7.65\n",
       "808    ago  1960                                7.32\n",
       "1024   atg  1960                                4.43\n",
       "...    ...   ...                                 ...\n",
       "42492  vnm  1960                                6.35\n",
       "42708  vir  1960                                5.62\n",
       "42924  yem  1960                                7.29\n",
       "43140  zmb  1960                                7.02\n",
       "43356  zwe  1960                                7.16\n",
       "\n",
       "[201 rows x 3 columns]"
      ]
     },
     "execution_count": 11,
     "metadata": {},
     "output_type": "execute_result"
    }
   ],
   "source": [
    "fertility[fertility.time == 1960]\n"
   ]
  },
  {
   "cell_type": "code",
   "execution_count": 12,
   "metadata": {},
   "outputs": [
    {
     "data": {
      "text/html": [
       "<div>\n",
       "<style scoped>\n",
       "    .dataframe tbody tr th:only-of-type {\n",
       "        vertical-align: middle;\n",
       "    }\n",
       "\n",
       "    .dataframe tbody tr th {\n",
       "        vertical-align: top;\n",
       "    }\n",
       "\n",
       "    .dataframe thead th {\n",
       "        text-align: right;\n",
       "    }\n",
       "</style>\n",
       "<table border=\"1\" class=\"dataframe\">\n",
       "  <thead>\n",
       "    <tr style=\"text-align: right;\">\n",
       "      <th></th>\n",
       "      <th>children_per_woman_total_fertility</th>\n",
       "    </tr>\n",
       "    <tr>\n",
       "      <th>geo</th>\n",
       "      <th></th>\n",
       "    </tr>\n",
       "  </thead>\n",
       "  <tbody>\n",
       "    <tr>\n",
       "      <th>afg</th>\n",
       "      <td>7.67</td>\n",
       "    </tr>\n",
       "    <tr>\n",
       "      <th>alb</th>\n",
       "      <td>6.19</td>\n",
       "    </tr>\n",
       "    <tr>\n",
       "      <th>dza</th>\n",
       "      <td>7.65</td>\n",
       "    </tr>\n",
       "    <tr>\n",
       "      <th>ago</th>\n",
       "      <td>7.32</td>\n",
       "    </tr>\n",
       "    <tr>\n",
       "      <th>atg</th>\n",
       "      <td>4.43</td>\n",
       "    </tr>\n",
       "    <tr>\n",
       "      <th>...</th>\n",
       "      <td>...</td>\n",
       "    </tr>\n",
       "    <tr>\n",
       "      <th>vnm</th>\n",
       "      <td>6.35</td>\n",
       "    </tr>\n",
       "    <tr>\n",
       "      <th>vir</th>\n",
       "      <td>5.62</td>\n",
       "    </tr>\n",
       "    <tr>\n",
       "      <th>yem</th>\n",
       "      <td>7.29</td>\n",
       "    </tr>\n",
       "    <tr>\n",
       "      <th>zmb</th>\n",
       "      <td>7.02</td>\n",
       "    </tr>\n",
       "    <tr>\n",
       "      <th>zwe</th>\n",
       "      <td>7.16</td>\n",
       "    </tr>\n",
       "  </tbody>\n",
       "</table>\n",
       "<p>201 rows × 1 columns</p>\n",
       "</div>"
      ],
      "text/plain": [
       "     children_per_woman_total_fertility\n",
       "geo                                    \n",
       "afg                                7.67\n",
       "alb                                6.19\n",
       "dza                                7.65\n",
       "ago                                7.32\n",
       "atg                                4.43\n",
       "..                                  ...\n",
       "vnm                                6.35\n",
       "vir                                5.62\n",
       "yem                                7.29\n",
       "zmb                                7.02\n",
       "zwe                                7.16\n",
       "\n",
       "[201 rows x 1 columns]"
      ]
     },
     "execution_count": 12,
     "metadata": {},
     "output_type": "execute_result"
    }
   ],
   "source": [
    "fertility[fertility.time == 1960].iloc[:, [0, 2]].set_index(\"geo\")"
   ]
  },
  {
   "cell_type": "code",
   "execution_count": 13,
   "metadata": {
    "deletable": false
   },
   "outputs": [
    {
     "data": {
      "image/png": "[encoded data removed]",
      "text/plain": [
       "<Figure size 640x480 with 2 Axes>"
      ]
     },
     "metadata": {},
     "output_type": "display_data"
    }
   ],
   "source": [
    "ax = pd.concat([\n",
    "    fertility[fertility.time == 1960].iloc[:, [0, 2]].rename(\n",
    "        columns={\"children_per_woman_total_fertility\": \"1960\"}\n",
    "    ).set_index(\"geo\"),\n",
    "    fertility[fertility.time == 2010].iloc[:, [0, 2]].rename(\n",
    "        columns={\"children_per_woman_total_fertility\": \"2010\"}\n",
    "    ).set_index(\"geo\")\n",
    "], axis=1).hist(bins=np.arange(0, 10, 0.5))\n",
    "for ix in range(len(ax[0])):\n",
    "    ax[0][ix].set_xlabel('Children per woman')\n",
    "    ax[0][ix].set_xticks(np.arange(10))\n",
    "    \n",
    "plots.show()\n"
   ]
  },
  {
   "cell_type": "markdown",
   "metadata": {
    "deletable": false,
    "editable": false
   },
   "source": [
    "**Question 7.** Assign `fertility_statements` to a list of the numbers for each statement below that can be correctly inferred from these histograms.\n",
    "1. About the same number of countries had a fertility rate between 3.5 and 4.5 in both 1960 and 2010. (False)\n",
    "1. In 2010, about 40% of countries had a fertility rate between 1.5 and 2. (True)\n",
    "1. In 1960, less than 20% of countries had a fertility rate below 3 (False).\n",
    "1. More countries had a fertility rate above 3 in 1960 than in 2010.(True)\n",
    "1. At least half of countries had a fertility rate between 5 and 8 in 1960. (True)\n",
    "1. At least half of countries had a fertility rate below 3 in 2010. (True)"
   ]
  },
  {
   "cell_type": "code",
   "execution_count": 14,
   "metadata": {
    "deletable": false
   },
   "outputs": [
    {
     "name": "stdout",
     "output_type": "stream",
     "text": [
      "['In 2010, about 40% of countries had a fertility rate between 1.5 and 2.', 'More countries had a fertility rate above 3 in 1960 than in 2010.', 'At least half of countries had a fertility rate between 5 and 8 in 1960', 'At least half of countries had a fertility rate below 3 in 2010.']\n"
     ]
    }
   ],
   "source": [
    "fertility_statements = ['In 2010, about 40% of countries had a fertility rate between 1.5 and 2.',\n",
    "'More countries had a fertility rate above 3 in 1960 than in 2010.',\n",
    "'At least half of countries had a fertility rate between 5 and 8 in 1960',\n",
    "'At least half of countries had a fertility rate below 3 in 2010.']\n",
    "print(fertility_statements)"
   ]
  },
  {
   "cell_type": "markdown",
   "metadata": {
    "deletable": false,
    "editable": false
   },
   "source": [
    "**Question 8.** Draw a line plot of the world population from 1800 through 2005. The world population is the sum of all the country's populations. "
   ]
  },
  {
   "cell_type": "code",
   "execution_count": 15,
   "metadata": {
    "deletable": false,
    "manual_grade": true,
    "manual_problem_id": "global_pop_10"
   },
   "outputs": [
    {
     "data": {
      "image/png": "[encoded data removed]",
      "text/plain": [
       "<Figure size 640x480 with 1 Axes>"
      ]
     },
     "metadata": {},
     "output_type": "display_data"
    },
    {
     "data": {
      "text/html": [
       "<div>\n",
       "<style scoped>\n",
       "    .dataframe tbody tr th:only-of-type {\n",
       "        vertical-align: middle;\n",
       "    }\n",
       "\n",
       "    .dataframe tbody tr th {\n",
       "        vertical-align: top;\n",
       "    }\n",
       "\n",
       "    .dataframe thead th {\n",
       "        text-align: right;\n",
       "    }\n",
       "</style>\n",
       "<table border=\"1\" class=\"dataframe\">\n",
       "  <thead>\n",
       "    <tr style=\"text-align: right;\">\n",
       "      <th></th>\n",
       "      <th>time</th>\n",
       "      <th>population_total</th>\n",
       "    </tr>\n",
       "  </thead>\n",
       "  <tbody>\n",
       "    <tr>\n",
       "      <th>31</th>\n",
       "      <td>1831</td>\n",
       "      <td>1239926690</td>\n",
       "    </tr>\n",
       "    <tr>\n",
       "      <th>45</th>\n",
       "      <td>1845</td>\n",
       "      <td>1325918944</td>\n",
       "    </tr>\n",
       "    <tr>\n",
       "      <th>115</th>\n",
       "      <td>1915</td>\n",
       "      <td>2081605199</td>\n",
       "    </tr>\n",
       "    <tr>\n",
       "      <th>10</th>\n",
       "      <td>1810</td>\n",
       "      <td>1101058131</td>\n",
       "    </tr>\n",
       "    <tr>\n",
       "      <th>63</th>\n",
       "      <td>1863</td>\n",
       "      <td>1407228316</td>\n",
       "    </tr>\n",
       "    <tr>\n",
       "      <th>25</th>\n",
       "      <td>1825</td>\n",
       "      <td>1192841191</td>\n",
       "    </tr>\n",
       "    <tr>\n",
       "      <th>186</th>\n",
       "      <td>1986</td>\n",
       "      <td>5474157600</td>\n",
       "    </tr>\n",
       "    <tr>\n",
       "      <th>91</th>\n",
       "      <td>1891</td>\n",
       "      <td>1684922511</td>\n",
       "    </tr>\n",
       "    <tr>\n",
       "      <th>17</th>\n",
       "      <td>1817</td>\n",
       "      <td>1136513859</td>\n",
       "    </tr>\n",
       "    <tr>\n",
       "      <th>86</th>\n",
       "      <td>1886</td>\n",
       "      <td>1622511759</td>\n",
       "    </tr>\n",
       "  </tbody>\n",
       "</table>\n",
       "</div>"
      ],
      "text/plain": [
       "     time  population_total\n",
       "31   1831        1239926690\n",
       "45   1845        1325918944\n",
       "115  1915        2081605199\n",
       "10   1810        1101058131\n",
       "63   1863        1407228316\n",
       "25   1825        1192841191\n",
       "186  1986        5474157600\n",
       "91   1891        1684922511\n",
       "17   1817        1136513859\n",
       "86   1886        1622511759"
      ]
     },
     "execution_count": 15,
     "metadata": {},
     "output_type": "execute_result"
    }
   ],
   "source": [
    "# write your solution here>\n",
    "\n",
    "population = pd.read_csv('../datasets/population.csv')\n",
    "filter = population[(population[\"time\"]).between(1800,2005)]\n",
    "population_total = filter\n",
    "population_total = filter.groupby([\"time\"], as_index=False).sum()\n",
    "population_total = population_total.drop('geo', axis=1)\n",
    "population_total.head()\n",
    "\n",
    "# plot a line graph\n",
    "plots.plot(population_total[\"time\"], population_total[\"population_total\"])\n",
    "plots.title(\"Worldwide Population Growth\")\n",
    "plots.xlabel(\"Time\")\n",
    "plots.ylabel(\"Population (Billions)\")\n",
    "plots.show()\n",
    "population_total.sample(10)\n",
    "\n",
    "\n"
   ]
  },
  {
   "cell_type": "markdown",
   "metadata": {
    "deletable": false,
    "editable": false
   },
   "source": [
    "**Question 9.** Create a function `stats_for_year` that takes a `year` and returns a table of statistics. The table it returns should have four columns: `geo`, `population_total`, `children_per_woman_total_fertility`, and `child_mortality_under_5_per_1000_born`. Each row should contain one Alpha-3 country code and three statistics: population, fertility rate, and child mortality for that `year` from the `population`, `fertility` and `child_mortality` tables. Only include rows for which all three statistics are available for the country and year.\n",
    "\n",
    "In addition, restrict the result to country codes that appears in `big_50`, an array of the 50 most populous countries in 2010. This restriction will speed up computations later in the project."
   ]
  },
  {
   "cell_type": "code",
   "execution_count": 16,
   "metadata": {},
   "outputs": [
    {
     "data": {
      "text/html": [
       "<div>\n",
       "<style scoped>\n",
       "    .dataframe tbody tr th:only-of-type {\n",
       "        vertical-align: middle;\n",
       "    }\n",
       "\n",
       "    .dataframe tbody tr th {\n",
       "        vertical-align: top;\n",
       "    }\n",
       "\n",
       "    .dataframe thead th {\n",
       "        text-align: right;\n",
       "    }\n",
       "</style>\n",
       "<table border=\"1\" class=\"dataframe\">\n",
       "  <thead>\n",
       "    <tr style=\"text-align: right;\">\n",
       "      <th></th>\n",
       "      <th>geo</th>\n",
       "      <th>time</th>\n",
       "      <th>population_total</th>\n",
       "    </tr>\n",
       "  </thead>\n",
       "  <tbody>\n",
       "    <tr>\n",
       "      <th>39173</th>\n",
       "      <td>irq</td>\n",
       "      <td>2010</td>\n",
       "      <td>30868156</td>\n",
       "    </tr>\n",
       "    <tr>\n",
       "      <th>57328</th>\n",
       "      <td>nga</td>\n",
       "      <td>2010</td>\n",
       "      <td>159424742</td>\n",
       "    </tr>\n",
       "    <tr>\n",
       "      <th>67852</th>\n",
       "      <td>sau</td>\n",
       "      <td>2010</td>\n",
       "      <td>28090647</td>\n",
       "    </tr>\n",
       "    <tr>\n",
       "      <th>82255</th>\n",
       "      <td>usa</td>\n",
       "      <td>2010</td>\n",
       "      <td>309876170</td>\n",
       "    </tr>\n",
       "    <tr>\n",
       "      <th>85774</th>\n",
       "      <td>yem</td>\n",
       "      <td>2010</td>\n",
       "      <td>23591972</td>\n",
       "    </tr>\n",
       "  </tbody>\n",
       "</table>\n",
       "</div>"
      ],
      "text/plain": [
       "       geo  time  population_total\n",
       "39173  irq  2010          30868156\n",
       "57328  nga  2010         159424742\n",
       "67852  sau  2010          28090647\n",
       "82255  usa  2010         309876170\n",
       "85774  yem  2010          23591972"
      ]
     },
     "execution_count": 16,
     "metadata": {},
     "output_type": "execute_result"
    }
   ],
   "source": [
    "big_50 = population[(population[\"time\"] == 2010)].sort_values(\n",
    "    by=\"population_total\", ascending=False\n",
    ").head(50)\n",
    "population_of_big_50 = big_50.population_total\n",
    "big_50.sample(5)"
   ]
  },
  {
   "cell_type": "code",
   "execution_count": 17,
   "metadata": {
    "deletable": false
   },
   "outputs": [],
   "source": [
    "# We first create a population table that only includes the \n",
    "# 50 countries with the largest 2010 populations. We focus on \n",
    "# these 50 countries only so that plotting later will run faster.\n",
    "\n",
    "def stats_for_year(year: int) -> pd.DataFrame:\n",
    "\n",
    "    big_50 = population[population[\"time\"] == year].sort_values(\n",
    "        by=\"population_total\", ascending=False\n",
    "    ).head(50)\n",
    "    #population_of_big_50 = big_50.population_total\n",
    "\n",
    "\n",
    "\n",
    "    s_fert_50 =  pd.merge(left=big_50, right=fertility , how='left', left_on=['geo','time'], right_on=['geo','time'])\n",
    "    s_child_50 =  pd.merge(left=s_fert_50, right=child_mortality , how='left', left_on=['geo','time'], right_on=['geo','time'])\n",
    "    stats_50 = s_child_50.rename(columns={'child_mortality_0_5_year_olds_dying_per_1000_born':'child_mortality_under_5_per_1000_born'})\n",
    "    stats_50s = stats_50.drop('time', axis=1)\n",
    "    \n",
    "    return stats_50s"
   ]
  },
  {
   "cell_type": "markdown",
   "metadata": {},
   "source": [
    "**Question 10.** Create a table called `pop_by_decade` with two columns called `decade` and `population`. It has a row for each `year` since 1960 that starts a decade. The `population` column contains the total population of all countries included in the result of `stats_for_year(year)` for the first `year` of the decade. For example, 1960 is the first year of the 1960's decade. You should see that these countries contain most of the world's population.\n",
    "\n",
    "*Hint:* One approach is to define a function `pop_for_year` that computes this total population, then `apply` it to the `decade` column. "
   ]
  },
  {
   "cell_type": "code",
   "execution_count": 18,
   "metadata": {
    "deletable": false
   },
   "outputs": [
    {
     "data": {
      "text/html": [
       "<div>\n",
       "<style scoped>\n",
       "    .dataframe tbody tr th:only-of-type {\n",
       "        vertical-align: middle;\n",
       "    }\n",
       "\n",
       "    .dataframe tbody tr th {\n",
       "        vertical-align: top;\n",
       "    }\n",
       "\n",
       "    .dataframe thead th {\n",
       "        text-align: right;\n",
       "    }\n",
       "</style>\n",
       "<table border=\"1\" class=\"dataframe\">\n",
       "  <thead>\n",
       "    <tr style=\"text-align: right;\">\n",
       "      <th></th>\n",
       "      <th>decade</th>\n",
       "      <th>population</th>\n",
       "    </tr>\n",
       "  </thead>\n",
       "  <tbody>\n",
       "    <tr>\n",
       "      <th>0</th>\n",
       "      <td>1960</td>\n",
       "      <td>2978407502</td>\n",
       "    </tr>\n",
       "    <tr>\n",
       "      <th>1</th>\n",
       "      <td>1970</td>\n",
       "      <td>3601581864</td>\n",
       "    </tr>\n",
       "    <tr>\n",
       "      <th>2</th>\n",
       "      <td>1980</td>\n",
       "      <td>4288665603</td>\n",
       "    </tr>\n",
       "    <tr>\n",
       "      <th>3</th>\n",
       "      <td>1990</td>\n",
       "      <td>5077548174</td>\n",
       "    </tr>\n",
       "    <tr>\n",
       "      <th>4</th>\n",
       "      <td>2000</td>\n",
       "      <td>5786944529</td>\n",
       "    </tr>\n",
       "    <tr>\n",
       "      <th>5</th>\n",
       "      <td>2010</td>\n",
       "      <td>6040810517</td>\n",
       "    </tr>\n",
       "  </tbody>\n",
       "</table>\n",
       "</div>"
      ],
      "text/plain": [
       "   decade  population\n",
       "0    1960  2978407502\n",
       "1    1970  3601581864\n",
       "2    1980  4288665603\n",
       "3    1990  5077548174\n",
       "4    2000  5786944529\n",
       "5    2010  6040810517"
      ]
     },
     "execution_count": 18,
     "metadata": {},
     "output_type": "execute_result"
    }
   ],
   "source": [
    "decades = pd.DataFrame({\n",
    "    'decade': np.arange(1960, 2011, 10)\n",
    "    }\n",
    ")\n",
    "#decades\n",
    "def pop_for_year(year):\n",
    "\n",
    "    df_1 = stats_for_year(year)\n",
    "    total = df_1['population_total'].sum()\n",
    "    return total\n",
    "\n",
    "decades['population'] = decades['decade'].apply(pop_for_year) \n",
    "\n",
    "decades\n"
   ]
  },
  {
   "cell_type": "markdown",
   "metadata": {
    "deletable": false,
    "editable": false
   },
   "source": [
    "The `countries` table describes various characteristics of countries. The `country` column contains the same codes as the `geo` column in each of the other data tables (`population`, `fertility`, and `child_mortality`). The `world_6region` column classifies each country into a region of the world. Run the cell below to inspect the data."
   ]
  },
  {
   "cell_type": "code",
   "execution_count": 19,
   "metadata": {
    "deletable": false
   },
   "outputs": [
    {
     "data": {
      "text/html": [
       "<div>\n",
       "<style scoped>\n",
       "    .dataframe tbody tr th:only-of-type {\n",
       "        vertical-align: middle;\n",
       "    }\n",
       "\n",
       "    .dataframe tbody tr th {\n",
       "        vertical-align: top;\n",
       "    }\n",
       "\n",
       "    .dataframe thead th {\n",
       "        text-align: right;\n",
       "    }\n",
       "</style>\n",
       "<table border=\"1\" class=\"dataframe\">\n",
       "  <thead>\n",
       "    <tr style=\"text-align: right;\">\n",
       "      <th></th>\n",
       "      <th>country</th>\n",
       "      <th>name</th>\n",
       "      <th>world_6region</th>\n",
       "    </tr>\n",
       "  </thead>\n",
       "  <tbody>\n",
       "    <tr>\n",
       "      <th>0</th>\n",
       "      <td>abkh</td>\n",
       "      <td>Abkhazia</td>\n",
       "      <td>europe_central_asia</td>\n",
       "    </tr>\n",
       "    <tr>\n",
       "      <th>1</th>\n",
       "      <td>afg</td>\n",
       "      <td>Afghanistan</td>\n",
       "      <td>south_asia</td>\n",
       "    </tr>\n",
       "    <tr>\n",
       "      <th>2</th>\n",
       "      <td>akr_a_dhe</td>\n",
       "      <td>Akrotiri and Dhekelia</td>\n",
       "      <td>europe_central_asia</td>\n",
       "    </tr>\n",
       "    <tr>\n",
       "      <th>3</th>\n",
       "      <td>alb</td>\n",
       "      <td>Albania</td>\n",
       "      <td>europe_central_asia</td>\n",
       "    </tr>\n",
       "    <tr>\n",
       "      <th>4</th>\n",
       "      <td>dza</td>\n",
       "      <td>Algeria</td>\n",
       "      <td>middle_east_north_africa</td>\n",
       "    </tr>\n",
       "    <tr>\n",
       "      <th>...</th>\n",
       "      <td>...</td>\n",
       "      <td>...</td>\n",
       "      <td>...</td>\n",
       "    </tr>\n",
       "    <tr>\n",
       "      <th>270</th>\n",
       "      <td>yem</td>\n",
       "      <td>Yemen</td>\n",
       "      <td>middle_east_north_africa</td>\n",
       "    </tr>\n",
       "    <tr>\n",
       "      <th>271</th>\n",
       "      <td>yug</td>\n",
       "      <td>Yugoslavia</td>\n",
       "      <td>europe_central_asia</td>\n",
       "    </tr>\n",
       "    <tr>\n",
       "      <th>272</th>\n",
       "      <td>zmb</td>\n",
       "      <td>Zambia</td>\n",
       "      <td>sub_saharan_africa</td>\n",
       "    </tr>\n",
       "    <tr>\n",
       "      <th>273</th>\n",
       "      <td>zwe</td>\n",
       "      <td>Zimbabwe</td>\n",
       "      <td>sub_saharan_africa</td>\n",
       "    </tr>\n",
       "    <tr>\n",
       "      <th>274</th>\n",
       "      <td>ala</td>\n",
       "      <td>Åland</td>\n",
       "      <td>europe_central_asia</td>\n",
       "    </tr>\n",
       "  </tbody>\n",
       "</table>\n",
       "<p>275 rows × 3 columns</p>\n",
       "</div>"
      ],
      "text/plain": [
       "       country                   name             world_6region\n",
       "0         abkh               Abkhazia       europe_central_asia\n",
       "1          afg            Afghanistan                south_asia\n",
       "2    akr_a_dhe  Akrotiri and Dhekelia       europe_central_asia\n",
       "3          alb                Albania       europe_central_asia\n",
       "4          dza                Algeria  middle_east_north_africa\n",
       "..         ...                    ...                       ...\n",
       "270        yem                  Yemen  middle_east_north_africa\n",
       "271        yug             Yugoslavia       europe_central_asia\n",
       "272        zmb                 Zambia        sub_saharan_africa\n",
       "273        zwe               Zimbabwe        sub_saharan_africa\n",
       "274        ala                  Åland       europe_central_asia\n",
       "\n",
       "[275 rows x 3 columns]"
      ]
     },
     "execution_count": 19,
     "metadata": {},
     "output_type": "execute_result"
    }
   ],
   "source": [
    "countries = pd.read_csv('../datasets/countries.csv')\n",
    "countries[['country', 'name', 'world_6region']]"
   ]
  },
  {
   "cell_type": "markdown",
   "metadata": {
    "deletable": false,
    "editable": false
   },
   "source": [
    "## 2. Global Poverty\n"
   ]
  },
  {
   "cell_type": "markdown",
   "metadata": {
    "deletable": false,
    "editable": false
   },
   "source": [
    "In 1800, 85% of the world's 1 billion people lived in *extreme poverty*, defined by the United Nations as \"a condition characterized by severe deprivation of basic human needs, including food, safe drinking water, sanitation facilities, health, shelter, education and information.\" A common measure of extreme poverty is a person living on less than \\$1.25 per day.\n",
    "\n",
    "In 2015, the proportion of people living in extreme poverty was estimated to be 12%. Although the world rate of extreme poverty has declined consistently for hundreds of years, the number of people living in extreme poverty is still close to 1 billion. The United Nations recently adopted an [ambitious goal](http://www.un.org/sustainabledevelopment/poverty/): \"By 2030, eradicate extreme poverty for all people everywhere.\"\n",
    "In this section, we will examine extreme poverty trends around the world."
   ]
  },
  {
   "cell_type": "markdown",
   "metadata": {
    "deletable": false,
    "editable": false
   },
   "source": [
    "First, load the population and poverty rate by country and year and the country descriptions. While the `population` table has values for every recent year for many countries, the `poverty` table only includes certain years for each country in which a measurement of the rate of extreme poverty was available."
   ]
  },
  {
   "cell_type": "code",
   "execution_count": 20,
   "metadata": {
    "deletable": false
   },
   "outputs": [
    {
     "data": {
      "text/html": [
       "<div>\n",
       "<style scoped>\n",
       "    .dataframe tbody tr th:only-of-type {\n",
       "        vertical-align: middle;\n",
       "    }\n",
       "\n",
       "    .dataframe tbody tr th {\n",
       "        vertical-align: top;\n",
       "    }\n",
       "\n",
       "    .dataframe thead th {\n",
       "        text-align: right;\n",
       "    }\n",
       "</style>\n",
       "<table border=\"1\" class=\"dataframe\">\n",
       "  <thead>\n",
       "    <tr style=\"text-align: right;\">\n",
       "      <th></th>\n",
       "      <th>geo</th>\n",
       "      <th>time</th>\n",
       "      <th>population_total</th>\n",
       "    </tr>\n",
       "  </thead>\n",
       "  <tbody>\n",
       "    <tr>\n",
       "      <th>0</th>\n",
       "      <td>abw</td>\n",
       "      <td>1800</td>\n",
       "      <td>19286</td>\n",
       "    </tr>\n",
       "    <tr>\n",
       "      <th>1</th>\n",
       "      <td>abw</td>\n",
       "      <td>1801</td>\n",
       "      <td>19286</td>\n",
       "    </tr>\n",
       "    <tr>\n",
       "      <th>2</th>\n",
       "      <td>abw</td>\n",
       "      <td>1802</td>\n",
       "      <td>19286</td>\n",
       "    </tr>\n",
       "    <tr>\n",
       "      <th>3</th>\n",
       "      <td>abw</td>\n",
       "      <td>1803</td>\n",
       "      <td>19286</td>\n",
       "    </tr>\n",
       "    <tr>\n",
       "      <th>4</th>\n",
       "      <td>abw</td>\n",
       "      <td>1804</td>\n",
       "      <td>19286</td>\n",
       "    </tr>\n",
       "  </tbody>\n",
       "</table>\n",
       "</div>"
      ],
      "text/plain": [
       "   geo  time  population_total\n",
       "0  abw  1800             19286\n",
       "1  abw  1801             19286\n",
       "2  abw  1802             19286\n",
       "3  abw  1803             19286\n",
       "4  abw  1804             19286"
      ]
     },
     "execution_count": 20,
     "metadata": {},
     "output_type": "execute_result"
    }
   ],
   "source": [
    "population = pd.read_csv('../datasets/population.csv')\n",
    "# NOTE: The code here below is 'pseudo-code' and you have to modify it in order to have it working accordingly\n",
    "population.head(5)"
   ]
  },
  {
   "cell_type": "code",
   "execution_count": 21,
   "metadata": {},
   "outputs": [
    {
     "data": {
      "text/html": [
       "<div>\n",
       "<style scoped>\n",
       "    .dataframe tbody tr th:only-of-type {\n",
       "        vertical-align: middle;\n",
       "    }\n",
       "\n",
       "    .dataframe tbody tr th {\n",
       "        vertical-align: top;\n",
       "    }\n",
       "\n",
       "    .dataframe thead th {\n",
       "        text-align: right;\n",
       "    }\n",
       "</style>\n",
       "<table border=\"1\" class=\"dataframe\">\n",
       "  <thead>\n",
       "    <tr style=\"text-align: right;\">\n",
       "      <th></th>\n",
       "      <th>country</th>\n",
       "      <th>gwid</th>\n",
       "      <th>name</th>\n",
       "      <th>world_6region</th>\n",
       "      <th>income_groups</th>\n",
       "      <th>landlocked</th>\n",
       "      <th>g77_and_oecd_countries</th>\n",
       "      <th>main_religion_2008</th>\n",
       "      <th>gapminder_list</th>\n",
       "      <th>alternative_1</th>\n",
       "      <th>...</th>\n",
       "      <th>arb1</th>\n",
       "      <th>arb2</th>\n",
       "      <th>arb3</th>\n",
       "      <th>arb4</th>\n",
       "      <th>arb5</th>\n",
       "      <th>arb6</th>\n",
       "      <th>is--country</th>\n",
       "      <th>world_4region</th>\n",
       "      <th>latitude</th>\n",
       "      <th>longitude</th>\n",
       "    </tr>\n",
       "  </thead>\n",
       "  <tbody>\n",
       "    <tr>\n",
       "      <th>216</th>\n",
       "      <td>ssd</td>\n",
       "      <td>i211</td>\n",
       "      <td>South Sudan</td>\n",
       "      <td>sub_saharan_africa</td>\n",
       "      <td>low_income</td>\n",
       "      <td>landlocked</td>\n",
       "      <td>NaN</td>\n",
       "      <td>NaN</td>\n",
       "      <td>South Sudan</td>\n",
       "      <td>South â€Žsudan</td>\n",
       "      <td>...</td>\n",
       "      <td>NaN</td>\n",
       "      <td>NaN</td>\n",
       "      <td>NaN</td>\n",
       "      <td>NaN</td>\n",
       "      <td>NaN</td>\n",
       "      <td>NaN</td>\n",
       "      <td>True</td>\n",
       "      <td>africa</td>\n",
       "      <td>7.50000</td>\n",
       "      <td>30.00000</td>\n",
       "    </tr>\n",
       "    <tr>\n",
       "      <th>48</th>\n",
       "      <td>cxr</td>\n",
       "      <td>i45</td>\n",
       "      <td>Christmas Island</td>\n",
       "      <td>east_asia_pacific</td>\n",
       "      <td>NaN</td>\n",
       "      <td>coastline</td>\n",
       "      <td>others</td>\n",
       "      <td>NaN</td>\n",
       "      <td>Christmas Island</td>\n",
       "      <td>NaN</td>\n",
       "      <td>...</td>\n",
       "      <td>NaN</td>\n",
       "      <td>NaN</td>\n",
       "      <td>NaN</td>\n",
       "      <td>NaN</td>\n",
       "      <td>NaN</td>\n",
       "      <td>NaN</td>\n",
       "      <td>True</td>\n",
       "      <td>asia</td>\n",
       "      <td>-10.50000</td>\n",
       "      <td>105.66667</td>\n",
       "    </tr>\n",
       "    <tr>\n",
       "      <th>90</th>\n",
       "      <td>gha</td>\n",
       "      <td>i83</td>\n",
       "      <td>Ghana</td>\n",
       "      <td>sub_saharan_africa</td>\n",
       "      <td>lower_middle_income</td>\n",
       "      <td>coastline</td>\n",
       "      <td>g77</td>\n",
       "      <td>christian</td>\n",
       "      <td>Ghana</td>\n",
       "      <td>NaN</td>\n",
       "      <td>...</td>\n",
       "      <td>NaN</td>\n",
       "      <td>NaN</td>\n",
       "      <td>NaN</td>\n",
       "      <td>NaN</td>\n",
       "      <td>NaN</td>\n",
       "      <td>NaN</td>\n",
       "      <td>True</td>\n",
       "      <td>africa</td>\n",
       "      <td>8.10000</td>\n",
       "      <td>-1.20000</td>\n",
       "    </tr>\n",
       "    <tr>\n",
       "      <th>264</th>\n",
       "      <td>vir</td>\n",
       "      <td>i251</td>\n",
       "      <td>Virgin Islands (U.S.)</td>\n",
       "      <td>america</td>\n",
       "      <td>high_income</td>\n",
       "      <td>coastline</td>\n",
       "      <td>others</td>\n",
       "      <td>christian</td>\n",
       "      <td>Virgin Islands (U.S.)</td>\n",
       "      <td>United States Virgin Islands</td>\n",
       "      <td>...</td>\n",
       "      <td>NaN</td>\n",
       "      <td>NaN</td>\n",
       "      <td>NaN</td>\n",
       "      <td>NaN</td>\n",
       "      <td>NaN</td>\n",
       "      <td>NaN</td>\n",
       "      <td>True</td>\n",
       "      <td>americas</td>\n",
       "      <td>18.34829</td>\n",
       "      <td>-64.98348</td>\n",
       "    </tr>\n",
       "    <tr>\n",
       "      <th>271</th>\n",
       "      <td>yug</td>\n",
       "      <td>i255</td>\n",
       "      <td>Yugoslavia</td>\n",
       "      <td>europe_central_asia</td>\n",
       "      <td>NaN</td>\n",
       "      <td>coastline</td>\n",
       "      <td>others</td>\n",
       "      <td>NaN</td>\n",
       "      <td>Yugoslavia</td>\n",
       "      <td>NaN</td>\n",
       "      <td>...</td>\n",
       "      <td>NaN</td>\n",
       "      <td>NaN</td>\n",
       "      <td>NaN</td>\n",
       "      <td>NaN</td>\n",
       "      <td>NaN</td>\n",
       "      <td>NaN</td>\n",
       "      <td>True</td>\n",
       "      <td>europe</td>\n",
       "      <td>NaN</td>\n",
       "      <td>NaN</td>\n",
       "    </tr>\n",
       "    <tr>\n",
       "      <th>37</th>\n",
       "      <td>bdi</td>\n",
       "      <td>i34</td>\n",
       "      <td>Burundi</td>\n",
       "      <td>sub_saharan_africa</td>\n",
       "      <td>low_income</td>\n",
       "      <td>landlocked</td>\n",
       "      <td>g77</td>\n",
       "      <td>christian</td>\n",
       "      <td>Burundi</td>\n",
       "      <td>NaN</td>\n",
       "      <td>...</td>\n",
       "      <td>NaN</td>\n",
       "      <td>NaN</td>\n",
       "      <td>NaN</td>\n",
       "      <td>NaN</td>\n",
       "      <td>NaN</td>\n",
       "      <td>NaN</td>\n",
       "      <td>True</td>\n",
       "      <td>africa</td>\n",
       "      <td>-3.50000</td>\n",
       "      <td>30.00000</td>\n",
       "    </tr>\n",
       "    <tr>\n",
       "      <th>117</th>\n",
       "      <td>jam</td>\n",
       "      <td>i109</td>\n",
       "      <td>Jamaica</td>\n",
       "      <td>america</td>\n",
       "      <td>upper_middle_income</td>\n",
       "      <td>coastline</td>\n",
       "      <td>g77</td>\n",
       "      <td>christian</td>\n",
       "      <td>Jamaica</td>\n",
       "      <td>NaN</td>\n",
       "      <td>...</td>\n",
       "      <td>NaN</td>\n",
       "      <td>NaN</td>\n",
       "      <td>NaN</td>\n",
       "      <td>NaN</td>\n",
       "      <td>NaN</td>\n",
       "      <td>NaN</td>\n",
       "      <td>True</td>\n",
       "      <td>americas</td>\n",
       "      <td>18.16667</td>\n",
       "      <td>-77.25000</td>\n",
       "    </tr>\n",
       "    <tr>\n",
       "      <th>55</th>\n",
       "      <td>cok</td>\n",
       "      <td>i51</td>\n",
       "      <td>Cook Is</td>\n",
       "      <td>east_asia_pacific</td>\n",
       "      <td>NaN</td>\n",
       "      <td>coastline</td>\n",
       "      <td>others</td>\n",
       "      <td>christian</td>\n",
       "      <td>Cook Islands</td>\n",
       "      <td>Cook Is</td>\n",
       "      <td>...</td>\n",
       "      <td>NaN</td>\n",
       "      <td>NaN</td>\n",
       "      <td>NaN</td>\n",
       "      <td>NaN</td>\n",
       "      <td>NaN</td>\n",
       "      <td>NaN</td>\n",
       "      <td>True</td>\n",
       "      <td>asia</td>\n",
       "      <td>-21.24842</td>\n",
       "      <td>-159.78516</td>\n",
       "    </tr>\n",
       "    <tr>\n",
       "      <th>217</th>\n",
       "      <td>yem_south</td>\n",
       "      <td>i253</td>\n",
       "      <td>South Yemen (former)</td>\n",
       "      <td>middle_east_north_africa</td>\n",
       "      <td>NaN</td>\n",
       "      <td>coastline</td>\n",
       "      <td>others</td>\n",
       "      <td>NaN</td>\n",
       "      <td>Yemen Democratic (Former)</td>\n",
       "      <td>NaN</td>\n",
       "      <td>...</td>\n",
       "      <td>NaN</td>\n",
       "      <td>NaN</td>\n",
       "      <td>NaN</td>\n",
       "      <td>NaN</td>\n",
       "      <td>NaN</td>\n",
       "      <td>NaN</td>\n",
       "      <td>True</td>\n",
       "      <td>asia</td>\n",
       "      <td>NaN</td>\n",
       "      <td>NaN</td>\n",
       "    </tr>\n",
       "    <tr>\n",
       "      <th>192</th>\n",
       "      <td>rou</td>\n",
       "      <td>i183</td>\n",
       "      <td>Romania</td>\n",
       "      <td>europe_central_asia</td>\n",
       "      <td>upper_middle_income</td>\n",
       "      <td>coastline</td>\n",
       "      <td>others</td>\n",
       "      <td>christian</td>\n",
       "      <td>Romania</td>\n",
       "      <td>NaN</td>\n",
       "      <td>...</td>\n",
       "      <td>NaN</td>\n",
       "      <td>NaN</td>\n",
       "      <td>NaN</td>\n",
       "      <td>NaN</td>\n",
       "      <td>NaN</td>\n",
       "      <td>NaN</td>\n",
       "      <td>True</td>\n",
       "      <td>europe</td>\n",
       "      <td>46.00000</td>\n",
       "      <td>25.00000</td>\n",
       "    </tr>\n",
       "  </tbody>\n",
       "</table>\n",
       "<p>10 rows × 29 columns</p>\n",
       "</div>"
      ],
      "text/plain": [
       "       country  gwid                   name             world_6region  \\\n",
       "216        ssd  i211            South Sudan        sub_saharan_africa   \n",
       "48         cxr   i45       Christmas Island         east_asia_pacific   \n",
       "90         gha   i83                  Ghana        sub_saharan_africa   \n",
       "264        vir  i251  Virgin Islands (U.S.)                   america   \n",
       "271        yug  i255             Yugoslavia       europe_central_asia   \n",
       "37         bdi   i34                Burundi        sub_saharan_africa   \n",
       "117        jam  i109                Jamaica                   america   \n",
       "55         cok   i51                Cook Is         east_asia_pacific   \n",
       "217  yem_south  i253   South Yemen (former)  middle_east_north_africa   \n",
       "192        rou  i183                Romania       europe_central_asia   \n",
       "\n",
       "           income_groups  landlocked g77_and_oecd_countries  \\\n",
       "216           low_income  landlocked                    NaN   \n",
       "48                   NaN   coastline                 others   \n",
       "90   lower_middle_income   coastline                    g77   \n",
       "264          high_income   coastline                 others   \n",
       "271                  NaN   coastline                 others   \n",
       "37            low_income  landlocked                    g77   \n",
       "117  upper_middle_income   coastline                    g77   \n",
       "55                   NaN   coastline                 others   \n",
       "217                  NaN   coastline                 others   \n",
       "192  upper_middle_income   coastline                 others   \n",
       "\n",
       "    main_religion_2008             gapminder_list  \\\n",
       "216                NaN                South Sudan   \n",
       "48                 NaN           Christmas Island   \n",
       "90           christian                      Ghana   \n",
       "264          christian      Virgin Islands (U.S.)   \n",
       "271                NaN                 Yugoslavia   \n",
       "37           christian                    Burundi   \n",
       "117          christian                    Jamaica   \n",
       "55           christian               Cook Islands   \n",
       "217                NaN  Yemen Democratic (Former)   \n",
       "192          christian                    Romania   \n",
       "\n",
       "                    alternative_1  ... arb1 arb2 arb3 arb4 arb5 arb6  \\\n",
       "216                South â€Žsudan  ...  NaN  NaN  NaN  NaN  NaN  NaN   \n",
       "48                            NaN  ...  NaN  NaN  NaN  NaN  NaN  NaN   \n",
       "90                            NaN  ...  NaN  NaN  NaN  NaN  NaN  NaN   \n",
       "264  United States Virgin Islands  ...  NaN  NaN  NaN  NaN  NaN  NaN   \n",
       "271                           NaN  ...  NaN  NaN  NaN  NaN  NaN  NaN   \n",
       "37                            NaN  ...  NaN  NaN  NaN  NaN  NaN  NaN   \n",
       "117                           NaN  ...  NaN  NaN  NaN  NaN  NaN  NaN   \n",
       "55                        Cook Is  ...  NaN  NaN  NaN  NaN  NaN  NaN   \n",
       "217                           NaN  ...  NaN  NaN  NaN  NaN  NaN  NaN   \n",
       "192                           NaN  ...  NaN  NaN  NaN  NaN  NaN  NaN   \n",
       "\n",
       "    is--country world_4region  latitude  longitude  \n",
       "216        True        africa   7.50000   30.00000  \n",
       "48         True          asia -10.50000  105.66667  \n",
       "90         True        africa   8.10000   -1.20000  \n",
       "264        True      americas  18.34829  -64.98348  \n",
       "271        True        europe       NaN        NaN  \n",
       "37         True        africa  -3.50000   30.00000  \n",
       "117        True      americas  18.16667  -77.25000  \n",
       "55         True          asia -21.24842 -159.78516  \n",
       "217        True          asia       NaN        NaN  \n",
       "192        True        europe  46.00000   25.00000  \n",
       "\n",
       "[10 rows x 29 columns]"
      ]
     },
     "execution_count": 21,
     "metadata": {},
     "output_type": "execute_result"
    }
   ],
   "source": [
    "countries =  pd.read_csv('../datasets/countries.csv')\n",
    "countries = countries[countries['country'].isin(population.geo.unique())]\n",
    "countries.sample(10)"
   ]
  },
  {
   "cell_type": "code",
   "execution_count": 22,
   "metadata": {},
   "outputs": [
    {
     "data": {
      "text/html": [
       "<div>\n",
       "<style scoped>\n",
       "    .dataframe tbody tr th:only-of-type {\n",
       "        vertical-align: middle;\n",
       "    }\n",
       "\n",
       "    .dataframe tbody tr th {\n",
       "        vertical-align: top;\n",
       "    }\n",
       "\n",
       "    .dataframe thead th {\n",
       "        text-align: right;\n",
       "    }\n",
       "</style>\n",
       "<table border=\"1\" class=\"dataframe\">\n",
       "  <thead>\n",
       "    <tr style=\"text-align: right;\">\n",
       "      <th></th>\n",
       "      <th>geo</th>\n",
       "      <th>time</th>\n",
       "      <th>extreme_poverty_percent_people_below_125_a_day</th>\n",
       "    </tr>\n",
       "  </thead>\n",
       "  <tbody>\n",
       "    <tr>\n",
       "      <th>1075</th>\n",
       "      <td>ven</td>\n",
       "      <td>2004</td>\n",
       "      <td>15.88</td>\n",
       "    </tr>\n",
       "    <tr>\n",
       "      <th>363</th>\n",
       "      <td>slv</td>\n",
       "      <td>2008</td>\n",
       "      <td>4.82</td>\n",
       "    </tr>\n",
       "    <tr>\n",
       "      <th>1020</th>\n",
       "      <td>ukr</td>\n",
       "      <td>1999</td>\n",
       "      <td>2.03</td>\n",
       "    </tr>\n",
       "    <tr>\n",
       "      <th>1094</th>\n",
       "      <td>zmb</td>\n",
       "      <td>1998</td>\n",
       "      <td>55.67</td>\n",
       "    </tr>\n",
       "    <tr>\n",
       "      <th>68</th>\n",
       "      <td>bgd</td>\n",
       "      <td>1989</td>\n",
       "      <td>71.61</td>\n",
       "    </tr>\n",
       "    <tr>\n",
       "      <th>324</th>\n",
       "      <td>dom</td>\n",
       "      <td>2009</td>\n",
       "      <td>2.99</td>\n",
       "    </tr>\n",
       "    <tr>\n",
       "      <th>824</th>\n",
       "      <td>phl</td>\n",
       "      <td>2000</td>\n",
       "      <td>24.59</td>\n",
       "    </tr>\n",
       "    <tr>\n",
       "      <th>84</th>\n",
       "      <td>blr</td>\n",
       "      <td>2005</td>\n",
       "      <td>0.06</td>\n",
       "    </tr>\n",
       "    <tr>\n",
       "      <th>901</th>\n",
       "      <td>sle</td>\n",
       "      <td>2003</td>\n",
       "      <td>59.44</td>\n",
       "    </tr>\n",
       "    <tr>\n",
       "      <th>794</th>\n",
       "      <td>pry</td>\n",
       "      <td>2006</td>\n",
       "      <td>8.70</td>\n",
       "    </tr>\n",
       "  </tbody>\n",
       "</table>\n",
       "</div>"
      ],
      "text/plain": [
       "      geo  time  extreme_poverty_percent_people_below_125_a_day\n",
       "1075  ven  2004                                           15.88\n",
       "363   slv  2008                                            4.82\n",
       "1020  ukr  1999                                            2.03\n",
       "1094  zmb  1998                                           55.67\n",
       "68    bgd  1989                                           71.61\n",
       "324   dom  2009                                            2.99\n",
       "824   phl  2000                                           24.59\n",
       "84    blr  2005                                            0.06\n",
       "901   sle  2003                                           59.44\n",
       "794   pry  2006                                            8.70"
      ]
     },
     "execution_count": 22,
     "metadata": {},
     "output_type": "execute_result"
    }
   ],
   "source": [
    "poverty = pd.read_csv('../datasets/poverty.csv')\n",
    "poverty.sample(10)"
   ]
  },
  {
   "cell_type": "markdown",
   "metadata": {
    "deletable": false,
    "editable": false
   },
   "source": [
    "**Question 11.** Assign `latest` to a three-column table with one row for each country that appears in the `poverty` table. The first column should contain the 3-letter code for the country. The second column should contain the *most recent year* for which an extreme poverty rate is available for the country. The third column should contain the poverty rate in that year. **Do not change the last line, so that the labels of your table are set correctly.**\n",
    "\n",
    "*Hint*: the `first` function may be helpful, but you are not required to use it."
   ]
  },
  {
   "cell_type": "code",
   "execution_count": 23,
   "metadata": {
    "deletable": false
   },
   "outputs": [
    {
     "data": {
      "text/html": [
       "<div>\n",
       "<style scoped>\n",
       "    .dataframe tbody tr th:only-of-type {\n",
       "        vertical-align: middle;\n",
       "    }\n",
       "\n",
       "    .dataframe tbody tr th {\n",
       "        vertical-align: top;\n",
       "    }\n",
       "\n",
       "    .dataframe thead th {\n",
       "        text-align: right;\n",
       "    }\n",
       "</style>\n",
       "<table border=\"1\" class=\"dataframe\">\n",
       "  <thead>\n",
       "    <tr style=\"text-align: right;\">\n",
       "      <th></th>\n",
       "      <th>geo</th>\n",
       "      <th>time</th>\n",
       "      <th>poverty_percent</th>\n",
       "    </tr>\n",
       "  </thead>\n",
       "  <tbody>\n",
       "    <tr>\n",
       "      <th>45</th>\n",
       "      <td>fji</td>\n",
       "      <td>2009</td>\n",
       "      <td>5.88</td>\n",
       "    </tr>\n",
       "    <tr>\n",
       "      <th>64</th>\n",
       "      <td>irl</td>\n",
       "      <td>2010</td>\n",
       "      <td>0.36</td>\n",
       "    </tr>\n",
       "    <tr>\n",
       "      <th>143</th>\n",
       "      <td>zaf</td>\n",
       "      <td>2011</td>\n",
       "      <td>9.42</td>\n",
       "    </tr>\n",
       "    <tr>\n",
       "      <th>40</th>\n",
       "      <td>egy</td>\n",
       "      <td>2008</td>\n",
       "      <td>1.68</td>\n",
       "    </tr>\n",
       "    <tr>\n",
       "      <th>39</th>\n",
       "      <td>ecu</td>\n",
       "      <td>2012</td>\n",
       "      <td>3.95</td>\n",
       "    </tr>\n",
       "    <tr>\n",
       "      <th>103</th>\n",
       "      <td>pan</td>\n",
       "      <td>2012</td>\n",
       "      <td>3.99</td>\n",
       "    </tr>\n",
       "    <tr>\n",
       "      <th>11</th>\n",
       "      <td>bgd</td>\n",
       "      <td>2010</td>\n",
       "      <td>43.25</td>\n",
       "    </tr>\n",
       "    <tr>\n",
       "      <th>30</th>\n",
       "      <td>com</td>\n",
       "      <td>2004</td>\n",
       "      <td>46.11</td>\n",
       "    </tr>\n",
       "    <tr>\n",
       "      <th>141</th>\n",
       "      <td>vnm</td>\n",
       "      <td>2012</td>\n",
       "      <td>2.44</td>\n",
       "    </tr>\n",
       "    <tr>\n",
       "      <th>73</th>\n",
       "      <td>ken</td>\n",
       "      <td>2005</td>\n",
       "      <td>43.37</td>\n",
       "    </tr>\n",
       "  </tbody>\n",
       "</table>\n",
       "</div>"
      ],
      "text/plain": [
       "     geo  time  poverty_percent\n",
       "45   fji  2009             5.88\n",
       "64   irl  2010             0.36\n",
       "143  zaf  2011             9.42\n",
       "40   egy  2008             1.68\n",
       "39   ecu  2012             3.95\n",
       "103  pan  2012             3.99\n",
       "11   bgd  2010            43.25\n",
       "30   com  2004            46.11\n",
       "141  vnm  2012             2.44\n",
       "73   ken  2005            43.37"
      ]
     },
     "execution_count": 23,
     "metadata": {},
     "output_type": "execute_result"
    }
   ],
   "source": [
    "def first(values):\n",
    "    return values.item(0)\n",
    "\n",
    "latest_filter = poverty.groupby(\"geo\")[\"time\"].max()\n",
    "latest_join = pd.merge(left=latest_filter, right=poverty, how='left', left_on=['geo','time'], right_on=['geo','time'])\n",
    "\n",
    "# This line **should** work as it is, but you can change it\n",
    "# as you see fit\n",
    "latest = latest_join.rename(columns={\"extreme_poverty_percent_people_below_125_a_day\":\"poverty_percent\"})\n",
    "latest.sample(10)"
   ]
  },
  {
   "cell_type": "markdown",
   "metadata": {
    "deletable": false,
    "editable": false
   },
   "source": [
    "**Question 12.** Using both `latest` and `population`, create a four-column table called `recent` with one row for each country in `latest`. The four columns should have the following labels and contents:\n",
    "1. `geo` contains the 3-letter country code,\n",
    "1. `poverty_percent` contains the most recent poverty percent,\n",
    "1. `population_total` contains the population of the country in 2010,\n",
    "1. `poverty_total` contains the number of people in poverty **rounded to the nearest integer**, based on the 2010 population and most recent poverty rate."
   ]
  },
  {
   "cell_type": "code",
   "execution_count": 24,
   "metadata": {
    "deletable": false
   },
   "outputs": [
    {
     "data": {
      "text/html": [
       "<div>\n",
       "<style scoped>\n",
       "    .dataframe tbody tr th:only-of-type {\n",
       "        vertical-align: middle;\n",
       "    }\n",
       "\n",
       "    .dataframe tbody tr th {\n",
       "        vertical-align: top;\n",
       "    }\n",
       "\n",
       "    .dataframe thead th {\n",
       "        text-align: right;\n",
       "    }\n",
       "</style>\n",
       "<table border=\"1\" class=\"dataframe\">\n",
       "  <thead>\n",
       "    <tr style=\"text-align: right;\">\n",
       "      <th></th>\n",
       "      <th>geo</th>\n",
       "      <th>time</th>\n",
       "      <th>poverty_percent</th>\n",
       "      <th>population_total</th>\n",
       "      <th>poverty_total</th>\n",
       "    </tr>\n",
       "  </thead>\n",
       "  <tbody>\n",
       "    <tr>\n",
       "      <th>69</th>\n",
       "      <td>jam</td>\n",
       "      <td>2010</td>\n",
       "      <td>0.24</td>\n",
       "      <td>2664049</td>\n",
       "      <td>6394.0</td>\n",
       "    </tr>\n",
       "    <tr>\n",
       "      <th>80</th>\n",
       "      <td>lso</td>\n",
       "      <td>2010</td>\n",
       "      <td>56.22</td>\n",
       "      <td>2010586</td>\n",
       "      <td>1130351.0</td>\n",
       "    </tr>\n",
       "    <tr>\n",
       "      <th>64</th>\n",
       "      <td>irl</td>\n",
       "      <td>2010</td>\n",
       "      <td>0.36</td>\n",
       "      <td>4617334</td>\n",
       "      <td>16622.0</td>\n",
       "    </tr>\n",
       "    <tr>\n",
       "      <th>1</th>\n",
       "      <td>alb</td>\n",
       "      <td>2010</td>\n",
       "      <td>0.46</td>\n",
       "      <td>2880667</td>\n",
       "      <td>13251.0</td>\n",
       "    </tr>\n",
       "    <tr>\n",
       "      <th>34</th>\n",
       "      <td>deu</td>\n",
       "      <td>2010</td>\n",
       "      <td>0.34</td>\n",
       "      <td>80435307</td>\n",
       "      <td>273480.0</td>\n",
       "    </tr>\n",
       "    <tr>\n",
       "      <th>85</th>\n",
       "      <td>mdg</td>\n",
       "      <td>2010</td>\n",
       "      <td>87.67</td>\n",
       "      <td>21079532</td>\n",
       "      <td>18480426.0</td>\n",
       "    </tr>\n",
       "    <tr>\n",
       "      <th>121</th>\n",
       "      <td>svn</td>\n",
       "      <td>2010</td>\n",
       "      <td>0.00</td>\n",
       "      <td>2059023</td>\n",
       "      <td>0.0</td>\n",
       "    </tr>\n",
       "    <tr>\n",
       "      <th>25</th>\n",
       "      <td>civ</td>\n",
       "      <td>2010</td>\n",
       "      <td>35.04</td>\n",
       "      <td>19261647</td>\n",
       "      <td>6749281.0</td>\n",
       "    </tr>\n",
       "    <tr>\n",
       "      <th>65</th>\n",
       "      <td>irn</td>\n",
       "      <td>2010</td>\n",
       "      <td>1.45</td>\n",
       "      <td>70122115</td>\n",
       "      <td>1016771.0</td>\n",
       "    </tr>\n",
       "    <tr>\n",
       "      <th>142</th>\n",
       "      <td>yem</td>\n",
       "      <td>2010</td>\n",
       "      <td>9.78</td>\n",
       "      <td>20504385</td>\n",
       "      <td>2005329.0</td>\n",
       "    </tr>\n",
       "  </tbody>\n",
       "</table>\n",
       "</div>"
      ],
      "text/plain": [
       "     geo  time  poverty_percent  population_total  poverty_total\n",
       "69   jam  2010             0.24           2664049         6394.0\n",
       "80   lso  2010            56.22           2010586      1130351.0\n",
       "64   irl  2010             0.36           4617334        16622.0\n",
       "1    alb  2010             0.46           2880667        13251.0\n",
       "34   deu  2010             0.34          80435307       273480.0\n",
       "85   mdg  2010            87.67          21079532     18480426.0\n",
       "121  svn  2010             0.00           2059023            0.0\n",
       "25   civ  2010            35.04          19261647      6749281.0\n",
       "65   irn  2010             1.45          70122115      1016771.0\n",
       "142  yem  2010             9.78          20504385      2005329.0"
      ]
     },
     "execution_count": 24,
     "metadata": {},
     "output_type": "execute_result"
    }
   ],
   "source": [
    "poverty_and_pop = pd.merge(left=latest, right=population, how='left', left_on=['geo','time'], right_on=['geo','time'])\n",
    "poverty_and_pop = poverty_and_pop.sort_values(\"geo\")\n",
    "poverty_and_pop[\"poverty_total\"] = ((poverty_and_pop[\"poverty_percent\"]/100) * poverty_and_pop['population_total']).round()\n",
    "poverty_and_pop[\"time\"] = 2010\n",
    "poverty_and_pop.sample(10)"
   ]
  },
  {
   "cell_type": "markdown",
   "metadata": {
    "deletable": false,
    "editable": false
   },
   "source": [
    "**Question 13.** Assuming that the `poverty_total` numbers in the `recent` table describe *all* people in 2010 living in extreme poverty, assign the name `poverty_percent` to the percentage of the world's 2010 population that were living in extreme poverty. You should find a number that is somewhat above the 2015 global estimate of 12%, since many country-specific poverty rates are older than 2015.\n",
    "\n",
    "*Hint*: The sum of the `population_total` column in the `recent` table is not the world population, because only a subset of the world's countries have known poverty rates. Use the `population` table to compute the world's 2010 total population."
   ]
  },
  {
   "cell_type": "code",
   "execution_count": 25,
   "metadata": {
    "deletable": false
   },
   "outputs": [
    {
     "name": "stdout",
     "output_type": "stream",
     "text": [
      "In 2010 Extreme Poverty was 14.28 %, with 989790240.00 people in extreme poverty in 2010 and the world wide population total is 6929757296.00.\n"
     ]
    }
   ],
   "source": [
    "worldpopulation = pd.read_csv('../datasets/population.csv')\n",
    "# NOTE: The code here below is 'pseudo-code' and you have to modify it in order to have it working accordingly\n",
    "poverty_total = poverty_and_pop['poverty_total'].sum()\n",
    "\n",
    "worldpopulation2010 = worldpopulation[(worldpopulation[\"time\"] == 2010)]\n",
    "population_total_2010 = worldpopulation2010['population_total'].sum()\n",
    "\n",
    "poverty_percent = (poverty_total/ population_total_2010)*100\n",
    "txt = f\"In 2010 Extreme Poverty was {poverty_percent:.2f} %, with {poverty_total:.2f} people in extreme poverty in 2010 and the world wide population total is {population_total_2010:.2f}.\" \n",
    "print(txt)"
   ]
  },
  {
   "cell_type": "markdown",
   "metadata": {
    "deletable": false,
    "editable": false
   },
   "source": [
    "**You're finished!** Congratulations on mastering data visualization and table manipulation. Time to submit."
   ]
  }
 ],
 "metadata": {
  "kernelspec": {
   "display_name": "base",
   "language": "python",
   "name": "python3"
  },
  "language_info": {
   "codemirror_mode": {
    "name": "ipython",
    "version": 3
   },
   "file_extension": ".py",
   "mimetype": "text/x-python",
   "name": "python",
   "nbconvert_exporter": "python",
   "pygments_lexer": "ipython3",
   "version": "3.12.7"
  }
 },
 "nbformat": 4,
 "nbformat_minor": 1
}

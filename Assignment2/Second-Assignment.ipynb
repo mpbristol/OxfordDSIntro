{
 "cells": [
  {
   "cell_type": "markdown",
   "metadata": {},
   "source": [
    "# Second Assignment: World Progress"
   ]
  },
  {
   "cell_type": "markdown",
   "metadata": {},
   "source": [
    "In this project, you'll explore data from [Gapminder.org](http://gapminder.org), a website dedicated to providing a fact-based view of the world and how it has changed. That site includes several data visualizations and presentations, but also publishes the raw data that we will use in this project to recreate and extend some of their most famous visualizations.\n",
    "\n",
    "The Gapminder website collects data from many sources and compiles them into tables that describe many countries around the world. All of the data they aggregate are published in the [Systema Globalis](https://github.com/open-numbers/ddf--gapminder--systema_globalis/blob/master/README.md). Their goal is \"to compile all public statistics; Social, Economic and Environmental; into a comparable total dataset.\" All data sets in this project are copied directly from the Systema Globalis without any changes.\n",
    "\n",
    "This project is dedicated to [Hans Rosling](https://en.wikipedia.org/wiki/Hans_Rosling) (1948-2017), who championed the use of data to understand and prioritize global development challenges.\n",
    "\n",
    "### Logistics\n",
    "\n",
    "The first assignment was worth 35 points. This second assignment contains 13 questions - each correct answer will be worth 5 points, for a total of 65 points. In order to pass overall you will need to reach at least 40 points out of 100 from the two assignments.\n",
    "\n",
    "**Advice:** Develop your answers incrementally. To perform a complicated table manipulation, break it up into steps, perform each step on a different line, give a new name to each result, and check that each intermediate result is what you expect. You can add any additional names or functions you want to the provided cells. \n",
    "\n",
    "**Submission:** Please send your solutions to the Weekly Classes Office (weeklyclasses@conted.ox.ac.uk) with a signed DoA (Declaration of Authorship) form. Please send the notebook with your name appended to the file name.\n",
    "\n",
    "**Deadline: Please see Canvas**\n",
    "\n",
    "To get started, load `pandas`, `numpy`, and `matplotlib`."
   ]
  },
  {
   "cell_type": "code",
   "execution_count": 1,
   "metadata": {},
   "outputs": [],
   "source": [
    "import pandas as pd\n",
    "import numpy as np\n",
    "%matplotlib inline\n",
    "import matplotlib.pyplot as plots"
   ]
  },
  {
   "cell_type": "markdown",
   "metadata": {
    "deletable": false,
    "editable": false
   },
   "source": [
    "## 1. Global Population Growth\n"
   ]
  },
  {
   "cell_type": "markdown",
   "metadata": {
    "deletable": false,
    "editable": false
   },
   "source": [
    "The global population of humans reached 1 billion around 1800, 3 billion around 1960, and 7 billion around 2011. The potential impact of exponential population growth has concerned scientists, economists, and politicians alike.\n",
    "\n",
    "The UN Population Division estimates that the world population will likely continue to grow throughout the 21st century, but at a slower rate, perhaps reaching 11 billion by 2100. However, the UN does not rule out scenarios of more extreme growth.\n",
    "\n",
    "<a href=\"http://www.pewresearch.org/fact-tank/2015/06/08/scientists-more-worried-than-public-about-worlds-growing-population/ft_15-06-04_popcount/\"> \n",
    " <img src=\"https://www.pewresearch.org/wp-content/uploads/2015/06/fT_15.06.04_popCount.png\"/> \n",
    "</a>\n",
    "\n",
    "In this section, we will examine some of the factors that influence population growth and how they are changing around the world."
   ]
  },
  {
   "cell_type": "markdown",
   "metadata": {
    "deletable": false,
    "editable": false
   },
   "source": [
    "The first table we will consider is the total population of each country over time. Run the cell below."
   ]
  },
  {
   "cell_type": "code",
   "execution_count": 2,
   "metadata": {
    "deletable": false
   },
   "outputs": [
    {
     "data": {
      "text/html": [
       "<div>\n",
       "<style scoped>\n",
       "    .dataframe tbody tr th:only-of-type {\n",
       "        vertical-align: middle;\n",
       "    }\n",
       "\n",
       "    .dataframe tbody tr th {\n",
       "        vertical-align: top;\n",
       "    }\n",
       "\n",
       "    .dataframe thead th {\n",
       "        text-align: right;\n",
       "    }\n",
       "</style>\n",
       "<table border=\"1\" class=\"dataframe\">\n",
       "  <thead>\n",
       "    <tr style=\"text-align: right;\">\n",
       "      <th></th>\n",
       "      <th>geo</th>\n",
       "      <th>time</th>\n",
       "      <th>population_total</th>\n",
       "    </tr>\n",
       "  </thead>\n",
       "  <tbody>\n",
       "    <tr>\n",
       "      <th>0</th>\n",
       "      <td>abw</td>\n",
       "      <td>1800</td>\n",
       "      <td>19286</td>\n",
       "    </tr>\n",
       "    <tr>\n",
       "      <th>1</th>\n",
       "      <td>abw</td>\n",
       "      <td>1801</td>\n",
       "      <td>19286</td>\n",
       "    </tr>\n",
       "    <tr>\n",
       "      <th>2</th>\n",
       "      <td>abw</td>\n",
       "      <td>1802</td>\n",
       "      <td>19286</td>\n",
       "    </tr>\n",
       "  </tbody>\n",
       "</table>\n",
       "</div>"
      ],
      "text/plain": [
       "   geo  time  population_total\n",
       "0  abw  1800             19286\n",
       "1  abw  1801             19286\n",
       "2  abw  1802             19286"
      ]
     },
     "execution_count": 2,
     "metadata": {},
     "output_type": "execute_result"
    }
   ],
   "source": [
    "# The population.csv file should also be found online here:\n",
    "# https://github.com/open-numbers/ddf--gapminder--systema_globalis/raw/master/ddf--datapoints--population_total--by--geo--time.csv\n",
    "# The version in this project was downloaded in February, 2017.\n",
    "population = pd.read_csv('../datasets/population.csv')\n",
    "population.head(3)"
   ]
  },
  {
   "cell_type": "markdown",
   "metadata": {
    "deletable": false,
    "editable": false
   },
   "source": [
    "### Bangladesh\n",
    "\n",
    "In the `population` table, the `geo` column contains three-letter codes established by the [International Organization for Standardization](https://en.wikipedia.org/wiki/International_Organization_for_Standardization) (ISO) in the [Alpha-3](https://en.wikipedia.org/wiki/ISO_3166-1_alpha-3#Current_codes) standard. We will begin by taking a close look at Bangladesh. Inspect the standard to find the 3-letter code for Bangladesh."
   ]
  },
  {
   "cell_type": "markdown",
   "metadata": {
    "deletable": false,
    "editable": false
   },
   "source": [
    "**Question 1.** Create a `DataFrame` called `b_pop` that has two columns labeled `time` and `population_total`. The first column should contain the years from 1970 through 2015 (including both 1970 and 2015) and the second should contain the population of Bangladesh in each of those years."
   ]
  },
  {
   "cell_type": "code",
   "execution_count": 3,
   "metadata": {
    "deletable": false
   },
   "outputs": [
    {
     "data": {
      "text/plain": [
       "<bound method NDFrame.head of       time  population_total\n",
       "7509  1970          65048701\n",
       "7510  1971          66417450\n",
       "7511  1972          67578486\n",
       "7512  1973          68658472\n",
       "7513  1974          69837960\n",
       "7514  1975          71247153\n",
       "7515  1976          72930206\n",
       "7516  1977          74848466\n",
       "7517  1978          76948378\n",
       "7518  1979          79141947\n",
       "7519  1980          81364176\n",
       "7520  1981          83599582\n",
       "7521  1982          85868228\n",
       "7522  1983          88181211\n",
       "7523  1984          90559540\n",
       "7524  1985          93015182\n",
       "7525  1986          95550798\n",
       "7526  1987          98149262\n",
       "7527  1988         100779551\n",
       "7528  1989         103400571\n",
       "7529  1990         105983136\n",
       "7530  1991         108509679\n",
       "7531  1992         110987459\n",
       "7532  1993         113442354\n",
       "7533  1994         115913710\n",
       "7534  1995         118427768\n",
       "7535  1996         120987124\n",
       "7536  1997         123574107\n",
       "7537  1998         126169583\n",
       "7538  1999         128746273\n",
       "7539  2000         131280739\n",
       "7540  2001         133776064\n",
       "7541  2002         136228456\n",
       "7542  2003         138600174\n",
       "7543  2004         140843786\n",
       "7544  2005         142929979\n",
       "7545  2006         144839238\n",
       "7546  2007         146592687\n",
       "7547  2008         148252473\n",
       "7548  2009         149905836\n",
       "7549  2010         151616777\n",
       "7550  2011         153405612\n",
       "7551  2012         155257387\n",
       "7552  2013         157157394\n",
       "7553  2014         159077513\n",
       "7554  2015         160995642>"
      ]
     },
     "execution_count": 3,
     "metadata": {},
     "output_type": "execute_result"
    }
   ],
   "source": [
    "b_pop = population[(population['geo']=='bgd') & (population['time'].between(1970,2015))]\n",
    "b_pop = b_pop[[\"time\", \"population_total\"]]\n",
    "b_pop.head\n",
    "\n"
   ]
  },
  {
   "cell_type": "code",
   "execution_count": null,
   "metadata": {
    "deletable": false
   },
   "outputs": [],
   "source": []
  },
  {
   "cell_type": "markdown",
   "metadata": {
    "deletable": false,
    "editable": false
   },
   "source": [
    "Create a table called `b_five` that has the population of Bangladesh every five years. At a glance, it appears that the population of Bangladesh has been growing quickly indeed!"
   ]
  },
  {
   "cell_type": "code",
   "execution_count": 4,
   "metadata": {
    "deletable": false
   },
   "outputs": [
    {
     "data": {
      "text/html": [
       "<div>\n",
       "<style scoped>\n",
       "    .dataframe tbody tr th:only-of-type {\n",
       "        vertical-align: middle;\n",
       "    }\n",
       "\n",
       "    .dataframe tbody tr th {\n",
       "        vertical-align: top;\n",
       "    }\n",
       "\n",
       "    .dataframe thead th {\n",
       "        text-align: right;\n",
       "    }\n",
       "</style>\n",
       "<table border=\"1\" class=\"dataframe\">\n",
       "  <thead>\n",
       "    <tr style=\"text-align: right;\">\n",
       "      <th></th>\n",
       "      <th>time</th>\n",
       "      <th>population_total</th>\n",
       "    </tr>\n",
       "  </thead>\n",
       "  <tbody>\n",
       "    <tr>\n",
       "      <th>7509</th>\n",
       "      <td>1970</td>\n",
       "      <td>65048701</td>\n",
       "    </tr>\n",
       "    <tr>\n",
       "      <th>7514</th>\n",
       "      <td>1975</td>\n",
       "      <td>71247153</td>\n",
       "    </tr>\n",
       "    <tr>\n",
       "      <th>7519</th>\n",
       "      <td>1980</td>\n",
       "      <td>81364176</td>\n",
       "    </tr>\n",
       "    <tr>\n",
       "      <th>7524</th>\n",
       "      <td>1985</td>\n",
       "      <td>93015182</td>\n",
       "    </tr>\n",
       "    <tr>\n",
       "      <th>7529</th>\n",
       "      <td>1990</td>\n",
       "      <td>105983136</td>\n",
       "    </tr>\n",
       "    <tr>\n",
       "      <th>7534</th>\n",
       "      <td>1995</td>\n",
       "      <td>118427768</td>\n",
       "    </tr>\n",
       "    <tr>\n",
       "      <th>7539</th>\n",
       "      <td>2000</td>\n",
       "      <td>131280739</td>\n",
       "    </tr>\n",
       "    <tr>\n",
       "      <th>7544</th>\n",
       "      <td>2005</td>\n",
       "      <td>142929979</td>\n",
       "    </tr>\n",
       "    <tr>\n",
       "      <th>7549</th>\n",
       "      <td>2010</td>\n",
       "      <td>151616777</td>\n",
       "    </tr>\n",
       "    <tr>\n",
       "      <th>7554</th>\n",
       "      <td>2015</td>\n",
       "      <td>160995642</td>\n",
       "    </tr>\n",
       "  </tbody>\n",
       "</table>\n",
       "</div>"
      ],
      "text/plain": [
       "      time  population_total\n",
       "7509  1970          65048701\n",
       "7514  1975          71247153\n",
       "7519  1980          81364176\n",
       "7524  1985          93015182\n",
       "7529  1990         105983136\n",
       "7534  1995         118427768\n",
       "7539  2000         131280739\n",
       "7544  2005         142929979\n",
       "7549  2010         151616777\n",
       "7554  2015         160995642"
      ]
     },
     "execution_count": 4,
     "metadata": {},
     "output_type": "execute_result"
    }
   ],
   "source": [
    "fives = np.arange(1970, 2016, 5) # 1970, 1975, 1980, ...\n",
    "b_five = b_pop.iloc[::5,:]\n",
    "b_five"
   ]
  },
  {
   "cell_type": "markdown",
   "metadata": {
    "deletable": false,
    "editable": false
   },
   "source": [
    "**Question 2.** Create a table called `b_five_growth` that includes three columns, `time`, `population_total`, and `annual_growth`. There should be one row for every five years from 1970 through 2010 (but not 2015). The first two columns are the same as `b_five`. The third column is the **annual** growth rate for each five-year period. For example, the annual growth rate for 1975 is the yearly exponential growth rate that describes the total growth from 1975 to 1980 when applied 5 times.\n",
    "\n",
    "*Hint*: Only your `b_five_growth` table will be scored for correctness; the other names are suggestions that you are welcome to use, change, or delete."
   ]
  },
  {
   "cell_type": "code",
   "execution_count": 5,
   "metadata": {
    "deletable": false
   },
   "outputs": [
    {
     "data": {
      "text/html": [
       "<div>\n",
       "<style scoped>\n",
       "    .dataframe tbody tr th:only-of-type {\n",
       "        vertical-align: middle;\n",
       "    }\n",
       "\n",
       "    .dataframe tbody tr th {\n",
       "        vertical-align: top;\n",
       "    }\n",
       "\n",
       "    .dataframe thead th {\n",
       "        text-align: right;\n",
       "    }\n",
       "</style>\n",
       "<table border=\"1\" class=\"dataframe\">\n",
       "  <thead>\n",
       "    <tr style=\"text-align: right;\">\n",
       "      <th></th>\n",
       "      <th>time</th>\n",
       "      <th>population_total</th>\n",
       "      <th>annual_growth</th>\n",
       "    </tr>\n",
       "  </thead>\n",
       "  <tbody>\n",
       "    <tr>\n",
       "      <th>7509</th>\n",
       "      <td>1970</td>\n",
       "      <td>65048701</td>\n",
       "      <td>NaN</td>\n",
       "    </tr>\n",
       "    <tr>\n",
       "      <th>7514</th>\n",
       "      <td>1975</td>\n",
       "      <td>71247153</td>\n",
       "      <td>0.095289</td>\n",
       "    </tr>\n",
       "    <tr>\n",
       "      <th>7519</th>\n",
       "      <td>1980</td>\n",
       "      <td>81364176</td>\n",
       "      <td>0.141999</td>\n",
       "    </tr>\n",
       "    <tr>\n",
       "      <th>7524</th>\n",
       "      <td>1985</td>\n",
       "      <td>93015182</td>\n",
       "      <td>0.143196</td>\n",
       "    </tr>\n",
       "    <tr>\n",
       "      <th>7529</th>\n",
       "      <td>1990</td>\n",
       "      <td>105983136</td>\n",
       "      <td>0.139418</td>\n",
       "    </tr>\n",
       "    <tr>\n",
       "      <th>7534</th>\n",
       "      <td>1995</td>\n",
       "      <td>118427768</td>\n",
       "      <td>0.117421</td>\n",
       "    </tr>\n",
       "    <tr>\n",
       "      <th>7539</th>\n",
       "      <td>2000</td>\n",
       "      <td>131280739</td>\n",
       "      <td>0.108530</td>\n",
       "    </tr>\n",
       "    <tr>\n",
       "      <th>7544</th>\n",
       "      <td>2005</td>\n",
       "      <td>142929979</td>\n",
       "      <td>0.088735</td>\n",
       "    </tr>\n",
       "    <tr>\n",
       "      <th>7549</th>\n",
       "      <td>2010</td>\n",
       "      <td>151616777</td>\n",
       "      <td>0.060777</td>\n",
       "    </tr>\n",
       "  </tbody>\n",
       "</table>\n",
       "</div>"
      ],
      "text/plain": [
       "      time  population_total  annual_growth\n",
       "7509  1970          65048701            NaN\n",
       "7514  1975          71247153       0.095289\n",
       "7519  1980          81364176       0.141999\n",
       "7524  1985          93015182       0.143196\n",
       "7529  1990         105983136       0.139418\n",
       "7534  1995         118427768       0.117421\n",
       "7539  2000         131280739       0.108530\n",
       "7544  2005         142929979       0.088735\n",
       "7549  2010         151616777       0.060777"
      ]
     },
     "execution_count": 5,
     "metadata": {},
     "output_type": "execute_result"
    }
   ],
   "source": [
    "b_five_growth = b_five.copy()\n",
    "#\n",
    "b_five_growth['annual_growth'] = b_five_growth.population_total.pct_change()\n",
    "b_1970_through_2010 = b_five_growth[(b_five_growth['time'].between(1970,2015,\"left\"))]\n",
    "b_1970_through_2010\n",
    "#initial = ...\n",
    "#changed = ...\n",
    "#b_five_growth = ..."
   ]
  },
  {
   "cell_type": "markdown",
   "metadata": {
    "deletable": false,
    "editable": false
   },
   "source": [
    "While the population has grown every five years since 1970, the annual growth rate decreased dramatically from 1985 to 2005. Let's look at some other information in order to develop a possible explanation. Run the next cell to load three additional tables of measurements about countries over time."
   ]
  },
  {
   "cell_type": "code",
   "execution_count": 6,
   "metadata": {
    "deletable": false
   },
   "outputs": [],
   "source": [
    "life_expectancy = pd.read_csv('../datasets/life_expectancy.csv')\n",
    "child_mortality = pd.read_csv('../datasets/child_mortality.csv')\n",
    "fertility = pd.read_csv('../datasets/fertility.csv')"
   ]
  },
  {
   "cell_type": "markdown",
   "metadata": {
    "deletable": false,
    "editable": false
   },
   "source": [
    "The `life_expectancy` table contains a statistic that is often used to measure how long people live, called *life expectancy at birth*. This number, for a country in a given year, [does not measure how long babies born in that year are expected to live](http://blogs.worldbank.org/opendata/what-does-life-expectancy-birth-really-mean). Instead, it measures how long someone would live, on average, if the *mortality conditions* in that year persisted throughout their lifetime. These \"mortality conditions\" describe what fraction of people at each age survived the year. So, it is a way of measuring the proportion of people that are staying alive, aggregated over different age groups in the population."
   ]
  },
  {
   "cell_type": "markdown",
   "metadata": {
    "deletable": false,
    "editable": false
   },
   "source": [
    "**Question 3.** Perhaps population is growing more slowly because people aren't living as long. Use the `life_expectancy` table to draw a line graph with the years 1970 and later on the horizontal axis that shows how the *life expectancy at birth* has changed in Bangladesh."
   ]
  },
  {
   "cell_type": "code",
   "execution_count": 7,
   "metadata": {
    "deletable": false,
    "manual_grade": true,
    "manual_problem_id": "global_pop_3"
   },
   "outputs": [
    {
     "data": {
      "image/png": "[encoded data removed]",
      "text/plain": [
       "<Figure size 640x480 with 1 Axes>"
      ]
     },
     "metadata": {},
     "output_type": "display_data"
    },
    {
     "data": {
      "text/plain": [
       "<bound method NDFrame.head of        geo  time  children_per_woman_total_fertility\n",
       "0      afg  1800                                7.00\n",
       "1      afg  1801                                7.00\n",
       "2      afg  1802                                7.00\n",
       "3      afg  1803                                7.00\n",
       "4      afg  1804                                7.00\n",
       "...    ...   ...                                 ...\n",
       "43407  zwe  2011                                3.64\n",
       "43408  zwe  2012                                3.56\n",
       "43409  zwe  2013                                3.49\n",
       "43410  zwe  2014                                3.41\n",
       "43411  zwe  2015                                3.35\n",
       "\n",
       "[43412 rows x 3 columns]>"
      ]
     },
     "execution_count": 7,
     "metadata": {},
     "output_type": "execute_result"
    }
   ],
   "source": [
    "life_expectancy.dtypes\n",
    "le = life_expectancy[(life_expectancy.time >1970) & (life_expectancy['geo']=='bgd')]\n",
    "\n",
    "le = le[[\"time\",\"life_expectancy_years\"]]\n",
    "le = le.set_index(le.time)\n",
    "\n",
    "le.plot(y='life_expectancy_years')\n",
    "\n",
    "\n",
    "plots.show()\n",
    "\n",
    "life_expectancy.head\n",
    "fertility.head\n",
    "#child_mortality.head\n"
   ]
  },
  {
   "cell_type": "markdown",
   "metadata": {
    "deletable": false,
    "editable": false
   },
   "source": [
    "Does the graph above help directly explain why the population growth rate decreased from 1985 to 2010 in Bangladesh? Why or why not? What happened in Bangladesh in 1991, and does that event explain the change in population growth rate?"
   ]
  },
  {
   "cell_type": "markdown",
   "metadata": {},
   "source": [
    "## Bangladesh Life Expectancy 1985 to 2010\n",
    "\n",
    "The 1991 Bangladesh Cyclone has been noted as one of the deadliest tropical cyclones in recorded history, causing at least 138,866 deaths [Wikipedia Bangladesh Cyclone](https://en.wikipedia.org/wiki/1991_Bangladesh_cyclone). Whilst the 1991 disaster will undoubtedly have impacted the growth in the population during and after this period, reducing the number of people available to concieve during these years, the change in life has increased from 45 as an average life expectancy in 1970 to 70 in 2010 (as shown in the graph above).  [Wikipedia's 1980's Bangladesh ](https://en.wikipedia.org/wiki/1980s_in_Bangladesh#Demographics) attributes the reduction in the population to a decrease in the fertitilty rate (births per woman) from 6.4 to 4.7."
   ]
  },
  {
   "cell_type": "markdown",
   "metadata": {
    "deletable": false,
    "editable": false
   },
   "source": [
    "The `fertility` table contains a statistic that is often used to measure how many babies are being born, the *total fertility rate*. This number describes the [number of children a woman would have in her lifetime](https://www.measureevaluation.org/prh/rh_indicators/specific/fertility/total-fertility-rate), on average, if the current rates of birth by age of the mother persisted throughout her child bearing years, assuming she survived through age 49. "
   ]
  },
  {
   "cell_type": "markdown",
   "metadata": {
    "deletable": false,
    "editable": false
   },
   "source": [
    "**Question 4.** Write a function `fertility_over_time` that takes the Alpha-3 code of a `country` and a `start` year. It returns a two-column table with labels \"`Year`\" and \"`Children per woman`\" that can be used to generate a line chart of the country's fertility rate each year, starting at the `start` year. The plot should include the `start` year and all later years that appear in the `fertility` table. \n",
    "\n",
    "Then, in the next cell, call your `fertility_over_time` function on the Alpha-3 code for Bangladesh and the year 1970 in order to plot how Bangladesh's fertility rate has changed since 1970. **The expression that draws the line plot is provided for you; please don't change it.**"
   ]
  },
  {
   "cell_type": "code",
   "execution_count": 8,
   "metadata": {
    "deletable": false
   },
   "outputs": [],
   "source": [
    "def fertility_over_time(country: str, start: int) -> pd.DataFrame:\n",
    "    \"\"\"\n",
    "    Create a two-column DataFrame that describes a country's total fertility rate each year.\n",
    "    :param country - alpha-3 code for the country\n",
    "    :param start - start year\n",
    "    \"\"\"\n",
    "    # Filter rows where Age is greater than 30\n",
    "    filtered_df = fertility[(fertility['geo']==country) & (fertility['time'] >= start)]\n",
    "    filtered_df =  filtered_df[[\"time\", \"children_per_woman_total_fertility\"]]\n",
    "    return filtered_df\n",
    "  "
   ]
  },
  {
   "cell_type": "code",
   "execution_count": 9,
   "metadata": {
    "deletable": false
   },
   "outputs": [
    {
     "data": {
      "image/png": "[encoded data removed]",
      "text/plain": [
       "<Figure size 640x480 with 1 Axes>"
      ]
     },
     "metadata": {},
     "output_type": "display_data"
    }
   ],
   "source": [
    "bangladesh_code = fertility_over_time('bgd',1970)\n",
    "bangladesh_code.plot(0, 1) # You should *not* change this line.\n",
    "plots.show()\n"
   ]
  },
  {
   "cell_type": "code",
   "execution_count": null,
   "metadata": {
    "deletable": false
   },
   "outputs": [],
   "source": []
  },
  {
   "cell_type": "markdown",
   "metadata": {
    "deletable": false,
    "editable": false
   },
   "source": [
    "**Question 5.** Does the graph above help directly explain why the population growth rate decreased from 1985 to 2010 in Bangladesh? Why or why not?"
   ]
  },
  {
   "cell_type": "markdown",
   "metadata": {
    "deletable": false,
    "manual_grade": true,
    "manual_problem_id": "global_pop_6"
   },
   "source": [
    "# Bangladesh Life Expectancy 1985 to 2010\n",
    "\n",
    "This does not fully exaplain the growth rate decrease.  Whilst the number of births (children per woman) has fallen in this period, this is offset by the infant mortality rate (child deaths from 0-5 years of age) which has fallen by a 25% mortality reducing from 199 per 1,000 births to 150 [Wikipedia's 1980's Bangladesh ](https://en.wikipedia.org/wiki/1980s_in_Bangladesh#Demographics)."
   ]
  },
  {
   "cell_type": "markdown",
   "metadata": {
    "deletable": false,
    "editable": false
   },
   "source": [
    "It has been observed that lower fertility rates are often associated with lower child mortality rates. The link has been attributed to family planning: if parents can expect that their children will all survive into adulthood, then they will choose to have fewer children. We can see if this association is evident in Bangladesh by plotting the relationship between total fertility rate and [child mortality rate per 1000 children](https://en.wikipedia.org/wiki/Child_mortality)."
   ]
  },
  {
   "cell_type": "markdown",
   "metadata": {
    "deletable": false,
    "editable": false
   },
   "source": [
    "**Question 6.** Using both the `fertility` and `child_mortality` tables, draw a scatter diagram with one point for each year, starting with 1970, that has Bangladesh's total fertility on the horizontal axis and its child mortality on the vertical axis. \n",
    "\n",
    "**The expression that draws the scatter diagram is provided for you; please don't change it.** Instead, create a table called `fertility_and_child_mortality` with the appropriate column labels and data in order to generate the chart correctly. Use the label \"`Children per woman`\" to describe total fertility and the label \"`Child deaths per 1000 born`\" to describe child mortality."
   ]
  },
  {
   "cell_type": "code",
   "execution_count": 10,
   "metadata": {
    "deletable": false
   },
   "outputs": [
    {
     "data": {
      "image/png": "[encoded data removed]",
      "text/plain": [
       "<Figure size 640x480 with 1 Axes>"
      ]
     },
     "metadata": {},
     "output_type": "display_data"
    },
    {
     "data": {
      "text/plain": [
       "<bound method NDFrame.head of       time  Children per woman  Child deaths per 1000 born\n",
       "2978  1970                6.95                       224.1\n",
       "2979  1971                6.94                       223.0\n",
       "2980  1972                6.93                       222.0\n",
       "2981  1973                6.90                       220.7\n",
       "2982  1974                6.87                       219.1\n",
       "2983  1975                6.82                       217.1\n",
       "2984  1976                6.76                       214.5\n",
       "2985  1977                6.68                       211.2\n",
       "2986  1978                6.59                       207.4\n",
       "2987  1979                6.48                       203.3\n",
       "2988  1980                6.36                       198.9\n",
       "2989  1981                6.22                       194.2\n",
       "2990  1982                6.06                       189.4\n",
       "2991  1983                5.89                       184.4\n",
       "2992  1984                5.71                       179.1\n",
       "2993  1985                5.52                       173.5\n",
       "2994  1986                5.33                       167.7\n",
       "2995  1987                5.13                       161.8\n",
       "2996  1988                4.93                       155.8\n",
       "2997  1989                4.74                       149.7\n",
       "2998  1990                4.55                       143.7\n",
       "2999  1991                4.37                       137.7\n",
       "3000  1992                4.20                       131.7\n",
       "3001  1993                4.03                       125.8\n",
       "3002  1994                3.88                       119.9\n",
       "3003  1995                3.73                       114.2\n",
       "3004  1996                3.60                       108.6\n",
       "3005  1997                3.47                       103.2\n",
       "3006  1998                3.35                        97.9\n",
       "3007  1999                3.23                        92.8\n",
       "3008  2000                3.12                        88.0\n",
       "3009  2001                3.01                        83.5\n",
       "3010  2002                2.91                        79.0\n",
       "3011  2003                2.80                        74.8\n",
       "3012  2004                2.70                        70.7\n",
       "3013  2005                2.61                        66.8\n",
       "3014  2006                2.52                        63.0\n",
       "3015  2007                2.44                        59.4\n",
       "3016  2008                2.38                        55.9\n",
       "3017  2009                2.32                        52.6\n",
       "3018  2010                2.28                        49.6\n",
       "3019  2011                2.24                        46.7\n",
       "3020  2012                2.21                        44.0\n",
       "3021  2013                2.18                        41.6\n",
       "3022  2014                2.15                        39.5\n",
       "3023  2015                2.12                        37.6>"
      ]
     },
     "execution_count": 10,
     "metadata": {},
     "output_type": "execute_result"
    }
   ],
   "source": [
    "\n",
    "fc_merge =  pd.merge(left=fertility, right=child_mortality, how='left', left_on=['geo','time'], right_on=['geo','time'])\n",
    "fc_merge = fc_merge[(fc_merge['geo']=='bgd') & (fc_merge['time'] >= 1970)]\n",
    "fc_merge = fc_merge[[\"time\", \"children_per_woman_total_fertility\", \"child_mortality_0_5_year_olds_dying_per_1000_born\"]]\n",
    "fertility_and_child_mortality = fc_merge.rename(columns={'children_per_woman_total_fertility':'Children per woman','child_mortality_0_5_year_olds_dying_per_1000_born':'Child deaths per 1000 born'})\n",
    "\n",
    "# You should *not* change the statement below\n",
    "fertility_and_child_mortality.plot.scatter(\n",
    "    'Children per woman', 'Child deaths per 1000 born'\n",
    ") \n",
    "\n",
    "plots.show()\n",
    "fertility_and_child_mortality.head"
   ]
  },
  {
   "cell_type": "markdown",
   "metadata": {
    "deletable": false,
    "editable": false
   },
   "source": [
    "In one or two sentences, describe the association (if any) that is illustrated by this scatter diagram. Does the diagram show that reduced child mortality causes parents to choose to have fewer children?"
   ]
  },
  {
   "cell_type": "markdown",
   "metadata": {
    "deletable": false
   },
   "source": [
    "## Bangladesh Life Expectancy 1985 to 2010\n",
    "\n",
    "The scatter diagram showing Children per woman compared to Child deaths per 1000 born **supports** the theory that lower fertility rates are associated with lower child mortality rates. In 1970 Children per woman is on avergage 6.95 when the the mortality rate per 1000 is 224.1, this compares with the lower birth and mortiality rate of 2.12 and 37.6 in 2015"
   ]
  },
  {
   "cell_type": "markdown",
   "metadata": {
    "deletable": false,
    "editable": false
   },
   "source": [
    "### The World\n",
    "\n",
    "The change observed in Bangladesh since 1970 can also be observed in many other developing countries: health services improve, life expectancy increases, and child mortality decreases. At the same time, the fertility rate often plummets, and so the population growth rate decreases despite increasing longevity."
   ]
  },
  {
   "cell_type": "markdown",
   "metadata": {
    "deletable": false,
    "editable": false
   },
   "source": [
    "Run the cell below to generate two overlaid histograms, one for 1960 and one for 2010, that show the distributions of total fertility rates for these two years among all 201 countries in the `fertility` table."
   ]
  },
  {
   "cell_type": "code",
   "execution_count": 11,
   "metadata": {},
   "outputs": [
    {
     "data": {
      "text/html": [
       "<div>\n",
       "<style scoped>\n",
       "    .dataframe tbody tr th:only-of-type {\n",
       "        vertical-align: middle;\n",
       "    }\n",
       "\n",
       "    .dataframe tbody tr th {\n",
       "        vertical-align: top;\n",
       "    }\n",
       "\n",
       "    .dataframe thead th {\n",
       "        text-align: right;\n",
       "    }\n",
       "</style>\n",
       "<table border=\"1\" class=\"dataframe\">\n",
       "  <thead>\n",
       "    <tr style=\"text-align: right;\">\n",
       "      <th></th>\n",
       "      <th>geo</th>\n",
       "      <th>time</th>\n",
       "      <th>children_per_woman_total_fertility</th>\n",
       "    </tr>\n",
       "  </thead>\n",
       "  <tbody>\n",
       "    <tr>\n",
       "      <th>160</th>\n",
       "      <td>afg</td>\n",
       "      <td>1960</td>\n",
       "      <td>7.67</td>\n",
       "    </tr>\n",
       "    <tr>\n",
       "      <th>376</th>\n",
       "      <td>alb</td>\n",
       "      <td>1960</td>\n",
       "      <td>6.19</td>\n",
       "    </tr>\n",
       "    <tr>\n",
       "      <th>592</th>\n",
       "      <td>dza</td>\n",
       "      <td>1960</td>\n",
       "      <td>7.65</td>\n",
       "    </tr>\n",
       "    <tr>\n",
       "      <th>808</th>\n",
       "      <td>ago</td>\n",
       "      <td>1960</td>\n",
       "      <td>7.32</td>\n",
       "    </tr>\n",
       "    <tr>\n",
       "      <th>1024</th>\n",
       "      <td>atg</td>\n",
       "      <td>1960</td>\n",
       "      <td>4.43</td>\n",
       "    </tr>\n",
       "    <tr>\n",
       "      <th>...</th>\n",
       "      <td>...</td>\n",
       "      <td>...</td>\n",
       "      <td>...</td>\n",
       "    </tr>\n",
       "    <tr>\n",
       "      <th>42492</th>\n",
       "      <td>vnm</td>\n",
       "      <td>1960</td>\n",
       "      <td>6.35</td>\n",
       "    </tr>\n",
       "    <tr>\n",
       "      <th>42708</th>\n",
       "      <td>vir</td>\n",
       "      <td>1960</td>\n",
       "      <td>5.62</td>\n",
       "    </tr>\n",
       "    <tr>\n",
       "      <th>42924</th>\n",
       "      <td>yem</td>\n",
       "      <td>1960</td>\n",
       "      <td>7.29</td>\n",
       "    </tr>\n",
       "    <tr>\n",
       "      <th>43140</th>\n",
       "      <td>zmb</td>\n",
       "      <td>1960</td>\n",
       "      <td>7.02</td>\n",
       "    </tr>\n",
       "    <tr>\n",
       "      <th>43356</th>\n",
       "      <td>zwe</td>\n",
       "      <td>1960</td>\n",
       "      <td>7.16</td>\n",
       "    </tr>\n",
       "  </tbody>\n",
       "</table>\n",
       "<p>201 rows × 3 columns</p>\n",
       "</div>"
      ],
      "text/plain": [
       "       geo  time  children_per_woman_total_fertility\n",
       "160    afg  1960                                7.67\n",
       "376    alb  1960                                6.19\n",
       "592    dza  1960                                7.65\n",
       "808    ago  1960                                7.32\n",
       "1024   atg  1960                                4.43\n",
       "...    ...   ...                                 ...\n",
       "42492  vnm  1960                                6.35\n",
       "42708  vir  1960                                5.62\n",
       "42924  yem  1960                                7.29\n",
       "43140  zmb  1960                                7.02\n",
       "43356  zwe  1960                                7.16\n",
       "\n",
       "[201 rows x 3 columns]"
      ]
     },
     "execution_count": 11,
     "metadata": {},
     "output_type": "execute_result"
    }
   ],
   "source": [
    "fertility[fertility.time == 1960]\n"
   ]
  },
  {
   "cell_type": "code",
   "execution_count": 12,
   "metadata": {},
   "outputs": [
    {
     "data": {
      "text/html": [
       "<div>\n",
       "<style scoped>\n",
       "    .dataframe tbody tr th:only-of-type {\n",
       "        vertical-align: middle;\n",
       "    }\n",
       "\n",
       "    .dataframe tbody tr th {\n",
       "        vertical-align: top;\n",
       "    }\n",
       "\n",
       "    .dataframe thead th {\n",
       "        text-align: right;\n",
       "    }\n",
       "</style>\n",
       "<table border=\"1\" class=\"dataframe\">\n",
       "  <thead>\n",
       "    <tr style=\"text-align: right;\">\n",
       "      <th></th>\n",
       "      <th>children_per_woman_total_fertility</th>\n",
       "    </tr>\n",
       "    <tr>\n",
       "      <th>geo</th>\n",
       "      <th></th>\n",
       "    </tr>\n",
       "  </thead>\n",
       "  <tbody>\n",
       "    <tr>\n",
       "      <th>afg</th>\n",
       "      <td>7.67</td>\n",
       "    </tr>\n",
       "    <tr>\n",
       "      <th>alb</th>\n",
       "      <td>6.19</td>\n",
       "    </tr>\n",
       "    <tr>\n",
       "      <th>dza</th>\n",
       "      <td>7.65</td>\n",
       "    </tr>\n",
       "    <tr>\n",
       "      <th>ago</th>\n",
       "      <td>7.32</td>\n",
       "    </tr>\n",
       "    <tr>\n",
       "      <th>atg</th>\n",
       "      <td>4.43</td>\n",
       "    </tr>\n",
       "    <tr>\n",
       "      <th>...</th>\n",
       "      <td>...</td>\n",
       "    </tr>\n",
       "    <tr>\n",
       "      <th>vnm</th>\n",
       "      <td>6.35</td>\n",
       "    </tr>\n",
       "    <tr>\n",
       "      <th>vir</th>\n",
       "      <td>5.62</td>\n",
       "    </tr>\n",
       "    <tr>\n",
       "      <th>yem</th>\n",
       "      <td>7.29</td>\n",
       "    </tr>\n",
       "    <tr>\n",
       "      <th>zmb</th>\n",
       "      <td>7.02</td>\n",
       "    </tr>\n",
       "    <tr>\n",
       "      <th>zwe</th>\n",
       "      <td>7.16</td>\n",
       "    </tr>\n",
       "  </tbody>\n",
       "</table>\n",
       "<p>201 rows × 1 columns</p>\n",
       "</div>"
      ],
      "text/plain": [
       "     children_per_woman_total_fertility\n",
       "geo                                    \n",
       "afg                                7.67\n",
       "alb                                6.19\n",
       "dza                                7.65\n",
       "ago                                7.32\n",
       "atg                                4.43\n",
       "..                                  ...\n",
       "vnm                                6.35\n",
       "vir                                5.62\n",
       "yem                                7.29\n",
       "zmb                                7.02\n",
       "zwe                                7.16\n",
       "\n",
       "[201 rows x 1 columns]"
      ]
     },
     "execution_count": 12,
     "metadata": {},
     "output_type": "execute_result"
    }
   ],
   "source": [
    "fertility[fertility.time == 1960].iloc[:, [0, 2]].set_index(\"geo\")"
   ]
  },
  {
   "cell_type": "code",
   "execution_count": 13,
   "metadata": {
    "deletable": false
   },
   "outputs": [
    {
     "data": {
      "image/png": "[encoded data removed]",
      "text/plain": [
       "<Figure size 640x480 with 2 Axes>"
      ]
     },
     "metadata": {},
     "output_type": "display_data"
    }
   ],
   "source": [
    "ax = pd.concat([\n",
    "    fertility[fertility.time == 1960].iloc[:, [0, 2]].rename(\n",
    "        columns={\"children_per_woman_total_fertility\": \"1960\"}\n",
    "    ).set_index(\"geo\"),\n",
    "    fertility[fertility.time == 2010].iloc[:, [0, 2]].rename(\n",
    "        columns={\"children_per_woman_total_fertility\": \"2010\"}\n",
    "    ).set_index(\"geo\")\n",
    "], axis=1).hist(bins=np.arange(0, 10, 0.5))\n",
    "for ix in range(len(ax[0])):\n",
    "    ax[0][ix].set_xlabel('Children per woman')\n",
    "    ax[0][ix].set_xticks(np.arange(10))\n",
    "    \n",
    "plots.show()\n"
   ]
  },
  {
   "cell_type": "markdown",
   "metadata": {
    "deletable": false,
    "editable": false
   },
   "source": [
    "**Question 7.** Assign `fertility_statements` to a list of the numbers for each statement below that can be correctly inferred from these histograms.\n",
    "1. About the same number of countries had a fertility rate between 3.5 and 4.5 in both 1960 and 2010. (False)\n",
    "1. In 2010, about 40% of countries had a fertility rate between 1.5 and 2.\n",
    "1. In 1960, less than 20% of countries had a fertility rate below 3.\n",
    "1. More countries had a fertility rate above 3 in 1960 than in 2010.(True)\n",
    "1. At least half of countries had a fertility rate between 5 and 8 in 1960. (True)\n",
    "1. At least half of countries had a fertility rate below 3 in 2010. (True)"
   ]
  },
  {
   "cell_type": "code",
   "execution_count": 14,
   "metadata": {
    "deletable": false
   },
   "outputs": [
    {
     "name": "stdout",
     "output_type": "stream",
     "text": [
      "['More countries had a fertility rate above 3 in 1960 than in 2010', 'At least half of countries had a fertility rate between 5 and 8 in 1960. ', 'At least half of countries had a fertility rate below 3 in 2010.']\n"
     ]
    }
   ],
   "source": [
    "fertility_statements = ['More countries had a fertility rate above 3 in 1960 than in 2010', 'At least half of countries had a fertility rate between 5 and 8 in 1960. ','At least half of countries had a fertility rate below 3 in 2010.']\n",
    "print(fertility_statements)"
   ]
  },
  {
   "cell_type": "code",
   "execution_count": null,
   "metadata": {
    "deletable": false
   },
   "outputs": [],
   "source": []
  },
  {
   "cell_type": "markdown",
   "metadata": {
    "deletable": false,
    "editable": false
   },
   "source": [
    "**Question 8.** Draw a line plot of the world population from 1800 through 2005. The world population is the sum of all the country's populations. "
   ]
  },
  {
   "cell_type": "code",
   "execution_count": 15,
   "metadata": {
    "deletable": false,
    "manual_grade": true,
    "manual_problem_id": "global_pop_10"
   },
   "outputs": [],
   "source": [
    "# write your solution here\n"
   ]
  },
  {
   "cell_type": "markdown",
   "metadata": {
    "deletable": false,
    "editable": false
   },
   "source": [
    "**Question 9.** Create a function `stats_for_year` that takes a `year` and returns a table of statistics. The table it returns should have four columns: `geo`, `population_total`, `children_per_woman_total_fertility`, and `child_mortality_under_5_per_1000_born`. Each row should contain one Alpha-3 country code and three statistics: population, fertility rate, and child mortality for that `year` from the `population`, `fertility` and `child_mortality` tables. Only include rows for which all three statistics are available for the country and year.\n",
    "\n",
    "In addition, restrict the result to country codes that appears in `big_50`, an array of the 50 most populous countries in 2010. This restriction will speed up computations later in the project."
   ]
  },
  {
   "cell_type": "code",
   "execution_count": 16,
   "metadata": {},
   "outputs": [
    {
     "data": {
      "text/html": [
       "<div>\n",
       "<style scoped>\n",
       "    .dataframe tbody tr th:only-of-type {\n",
       "        vertical-align: middle;\n",
       "    }\n",
       "\n",
       "    .dataframe tbody tr th {\n",
       "        vertical-align: top;\n",
       "    }\n",
       "\n",
       "    .dataframe thead th {\n",
       "        text-align: right;\n",
       "    }\n",
       "</style>\n",
       "<table border=\"1\" class=\"dataframe\">\n",
       "  <thead>\n",
       "    <tr style=\"text-align: right;\">\n",
       "      <th></th>\n",
       "      <th>geo</th>\n",
       "      <th>time</th>\n",
       "      <th>population_total</th>\n",
       "    </tr>\n",
       "  </thead>\n",
       "  <tbody>\n",
       "    <tr>\n",
       "      <th>39173</th>\n",
       "      <td>irq</td>\n",
       "      <td>2010</td>\n",
       "      <td>30868156</td>\n",
       "    </tr>\n",
       "    <tr>\n",
       "      <th>82255</th>\n",
       "      <td>usa</td>\n",
       "      <td>2010</td>\n",
       "      <td>309876170</td>\n",
       "    </tr>\n",
       "    <tr>\n",
       "      <th>10728</th>\n",
       "      <td>bra</td>\n",
       "      <td>2010</td>\n",
       "      <td>198614208</td>\n",
       "    </tr>\n",
       "    <tr>\n",
       "      <th>76990</th>\n",
       "      <td>tha</td>\n",
       "      <td>2010</td>\n",
       "      <td>66692024</td>\n",
       "    </tr>\n",
       "    <tr>\n",
       "      <th>37670</th>\n",
       "      <td>ind</td>\n",
       "      <td>2010</td>\n",
       "      <td>1230984504</td>\n",
       "    </tr>\n",
       "  </tbody>\n",
       "</table>\n",
       "</div>"
      ],
      "text/plain": [
       "       geo  time  population_total\n",
       "39173  irq  2010          30868156\n",
       "82255  usa  2010         309876170\n",
       "10728  bra  2010         198614208\n",
       "76990  tha  2010          66692024\n",
       "37670  ind  2010        1230984504"
      ]
     },
     "execution_count": 16,
     "metadata": {},
     "output_type": "execute_result"
    }
   ],
   "source": [
    "big_50 = population[(population[\"time\"] == 2010)].sort_values(\n",
    "    by=\"population_total\", ascending=False\n",
    ").head(50)\n",
    "population_of_big_50 = big_50.population_total\n",
    "big_50.sample(5)"
   ]
  },
  {
   "cell_type": "code",
   "execution_count": 17,
   "metadata": {
    "deletable": false
   },
   "outputs": [],
   "source": [
    "# We first create a population table that only includes the \n",
    "# 50 countries with the largest 2010 populations. We focus on \n",
    "# these 50 countries only so that plotting later will run faster.\n",
    "\n",
    "def stats_for_year(year: int) -> pd.DataFrame:\n",
    "\n",
    "    big_50 = population[population[\"time\"] == year].sort_values(\n",
    "        by=\"population_total\", ascending=False\n",
    "    ).head(50)\n",
    "    #population_of_big_50 = big_50.population_total\n",
    "\n",
    "\n",
    "\n",
    "    s_fert_50 =  pd.merge(left=big_50, right=fertility , how='left', left_on=['geo','time'], right_on=['geo','time'])\n",
    "    s_child_50 =  pd.merge(left=s_fert_50, right=child_mortality , how='left', left_on=['geo','time'], right_on=['geo','time'])\n",
    "    stats_50 = s_child_50.rename(columns={'child_mortality_0_5_year_olds_dying_per_1000_born':'child_mortality_under_5_per_1000_born'})\n",
    "    stats_50s = stats_50.drop('time', axis=1)\n",
    "    \n",
    "    return stats_50s"
   ]
  },
  {
   "cell_type": "markdown",
   "metadata": {},
   "source": [
    "**Question 10.** Create a table called `pop_by_decade` with two columns called `decade` and `population`. It has a row for each `year` since 1960 that starts a decade. The `population` column contains the total population of all countries included in the result of `stats_for_year(year)` for the first `year` of the decade. For example, 1960 is the first year of the 1960's decade. You should see that these countries contain most of the world's population.\n",
    "\n",
    "*Hint:* One approach is to define a function `pop_for_year` that computes this total population, then `apply` it to the `decade` column. "
   ]
  },
  {
   "cell_type": "code",
   "execution_count": 18,
   "metadata": {
    "deletable": false
   },
   "outputs": [
    {
     "data": {
      "text/html": [
       "<div>\n",
       "<style scoped>\n",
       "    .dataframe tbody tr th:only-of-type {\n",
       "        vertical-align: middle;\n",
       "    }\n",
       "\n",
       "    .dataframe tbody tr th {\n",
       "        vertical-align: top;\n",
       "    }\n",
       "\n",
       "    .dataframe thead th {\n",
       "        text-align: right;\n",
       "    }\n",
       "</style>\n",
       "<table border=\"1\" class=\"dataframe\">\n",
       "  <thead>\n",
       "    <tr style=\"text-align: right;\">\n",
       "      <th></th>\n",
       "      <th>decade</th>\n",
       "      <th>population</th>\n",
       "    </tr>\n",
       "  </thead>\n",
       "  <tbody>\n",
       "    <tr>\n",
       "      <th>0</th>\n",
       "      <td>1960</td>\n",
       "      <td>2978407502</td>\n",
       "    </tr>\n",
       "    <tr>\n",
       "      <th>1</th>\n",
       "      <td>1970</td>\n",
       "      <td>3601581864</td>\n",
       "    </tr>\n",
       "    <tr>\n",
       "      <th>2</th>\n",
       "      <td>1980</td>\n",
       "      <td>4288665603</td>\n",
       "    </tr>\n",
       "    <tr>\n",
       "      <th>3</th>\n",
       "      <td>1990</td>\n",
       "      <td>5077548174</td>\n",
       "    </tr>\n",
       "    <tr>\n",
       "      <th>4</th>\n",
       "      <td>2000</td>\n",
       "      <td>5786944529</td>\n",
       "    </tr>\n",
       "    <tr>\n",
       "      <th>5</th>\n",
       "      <td>2010</td>\n",
       "      <td>6040810517</td>\n",
       "    </tr>\n",
       "  </tbody>\n",
       "</table>\n",
       "</div>"
      ],
      "text/plain": [
       "   decade  population\n",
       "0    1960  2978407502\n",
       "1    1970  3601581864\n",
       "2    1980  4288665603\n",
       "3    1990  5077548174\n",
       "4    2000  5786944529\n",
       "5    2010  6040810517"
      ]
     },
     "execution_count": 18,
     "metadata": {},
     "output_type": "execute_result"
    }
   ],
   "source": [
    "decades = pd.DataFrame({\n",
    "    'decade': np.arange(1960, 2011, 10)\n",
    "    }\n",
    ")\n",
    "#decades\n",
    "def pop_for_year(year):\n",
    "\n",
    "    df_1 = stats_for_year(year)\n",
    "    total = df_1['population_total'].sum()\n",
    "    return total\n",
    "\n",
    "decades['population'] = decades['decade'].apply(pop_for_year) \n",
    "\n",
    "decades\n"
   ]
  },
  {
   "cell_type": "code",
   "execution_count": null,
   "metadata": {
    "deletable": false
   },
   "outputs": [],
   "source": []
  },
  {
   "cell_type": "markdown",
   "metadata": {
    "deletable": false,
    "editable": false
   },
   "source": [
    "The `countries` table describes various characteristics of countries. The `country` column contains the same codes as the `geo` column in each of the other data tables (`population`, `fertility`, and `child_mortality`). The `world_6region` column classifies each country into a region of the world. Run the cell below to inspect the data."
   ]
  },
  {
   "cell_type": "code",
   "execution_count": 19,
   "metadata": {
    "deletable": false
   },
   "outputs": [
    {
     "data": {
      "text/html": [
       "<div>\n",
       "<style scoped>\n",
       "    .dataframe tbody tr th:only-of-type {\n",
       "        vertical-align: middle;\n",
       "    }\n",
       "\n",
       "    .dataframe tbody tr th {\n",
       "        vertical-align: top;\n",
       "    }\n",
       "\n",
       "    .dataframe thead th {\n",
       "        text-align: right;\n",
       "    }\n",
       "</style>\n",
       "<table border=\"1\" class=\"dataframe\">\n",
       "  <thead>\n",
       "    <tr style=\"text-align: right;\">\n",
       "      <th></th>\n",
       "      <th>country</th>\n",
       "      <th>name</th>\n",
       "      <th>world_6region</th>\n",
       "    </tr>\n",
       "  </thead>\n",
       "  <tbody>\n",
       "    <tr>\n",
       "      <th>0</th>\n",
       "      <td>abkh</td>\n",
       "      <td>Abkhazia</td>\n",
       "      <td>europe_central_asia</td>\n",
       "    </tr>\n",
       "    <tr>\n",
       "      <th>1</th>\n",
       "      <td>afg</td>\n",
       "      <td>Afghanistan</td>\n",
       "      <td>south_asia</td>\n",
       "    </tr>\n",
       "    <tr>\n",
       "      <th>2</th>\n",
       "      <td>akr_a_dhe</td>\n",
       "      <td>Akrotiri and Dhekelia</td>\n",
       "      <td>europe_central_asia</td>\n",
       "    </tr>\n",
       "    <tr>\n",
       "      <th>3</th>\n",
       "      <td>alb</td>\n",
       "      <td>Albania</td>\n",
       "      <td>europe_central_asia</td>\n",
       "    </tr>\n",
       "    <tr>\n",
       "      <th>4</th>\n",
       "      <td>dza</td>\n",
       "      <td>Algeria</td>\n",
       "      <td>middle_east_north_africa</td>\n",
       "    </tr>\n",
       "    <tr>\n",
       "      <th>...</th>\n",
       "      <td>...</td>\n",
       "      <td>...</td>\n",
       "      <td>...</td>\n",
       "    </tr>\n",
       "    <tr>\n",
       "      <th>270</th>\n",
       "      <td>yem</td>\n",
       "      <td>Yemen</td>\n",
       "      <td>middle_east_north_africa</td>\n",
       "    </tr>\n",
       "    <tr>\n",
       "      <th>271</th>\n",
       "      <td>yug</td>\n",
       "      <td>Yugoslavia</td>\n",
       "      <td>europe_central_asia</td>\n",
       "    </tr>\n",
       "    <tr>\n",
       "      <th>272</th>\n",
       "      <td>zmb</td>\n",
       "      <td>Zambia</td>\n",
       "      <td>sub_saharan_africa</td>\n",
       "    </tr>\n",
       "    <tr>\n",
       "      <th>273</th>\n",
       "      <td>zwe</td>\n",
       "      <td>Zimbabwe</td>\n",
       "      <td>sub_saharan_africa</td>\n",
       "    </tr>\n",
       "    <tr>\n",
       "      <th>274</th>\n",
       "      <td>ala</td>\n",
       "      <td>Åland</td>\n",
       "      <td>europe_central_asia</td>\n",
       "    </tr>\n",
       "  </tbody>\n",
       "</table>\n",
       "<p>275 rows × 3 columns</p>\n",
       "</div>"
      ],
      "text/plain": [
       "       country                   name             world_6region\n",
       "0         abkh               Abkhazia       europe_central_asia\n",
       "1          afg            Afghanistan                south_asia\n",
       "2    akr_a_dhe  Akrotiri and Dhekelia       europe_central_asia\n",
       "3          alb                Albania       europe_central_asia\n",
       "4          dza                Algeria  middle_east_north_africa\n",
       "..         ...                    ...                       ...\n",
       "270        yem                  Yemen  middle_east_north_africa\n",
       "271        yug             Yugoslavia       europe_central_asia\n",
       "272        zmb                 Zambia        sub_saharan_africa\n",
       "273        zwe               Zimbabwe        sub_saharan_africa\n",
       "274        ala                  Åland       europe_central_asia\n",
       "\n",
       "[275 rows x 3 columns]"
      ]
     },
     "execution_count": 19,
     "metadata": {},
     "output_type": "execute_result"
    }
   ],
   "source": [
    "countries = pd.read_csv('../datasets/countries.csv')\n",
    "countries[['country', 'name', 'world_6region']]"
   ]
  },
  {
   "cell_type": "markdown",
   "metadata": {
    "deletable": false,
    "editable": false
   },
   "source": [
    "## 2. Global Poverty\n"
   ]
  },
  {
   "cell_type": "markdown",
   "metadata": {
    "deletable": false,
    "editable": false
   },
   "source": [
    "In 1800, 85% of the world's 1 billion people lived in *extreme poverty*, defined by the United Nations as \"a condition characterized by severe deprivation of basic human needs, including food, safe drinking water, sanitation facilities, health, shelter, education and information.\" A common measure of extreme poverty is a person living on less than \\$1.25 per day.\n",
    "\n",
    "In 2015, the proportion of people living in extreme poverty was estimated to be 12%. Although the world rate of extreme poverty has declined consistently for hundreds of years, the number of people living in extreme poverty is still close to 1 billion. The United Nations recently adopted an [ambitious goal](http://www.un.org/sustainabledevelopment/poverty/): \"By 2030, eradicate extreme poverty for all people everywhere.\"\n",
    "In this section, we will examine extreme poverty trends around the world."
   ]
  },
  {
   "cell_type": "markdown",
   "metadata": {
    "deletable": false,
    "editable": false
   },
   "source": [
    "First, load the population and poverty rate by country and year and the country descriptions. While the `population` table has values for every recent year for many countries, the `poverty` table only includes certain years for each country in which a measurement of the rate of extreme poverty was available."
   ]
  },
  {
   "cell_type": "code",
   "execution_count": 20,
   "metadata": {
    "deletable": false
   },
   "outputs": [
    {
     "data": {
      "text/html": [
       "<div>\n",
       "<style scoped>\n",
       "    .dataframe tbody tr th:only-of-type {\n",
       "        vertical-align: middle;\n",
       "    }\n",
       "\n",
       "    .dataframe tbody tr th {\n",
       "        vertical-align: top;\n",
       "    }\n",
       "\n",
       "    .dataframe thead th {\n",
       "        text-align: right;\n",
       "    }\n",
       "</style>\n",
       "<table border=\"1\" class=\"dataframe\">\n",
       "  <thead>\n",
       "    <tr style=\"text-align: right;\">\n",
       "      <th></th>\n",
       "      <th>geo</th>\n",
       "      <th>time</th>\n",
       "      <th>population_total</th>\n",
       "    </tr>\n",
       "  </thead>\n",
       "  <tbody>\n",
       "    <tr>\n",
       "      <th>0</th>\n",
       "      <td>abw</td>\n",
       "      <td>1800</td>\n",
       "      <td>19286</td>\n",
       "    </tr>\n",
       "    <tr>\n",
       "      <th>1</th>\n",
       "      <td>abw</td>\n",
       "      <td>1801</td>\n",
       "      <td>19286</td>\n",
       "    </tr>\n",
       "    <tr>\n",
       "      <th>2</th>\n",
       "      <td>abw</td>\n",
       "      <td>1802</td>\n",
       "      <td>19286</td>\n",
       "    </tr>\n",
       "    <tr>\n",
       "      <th>3</th>\n",
       "      <td>abw</td>\n",
       "      <td>1803</td>\n",
       "      <td>19286</td>\n",
       "    </tr>\n",
       "    <tr>\n",
       "      <th>4</th>\n",
       "      <td>abw</td>\n",
       "      <td>1804</td>\n",
       "      <td>19286</td>\n",
       "    </tr>\n",
       "  </tbody>\n",
       "</table>\n",
       "</div>"
      ],
      "text/plain": [
       "   geo  time  population_total\n",
       "0  abw  1800             19286\n",
       "1  abw  1801             19286\n",
       "2  abw  1802             19286\n",
       "3  abw  1803             19286\n",
       "4  abw  1804             19286"
      ]
     },
     "execution_count": 20,
     "metadata": {},
     "output_type": "execute_result"
    }
   ],
   "source": [
    "population = pd.read_csv('../datasets/population.csv')\n",
    "# NOTE: The code here below is 'pseudo-code' and you have to modify it in order to have it working accordingly\n",
    "population.head(5)"
   ]
  },
  {
   "cell_type": "code",
   "execution_count": 21,
   "metadata": {},
   "outputs": [
    {
     "data": {
      "text/html": [
       "<div>\n",
       "<style scoped>\n",
       "    .dataframe tbody tr th:only-of-type {\n",
       "        vertical-align: middle;\n",
       "    }\n",
       "\n",
       "    .dataframe tbody tr th {\n",
       "        vertical-align: top;\n",
       "    }\n",
       "\n",
       "    .dataframe thead th {\n",
       "        text-align: right;\n",
       "    }\n",
       "</style>\n",
       "<table border=\"1\" class=\"dataframe\">\n",
       "  <thead>\n",
       "    <tr style=\"text-align: right;\">\n",
       "      <th></th>\n",
       "      <th>country</th>\n",
       "      <th>gwid</th>\n",
       "      <th>name</th>\n",
       "      <th>world_6region</th>\n",
       "      <th>income_groups</th>\n",
       "      <th>landlocked</th>\n",
       "      <th>g77_and_oecd_countries</th>\n",
       "      <th>main_religion_2008</th>\n",
       "      <th>gapminder_list</th>\n",
       "      <th>alternative_1</th>\n",
       "      <th>...</th>\n",
       "      <th>arb1</th>\n",
       "      <th>arb2</th>\n",
       "      <th>arb3</th>\n",
       "      <th>arb4</th>\n",
       "      <th>arb5</th>\n",
       "      <th>arb6</th>\n",
       "      <th>is--country</th>\n",
       "      <th>world_4region</th>\n",
       "      <th>latitude</th>\n",
       "      <th>longitude</th>\n",
       "    </tr>\n",
       "  </thead>\n",
       "  <tbody>\n",
       "    <tr>\n",
       "      <th>122</th>\n",
       "      <td>ken</td>\n",
       "      <td>i114</td>\n",
       "      <td>Kenya</td>\n",
       "      <td>sub_saharan_africa</td>\n",
       "      <td>low_income</td>\n",
       "      <td>coastline</td>\n",
       "      <td>g77</td>\n",
       "      <td>christian</td>\n",
       "      <td>Kenya</td>\n",
       "      <td>NaN</td>\n",
       "      <td>...</td>\n",
       "      <td>NaN</td>\n",
       "      <td>NaN</td>\n",
       "      <td>NaN</td>\n",
       "      <td>NaN</td>\n",
       "      <td>NaN</td>\n",
       "      <td>NaN</td>\n",
       "      <td>True</td>\n",
       "      <td>africa</td>\n",
       "      <td>1.00000</td>\n",
       "      <td>38.00000</td>\n",
       "    </tr>\n",
       "    <tr>\n",
       "      <th>238</th>\n",
       "      <td>tha</td>\n",
       "      <td>i224</td>\n",
       "      <td>Thailand</td>\n",
       "      <td>east_asia_pacific</td>\n",
       "      <td>upper_middle_income</td>\n",
       "      <td>coastline</td>\n",
       "      <td>g77</td>\n",
       "      <td>eastern_religions</td>\n",
       "      <td>Thailand</td>\n",
       "      <td>NaN</td>\n",
       "      <td>...</td>\n",
       "      <td>NaN</td>\n",
       "      <td>NaN</td>\n",
       "      <td>NaN</td>\n",
       "      <td>NaN</td>\n",
       "      <td>NaN</td>\n",
       "      <td>NaN</td>\n",
       "      <td>True</td>\n",
       "      <td>asia</td>\n",
       "      <td>15.50000</td>\n",
       "      <td>101.00000</td>\n",
       "    </tr>\n",
       "    <tr>\n",
       "      <th>259</th>\n",
       "      <td>uzb</td>\n",
       "      <td>i243</td>\n",
       "      <td>Uzbekistan</td>\n",
       "      <td>europe_central_asia</td>\n",
       "      <td>lower_middle_income</td>\n",
       "      <td>landlocked</td>\n",
       "      <td>others</td>\n",
       "      <td>muslim</td>\n",
       "      <td>Uzbekistan</td>\n",
       "      <td>NaN</td>\n",
       "      <td>...</td>\n",
       "      <td>NaN</td>\n",
       "      <td>NaN</td>\n",
       "      <td>NaN</td>\n",
       "      <td>NaN</td>\n",
       "      <td>NaN</td>\n",
       "      <td>NaN</td>\n",
       "      <td>True</td>\n",
       "      <td>asia</td>\n",
       "      <td>41.66667</td>\n",
       "      <td>63.83333</td>\n",
       "    </tr>\n",
       "    <tr>\n",
       "      <th>268</th>\n",
       "      <td>deu_west</td>\n",
       "      <td>i248</td>\n",
       "      <td>West Germany</td>\n",
       "      <td>europe_central_asia</td>\n",
       "      <td>NaN</td>\n",
       "      <td>coastline</td>\n",
       "      <td>others</td>\n",
       "      <td>NaN</td>\n",
       "      <td>West Germany</td>\n",
       "      <td>NaN</td>\n",
       "      <td>...</td>\n",
       "      <td>NaN</td>\n",
       "      <td>NaN</td>\n",
       "      <td>NaN</td>\n",
       "      <td>NaN</td>\n",
       "      <td>NaN</td>\n",
       "      <td>NaN</td>\n",
       "      <td>True</td>\n",
       "      <td>europe</td>\n",
       "      <td>NaN</td>\n",
       "      <td>NaN</td>\n",
       "    </tr>\n",
       "    <tr>\n",
       "      <th>182</th>\n",
       "      <td>png</td>\n",
       "      <td>i173</td>\n",
       "      <td>Papua New Guinea</td>\n",
       "      <td>east_asia_pacific</td>\n",
       "      <td>lower_middle_income</td>\n",
       "      <td>coastline</td>\n",
       "      <td>g77</td>\n",
       "      <td>christian</td>\n",
       "      <td>Papua New Guinea</td>\n",
       "      <td>Papua NG</td>\n",
       "      <td>...</td>\n",
       "      <td>NaN</td>\n",
       "      <td>NaN</td>\n",
       "      <td>NaN</td>\n",
       "      <td>NaN</td>\n",
       "      <td>NaN</td>\n",
       "      <td>NaN</td>\n",
       "      <td>True</td>\n",
       "      <td>asia</td>\n",
       "      <td>-6.00000</td>\n",
       "      <td>147.00000</td>\n",
       "    </tr>\n",
       "    <tr>\n",
       "      <th>60</th>\n",
       "      <td>nld_curacao</td>\n",
       "      <td>i280</td>\n",
       "      <td>Curaçao</td>\n",
       "      <td>america</td>\n",
       "      <td>high_income</td>\n",
       "      <td>coastline</td>\n",
       "      <td>others</td>\n",
       "      <td>christian</td>\n",
       "      <td>NaN</td>\n",
       "      <td>NaN</td>\n",
       "      <td>...</td>\n",
       "      <td>NaN</td>\n",
       "      <td>NaN</td>\n",
       "      <td>NaN</td>\n",
       "      <td>NaN</td>\n",
       "      <td>NaN</td>\n",
       "      <td>NaN</td>\n",
       "      <td>True</td>\n",
       "      <td>americas</td>\n",
       "      <td>12.16667</td>\n",
       "      <td>-68.96667</td>\n",
       "    </tr>\n",
       "    <tr>\n",
       "      <th>71</th>\n",
       "      <td>slv</td>\n",
       "      <td>i66</td>\n",
       "      <td>El Salvador</td>\n",
       "      <td>america</td>\n",
       "      <td>lower_middle_income</td>\n",
       "      <td>coastline</td>\n",
       "      <td>g77</td>\n",
       "      <td>christian</td>\n",
       "      <td>El Salvador</td>\n",
       "      <td>NaN</td>\n",
       "      <td>...</td>\n",
       "      <td>NaN</td>\n",
       "      <td>NaN</td>\n",
       "      <td>NaN</td>\n",
       "      <td>NaN</td>\n",
       "      <td>NaN</td>\n",
       "      <td>NaN</td>\n",
       "      <td>True</td>\n",
       "      <td>americas</td>\n",
       "      <td>13.83333</td>\n",
       "      <td>-88.91667</td>\n",
       "    </tr>\n",
       "    <tr>\n",
       "      <th>274</th>\n",
       "      <td>ala</td>\n",
       "      <td>i258</td>\n",
       "      <td>Åland</td>\n",
       "      <td>europe_central_asia</td>\n",
       "      <td>NaN</td>\n",
       "      <td>coastline</td>\n",
       "      <td>others</td>\n",
       "      <td>NaN</td>\n",
       "      <td>Åland</td>\n",
       "      <td>√Öland</td>\n",
       "      <td>...</td>\n",
       "      <td>NaN</td>\n",
       "      <td>NaN</td>\n",
       "      <td>NaN</td>\n",
       "      <td>NaN</td>\n",
       "      <td>NaN</td>\n",
       "      <td>NaN</td>\n",
       "      <td>True</td>\n",
       "      <td>europe</td>\n",
       "      <td>60.25000</td>\n",
       "      <td>20.00000</td>\n",
       "    </tr>\n",
       "    <tr>\n",
       "      <th>88</th>\n",
       "      <td>geo</td>\n",
       "      <td>i81</td>\n",
       "      <td>Georgia</td>\n",
       "      <td>europe_central_asia</td>\n",
       "      <td>lower_middle_income</td>\n",
       "      <td>coastline</td>\n",
       "      <td>others</td>\n",
       "      <td>christian</td>\n",
       "      <td>Georgia</td>\n",
       "      <td>NaN</td>\n",
       "      <td>...</td>\n",
       "      <td>NaN</td>\n",
       "      <td>NaN</td>\n",
       "      <td>NaN</td>\n",
       "      <td>NaN</td>\n",
       "      <td>NaN</td>\n",
       "      <td>NaN</td>\n",
       "      <td>True</td>\n",
       "      <td>europe</td>\n",
       "      <td>41.99998</td>\n",
       "      <td>43.49990</td>\n",
       "    </tr>\n",
       "    <tr>\n",
       "      <th>108</th>\n",
       "      <td>isl</td>\n",
       "      <td>i100</td>\n",
       "      <td>Iceland</td>\n",
       "      <td>europe_central_asia</td>\n",
       "      <td>high_income</td>\n",
       "      <td>coastline</td>\n",
       "      <td>oecd</td>\n",
       "      <td>christian</td>\n",
       "      <td>Iceland</td>\n",
       "      <td>NaN</td>\n",
       "      <td>...</td>\n",
       "      <td>NaN</td>\n",
       "      <td>NaN</td>\n",
       "      <td>NaN</td>\n",
       "      <td>NaN</td>\n",
       "      <td>NaN</td>\n",
       "      <td>NaN</td>\n",
       "      <td>True</td>\n",
       "      <td>europe</td>\n",
       "      <td>65.00000</td>\n",
       "      <td>-18.00000</td>\n",
       "    </tr>\n",
       "  </tbody>\n",
       "</table>\n",
       "<p>10 rows × 29 columns</p>\n",
       "</div>"
      ],
      "text/plain": [
       "         country  gwid              name        world_6region  \\\n",
       "122          ken  i114             Kenya   sub_saharan_africa   \n",
       "238          tha  i224          Thailand    east_asia_pacific   \n",
       "259          uzb  i243        Uzbekistan  europe_central_asia   \n",
       "268     deu_west  i248      West Germany  europe_central_asia   \n",
       "182          png  i173  Papua New Guinea    east_asia_pacific   \n",
       "60   nld_curacao  i280           Curaçao              america   \n",
       "71           slv   i66       El Salvador              america   \n",
       "274          ala  i258             Åland  europe_central_asia   \n",
       "88           geo   i81           Georgia  europe_central_asia   \n",
       "108          isl  i100           Iceland  europe_central_asia   \n",
       "\n",
       "           income_groups  landlocked g77_and_oecd_countries  \\\n",
       "122           low_income   coastline                    g77   \n",
       "238  upper_middle_income   coastline                    g77   \n",
       "259  lower_middle_income  landlocked                 others   \n",
       "268                  NaN   coastline                 others   \n",
       "182  lower_middle_income   coastline                    g77   \n",
       "60           high_income   coastline                 others   \n",
       "71   lower_middle_income   coastline                    g77   \n",
       "274                  NaN   coastline                 others   \n",
       "88   lower_middle_income   coastline                 others   \n",
       "108          high_income   coastline                   oecd   \n",
       "\n",
       "    main_religion_2008    gapminder_list alternative_1  ... arb1 arb2 arb3  \\\n",
       "122          christian             Kenya           NaN  ...  NaN  NaN  NaN   \n",
       "238  eastern_religions          Thailand           NaN  ...  NaN  NaN  NaN   \n",
       "259             muslim        Uzbekistan           NaN  ...  NaN  NaN  NaN   \n",
       "268                NaN      West Germany           NaN  ...  NaN  NaN  NaN   \n",
       "182          christian  Papua New Guinea      Papua NG  ...  NaN  NaN  NaN   \n",
       "60           christian               NaN           NaN  ...  NaN  NaN  NaN   \n",
       "71           christian       El Salvador           NaN  ...  NaN  NaN  NaN   \n",
       "274                NaN             Åland        √Öland  ...  NaN  NaN  NaN   \n",
       "88           christian           Georgia           NaN  ...  NaN  NaN  NaN   \n",
       "108          christian           Iceland           NaN  ...  NaN  NaN  NaN   \n",
       "\n",
       "    arb4 arb5 arb6 is--country world_4region  latitude  longitude  \n",
       "122  NaN  NaN  NaN        True        africa   1.00000   38.00000  \n",
       "238  NaN  NaN  NaN        True          asia  15.50000  101.00000  \n",
       "259  NaN  NaN  NaN        True          asia  41.66667   63.83333  \n",
       "268  NaN  NaN  NaN        True        europe       NaN        NaN  \n",
       "182  NaN  NaN  NaN        True          asia  -6.00000  147.00000  \n",
       "60   NaN  NaN  NaN        True      americas  12.16667  -68.96667  \n",
       "71   NaN  NaN  NaN        True      americas  13.83333  -88.91667  \n",
       "274  NaN  NaN  NaN        True        europe  60.25000   20.00000  \n",
       "88   NaN  NaN  NaN        True        europe  41.99998   43.49990  \n",
       "108  NaN  NaN  NaN        True        europe  65.00000  -18.00000  \n",
       "\n",
       "[10 rows x 29 columns]"
      ]
     },
     "execution_count": 21,
     "metadata": {},
     "output_type": "execute_result"
    }
   ],
   "source": [
    "countries =  pd.read_csv('../datasets/countries.csv')\n",
    "countries = countries[countries['country'].isin(population.geo.unique())]\n",
    "countries.sample(10)"
   ]
  },
  {
   "cell_type": "code",
   "execution_count": 22,
   "metadata": {},
   "outputs": [
    {
     "data": {
      "text/html": [
       "<div>\n",
       "<style scoped>\n",
       "    .dataframe tbody tr th:only-of-type {\n",
       "        vertical-align: middle;\n",
       "    }\n",
       "\n",
       "    .dataframe tbody tr th {\n",
       "        vertical-align: top;\n",
       "    }\n",
       "\n",
       "    .dataframe thead th {\n",
       "        text-align: right;\n",
       "    }\n",
       "</style>\n",
       "<table border=\"1\" class=\"dataframe\">\n",
       "  <thead>\n",
       "    <tr style=\"text-align: right;\">\n",
       "      <th></th>\n",
       "      <th>geo</th>\n",
       "      <th>time</th>\n",
       "      <th>extreme_poverty_percent_people_below_125_a_day</th>\n",
       "    </tr>\n",
       "  </thead>\n",
       "  <tbody>\n",
       "    <tr>\n",
       "      <th>635</th>\n",
       "      <td>mkd</td>\n",
       "      <td>2000</td>\n",
       "      <td>4.17</td>\n",
       "    </tr>\n",
       "    <tr>\n",
       "      <th>76</th>\n",
       "      <td>blr</td>\n",
       "      <td>1995</td>\n",
       "      <td>0.36</td>\n",
       "    </tr>\n",
       "    <tr>\n",
       "      <th>526</th>\n",
       "      <td>irl</td>\n",
       "      <td>1996</td>\n",
       "      <td>0.00</td>\n",
       "    </tr>\n",
       "    <tr>\n",
       "      <th>357</th>\n",
       "      <td>slv</td>\n",
       "      <td>2002</td>\n",
       "      <td>14.68</td>\n",
       "    </tr>\n",
       "    <tr>\n",
       "      <th>29</th>\n",
       "      <td>arg</td>\n",
       "      <td>2008</td>\n",
       "      <td>2.74</td>\n",
       "    </tr>\n",
       "    <tr>\n",
       "      <th>269</th>\n",
       "      <td>cri</td>\n",
       "      <td>2005</td>\n",
       "      <td>3.57</td>\n",
       "    </tr>\n",
       "    <tr>\n",
       "      <th>88</th>\n",
       "      <td>blr</td>\n",
       "      <td>2009</td>\n",
       "      <td>0.01</td>\n",
       "    </tr>\n",
       "    <tr>\n",
       "      <th>1095</th>\n",
       "      <td>zmb</td>\n",
       "      <td>2003</td>\n",
       "      <td>64.60</td>\n",
       "    </tr>\n",
       "    <tr>\n",
       "      <th>632</th>\n",
       "      <td>ltu</td>\n",
       "      <td>2010</td>\n",
       "      <td>1.48</td>\n",
       "    </tr>\n",
       "    <tr>\n",
       "      <th>408</th>\n",
       "      <td>geo</td>\n",
       "      <td>1999</td>\n",
       "      <td>17.19</td>\n",
       "    </tr>\n",
       "    <tr>\n",
       "      <th>257</th>\n",
       "      <td>cri</td>\n",
       "      <td>1993</td>\n",
       "      <td>6.89</td>\n",
       "    </tr>\n",
       "    <tr>\n",
       "      <th>739</th>\n",
       "      <td>ner</td>\n",
       "      <td>1992</td>\n",
       "      <td>72.79</td>\n",
       "    </tr>\n",
       "    <tr>\n",
       "      <th>1085</th>\n",
       "      <td>vnm</td>\n",
       "      <td>2006</td>\n",
       "      <td>21.44</td>\n",
       "    </tr>\n",
       "    <tr>\n",
       "      <th>754</th>\n",
       "      <td>nor</td>\n",
       "      <td>2007</td>\n",
       "      <td>0.33</td>\n",
       "    </tr>\n",
       "    <tr>\n",
       "      <th>875</th>\n",
       "      <td>rus</td>\n",
       "      <td>2008</td>\n",
       "      <td>0.00</td>\n",
       "    </tr>\n",
       "    <tr>\n",
       "      <th>54</th>\n",
       "      <td>aut</td>\n",
       "      <td>1994</td>\n",
       "      <td>0.40</td>\n",
       "    </tr>\n",
       "    <tr>\n",
       "      <th>815</th>\n",
       "      <td>per</td>\n",
       "      <td>2009</td>\n",
       "      <td>3.50</td>\n",
       "    </tr>\n",
       "    <tr>\n",
       "      <th>65</th>\n",
       "      <td>aze</td>\n",
       "      <td>2008</td>\n",
       "      <td>0.31</td>\n",
       "    </tr>\n",
       "    <tr>\n",
       "      <th>1080</th>\n",
       "      <td>pse</td>\n",
       "      <td>2009</td>\n",
       "      <td>0.08</td>\n",
       "    </tr>\n",
       "    <tr>\n",
       "      <th>671</th>\n",
       "      <td>mrt</td>\n",
       "      <td>2004</td>\n",
       "      <td>25.41</td>\n",
       "    </tr>\n",
       "    <tr>\n",
       "      <th>40</th>\n",
       "      <td>arm</td>\n",
       "      <td>2006</td>\n",
       "      <td>3.17</td>\n",
       "    </tr>\n",
       "    <tr>\n",
       "      <th>597</th>\n",
       "      <td>lao</td>\n",
       "      <td>1992</td>\n",
       "      <td>55.68</td>\n",
       "    </tr>\n",
       "    <tr>\n",
       "      <th>369</th>\n",
       "      <td>est</td>\n",
       "      <td>1993</td>\n",
       "      <td>0.79</td>\n",
       "    </tr>\n",
       "    <tr>\n",
       "      <th>294</th>\n",
       "      <td>cze</td>\n",
       "      <td>1993</td>\n",
       "      <td>0.00</td>\n",
       "    </tr>\n",
       "    <tr>\n",
       "      <th>354</th>\n",
       "      <td>slv</td>\n",
       "      <td>1999</td>\n",
       "      <td>13.73</td>\n",
       "    </tr>\n",
       "    <tr>\n",
       "      <th>169</th>\n",
       "      <td>bgr</td>\n",
       "      <td>2011</td>\n",
       "      <td>1.90</td>\n",
       "    </tr>\n",
       "    <tr>\n",
       "      <th>541</th>\n",
       "      <td>ita</td>\n",
       "      <td>1989</td>\n",
       "      <td>0.34</td>\n",
       "    </tr>\n",
       "    <tr>\n",
       "      <th>440</th>\n",
       "      <td>grc</td>\n",
       "      <td>2010</td>\n",
       "      <td>1.37</td>\n",
       "    </tr>\n",
       "    <tr>\n",
       "      <th>1052</th>\n",
       "      <td>ury</td>\n",
       "      <td>2000</td>\n",
       "      <td>0.48</td>\n",
       "    </tr>\n",
       "    <tr>\n",
       "      <th>839</th>\n",
       "      <td>pol</td>\n",
       "      <td>2004</td>\n",
       "      <td>0.05</td>\n",
       "    </tr>\n",
       "    <tr>\n",
       "      <th>874</th>\n",
       "      <td>rus</td>\n",
       "      <td>2007</td>\n",
       "      <td>0.09</td>\n",
       "    </tr>\n",
       "    <tr>\n",
       "      <th>181</th>\n",
       "      <td>khm</td>\n",
       "      <td>2009</td>\n",
       "      <td>12.93</td>\n",
       "    </tr>\n",
       "    <tr>\n",
       "      <th>934</th>\n",
       "      <td>esp</td>\n",
       "      <td>2004</td>\n",
       "      <td>1.34</td>\n",
       "    </tr>\n",
       "    <tr>\n",
       "      <th>417</th>\n",
       "      <td>geo</td>\n",
       "      <td>2008</td>\n",
       "      <td>14.05</td>\n",
       "    </tr>\n",
       "    <tr>\n",
       "      <th>211</th>\n",
       "      <td>chl</td>\n",
       "      <td>2003</td>\n",
       "      <td>1.73</td>\n",
       "    </tr>\n",
       "    <tr>\n",
       "      <th>1082</th>\n",
       "      <td>vnm</td>\n",
       "      <td>1998</td>\n",
       "      <td>49.36</td>\n",
       "    </tr>\n",
       "    <tr>\n",
       "      <th>21</th>\n",
       "      <td>arg</td>\n",
       "      <td>2000</td>\n",
       "      <td>5.06</td>\n",
       "    </tr>\n",
       "    <tr>\n",
       "      <th>384</th>\n",
       "      <td>eth</td>\n",
       "      <td>1995</td>\n",
       "      <td>63.20</td>\n",
       "    </tr>\n",
       "    <tr>\n",
       "      <th>392</th>\n",
       "      <td>fin</td>\n",
       "      <td>1995</td>\n",
       "      <td>0.00</td>\n",
       "    </tr>\n",
       "    <tr>\n",
       "      <th>515</th>\n",
       "      <td>idn</td>\n",
       "      <td>2011</td>\n",
       "      <td>16.20</td>\n",
       "    </tr>\n",
       "    <tr>\n",
       "      <th>1046</th>\n",
       "      <td>ury</td>\n",
       "      <td>1989</td>\n",
       "      <td>0.49</td>\n",
       "    </tr>\n",
       "    <tr>\n",
       "      <th>61</th>\n",
       "      <td>aze</td>\n",
       "      <td>2002</td>\n",
       "      <td>0.02</td>\n",
       "    </tr>\n",
       "    <tr>\n",
       "      <th>955</th>\n",
       "      <td>che</td>\n",
       "      <td>1992</td>\n",
       "      <td>3.34</td>\n",
       "    </tr>\n",
       "    <tr>\n",
       "      <th>821</th>\n",
       "      <td>phl</td>\n",
       "      <td>1991</td>\n",
       "      <td>33.15</td>\n",
       "    </tr>\n",
       "    <tr>\n",
       "      <th>396</th>\n",
       "      <td>fin</td>\n",
       "      <td>2010</td>\n",
       "      <td>0.00</td>\n",
       "    </tr>\n",
       "    <tr>\n",
       "      <th>831</th>\n",
       "      <td>pol</td>\n",
       "      <td>1989</td>\n",
       "      <td>0.08</td>\n",
       "    </tr>\n",
       "    <tr>\n",
       "      <th>486</th>\n",
       "      <td>hun</td>\n",
       "      <td>1993</td>\n",
       "      <td>0.15</td>\n",
       "    </tr>\n",
       "    <tr>\n",
       "      <th>577</th>\n",
       "      <td>kaz</td>\n",
       "      <td>2010</td>\n",
       "      <td>0.06</td>\n",
       "    </tr>\n",
       "    <tr>\n",
       "      <th>1092</th>\n",
       "      <td>zmb</td>\n",
       "      <td>1993</td>\n",
       "      <td>65.27</td>\n",
       "    </tr>\n",
       "    <tr>\n",
       "      <th>734</th>\n",
       "      <td>nic</td>\n",
       "      <td>1993</td>\n",
       "      <td>32.73</td>\n",
       "    </tr>\n",
       "  </tbody>\n",
       "</table>\n",
       "</div>"
      ],
      "text/plain": [
       "      geo  time  extreme_poverty_percent_people_below_125_a_day\n",
       "635   mkd  2000                                            4.17\n",
       "76    blr  1995                                            0.36\n",
       "526   irl  1996                                            0.00\n",
       "357   slv  2002                                           14.68\n",
       "29    arg  2008                                            2.74\n",
       "269   cri  2005                                            3.57\n",
       "88    blr  2009                                            0.01\n",
       "1095  zmb  2003                                           64.60\n",
       "632   ltu  2010                                            1.48\n",
       "408   geo  1999                                           17.19\n",
       "257   cri  1993                                            6.89\n",
       "739   ner  1992                                           72.79\n",
       "1085  vnm  2006                                           21.44\n",
       "754   nor  2007                                            0.33\n",
       "875   rus  2008                                            0.00\n",
       "54    aut  1994                                            0.40\n",
       "815   per  2009                                            3.50\n",
       "65    aze  2008                                            0.31\n",
       "1080  pse  2009                                            0.08\n",
       "671   mrt  2004                                           25.41\n",
       "40    arm  2006                                            3.17\n",
       "597   lao  1992                                           55.68\n",
       "369   est  1993                                            0.79\n",
       "294   cze  1993                                            0.00\n",
       "354   slv  1999                                           13.73\n",
       "169   bgr  2011                                            1.90\n",
       "541   ita  1989                                            0.34\n",
       "440   grc  2010                                            1.37\n",
       "1052  ury  2000                                            0.48\n",
       "839   pol  2004                                            0.05\n",
       "874   rus  2007                                            0.09\n",
       "181   khm  2009                                           12.93\n",
       "934   esp  2004                                            1.34\n",
       "417   geo  2008                                           14.05\n",
       "211   chl  2003                                            1.73\n",
       "1082  vnm  1998                                           49.36\n",
       "21    arg  2000                                            5.06\n",
       "384   eth  1995                                           63.20\n",
       "392   fin  1995                                            0.00\n",
       "515   idn  2011                                           16.20\n",
       "1046  ury  1989                                            0.49\n",
       "61    aze  2002                                            0.02\n",
       "955   che  1992                                            3.34\n",
       "821   phl  1991                                           33.15\n",
       "396   fin  2010                                            0.00\n",
       "831   pol  1989                                            0.08\n",
       "486   hun  1993                                            0.15\n",
       "577   kaz  2010                                            0.06\n",
       "1092  zmb  1993                                           65.27\n",
       "734   nic  1993                                           32.73"
      ]
     },
     "execution_count": 22,
     "metadata": {},
     "output_type": "execute_result"
    }
   ],
   "source": [
    "poverty = pd.read_csv('../datasets/poverty.csv')\n",
    "poverty.sample(50)"
   ]
  },
  {
   "cell_type": "markdown",
   "metadata": {
    "deletable": false,
    "editable": false
   },
   "source": [
    "**Question 11.** Assign `latest` to a three-column table with one row for each country that appears in the `poverty` table. The first column should contain the 3-letter code for the country. The second column should contain the *most recent year* for which an extreme poverty rate is available for the country. The third column should contain the poverty rate in that year. **Do not change the last line, so that the labels of your table are set correctly.**\n",
    "\n",
    "*Hint*: the `first` function may be helpful, but you are not required to use it."
   ]
  },
  {
   "cell_type": "code",
   "execution_count": 23,
   "metadata": {
    "deletable": false
   },
   "outputs": [
    {
     "data": {
      "text/html": [
       "<div>\n",
       "<style scoped>\n",
       "    .dataframe tbody tr th:only-of-type {\n",
       "        vertical-align: middle;\n",
       "    }\n",
       "\n",
       "    .dataframe tbody tr th {\n",
       "        vertical-align: top;\n",
       "    }\n",
       "\n",
       "    .dataframe thead th {\n",
       "        text-align: right;\n",
       "    }\n",
       "</style>\n",
       "<table border=\"1\" class=\"dataframe\">\n",
       "  <thead>\n",
       "    <tr style=\"text-align: right;\">\n",
       "      <th></th>\n",
       "      <th>geo</th>\n",
       "      <th>time</th>\n",
       "      <th>poverty_percent</th>\n",
       "    </tr>\n",
       "  </thead>\n",
       "  <tbody>\n",
       "    <tr>\n",
       "      <th>26</th>\n",
       "      <td>cmr</td>\n",
       "      <td>2007</td>\n",
       "      <td>27.61</td>\n",
       "    </tr>\n",
       "    <tr>\n",
       "      <th>105</th>\n",
       "      <td>phl</td>\n",
       "      <td>2012</td>\n",
       "      <td>18.96</td>\n",
       "    </tr>\n",
       "    <tr>\n",
       "      <th>14</th>\n",
       "      <td>blr</td>\n",
       "      <td>2011</td>\n",
       "      <td>0.00</td>\n",
       "    </tr>\n",
       "    <tr>\n",
       "      <th>37</th>\n",
       "      <td>dom</td>\n",
       "      <td>2012</td>\n",
       "      <td>2.25</td>\n",
       "    </tr>\n",
       "    <tr>\n",
       "      <th>57</th>\n",
       "      <td>guy</td>\n",
       "      <td>1998</td>\n",
       "      <td>8.70</td>\n",
       "    </tr>\n",
       "    <tr>\n",
       "      <th>40</th>\n",
       "      <td>egy</td>\n",
       "      <td>2008</td>\n",
       "      <td>1.68</td>\n",
       "    </tr>\n",
       "    <tr>\n",
       "      <th>27</th>\n",
       "      <td>cod</td>\n",
       "      <td>2006</td>\n",
       "      <td>87.72</td>\n",
       "    </tr>\n",
       "    <tr>\n",
       "      <th>138</th>\n",
       "      <td>ury</td>\n",
       "      <td>2012</td>\n",
       "      <td>0.31</td>\n",
       "    </tr>\n",
       "    <tr>\n",
       "      <th>53</th>\n",
       "      <td>gmb</td>\n",
       "      <td>2003</td>\n",
       "      <td>33.63</td>\n",
       "    </tr>\n",
       "    <tr>\n",
       "      <th>90</th>\n",
       "      <td>mne</td>\n",
       "      <td>2011</td>\n",
       "      <td>0.21</td>\n",
       "    </tr>\n",
       "  </tbody>\n",
       "</table>\n",
       "</div>"
      ],
      "text/plain": [
       "     geo  time  poverty_percent\n",
       "26   cmr  2007            27.61\n",
       "105  phl  2012            18.96\n",
       "14   blr  2011             0.00\n",
       "37   dom  2012             2.25\n",
       "57   guy  1998             8.70\n",
       "40   egy  2008             1.68\n",
       "27   cod  2006            87.72\n",
       "138  ury  2012             0.31\n",
       "53   gmb  2003            33.63\n",
       "90   mne  2011             0.21"
      ]
     },
     "execution_count": 23,
     "metadata": {},
     "output_type": "execute_result"
    }
   ],
   "source": [
    "def first(values):\n",
    "    return values.item(0)\n",
    "\n",
    "latest_filter = poverty.groupby(\"geo\")[\"time\"].max()\n",
    "latest_join = pd.merge(left=latest_filter, right=poverty, how='left', left_on=['geo','time'], right_on=['geo','time'])\n",
    "\n",
    "# This line **should** work as it is, but you can change it\n",
    "# as you see fit\n",
    "latest = latest_join.rename(columns={\"extreme_poverty_percent_people_below_125_a_day\":\"poverty_percent\"})\n",
    "latest.sample(10)"
   ]
  },
  {
   "cell_type": "code",
   "execution_count": null,
   "metadata": {
    "deletable": false
   },
   "outputs": [],
   "source": []
  },
  {
   "cell_type": "markdown",
   "metadata": {
    "deletable": false,
    "editable": false
   },
   "source": [
    "**Question 12.** Using both `latest` and `population`, create a four-column table called `recent` with one row for each country in `latest`. The four columns should have the following labels and contents:\n",
    "1. `geo` contains the 3-letter country code,\n",
    "1. `poverty_percent` contains the most recent poverty percent,\n",
    "1. `population_total` contains the population of the country in 2010,\n",
    "1. `poverty_total` contains the number of people in poverty **rounded to the nearest integer**, based on the 2010 population and most recent poverty rate."
   ]
  },
  {
   "cell_type": "code",
   "execution_count": 24,
   "metadata": {
    "deletable": false
   },
   "outputs": [
    {
     "data": {
      "text/plain": [
       "Ellipsis"
      ]
     },
     "execution_count": 24,
     "metadata": {},
     "output_type": "execute_result"
    }
   ],
   "source": [
    "poverty_and_pop = ...\n",
    "recent = ...\n",
    "recent"
   ]
  },
  {
   "cell_type": "code",
   "execution_count": null,
   "metadata": {
    "deletable": false
   },
   "outputs": [],
   "source": []
  },
  {
   "cell_type": "markdown",
   "metadata": {
    "deletable": false,
    "editable": false
   },
   "source": [
    "**Question 13.** Assuming that the `poverty_total` numbers in the `recent` table describe *all* people in 2010 living in extreme poverty, assign the name `poverty_percent` to the percentage of the world's 2010 population that were living in extreme poverty. You should find a number that is somewhat above the 2015 global estimate of 12%, since many country-specific poverty rates are older than 2015.\n",
    "\n",
    "*Hint*: The sum of the `population_total` column in the `recent` table is not the world population, because only a subset of the world's countries have known poverty rates. Use the `population` table to compute the world's 2010 total population."
   ]
  },
  {
   "cell_type": "code",
   "execution_count": 25,
   "metadata": {
    "deletable": false
   },
   "outputs": [
    {
     "data": {
      "text/plain": [
       "Ellipsis"
      ]
     },
     "execution_count": 25,
     "metadata": {},
     "output_type": "execute_result"
    }
   ],
   "source": [
    "poverty_percent = ...\n",
    "poverty_percent"
   ]
  },
  {
   "cell_type": "code",
   "execution_count": null,
   "metadata": {
    "deletable": false
   },
   "outputs": [],
   "source": []
  },
  {
   "cell_type": "markdown",
   "metadata": {
    "deletable": false,
    "editable": false
   },
   "source": [
    "**You're finished!** Congratulations on mastering data visualization and table manipulation. Time to submit."
   ]
  }
 ],
 "metadata": {
  "kernelspec": {
   "display_name": "base",
   "language": "python",
   "name": "python3"
  },
  "language_info": {
   "codemirror_mode": {
    "name": "ipython",
    "version": 3
   },
   "file_extension": ".py",
   "mimetype": "text/x-python",
   "name": "python",
   "nbconvert_exporter": "python",
   "pygments_lexer": "ipython3",
   "version": "3.12.7"
  }
 },
 "nbformat": 4,
 "nbformat_minor": 1
}

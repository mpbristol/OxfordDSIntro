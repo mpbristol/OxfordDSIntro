{
 "cells": [
  {
   "cell_type": "markdown",
   "metadata": {},
   "source": [
    "## Plan for today:\n",
    "- Take attendance\n",
    "- Lecture/exercise recap\n",
    "- Some related concepts including demos\n",
    "- Looking at exercises"
   ]
  },
  {
   "cell_type": "markdown",
   "metadata": {},
   "source": [
    "## Lecture Recap:\n",
    "- All about lists, tuples, dicts, sets\n",
    "- Mutability\n",
    "\n",
    "## Exercise Recap:\n",
    "- Looking at using the above with some other python builtins\n",
    "- Ensuring to name variables appropriately to not use builtins\n",
    "- List/dict comprehension, sorted, zip, enumerate, etc.\n",
    "    - Needed to look into some of these\n",
    "    - Will go over today\n"
   ]
  },
  {
   "cell_type": "markdown",
   "metadata": {},
   "source": [
    "## Some related concepts:\n",
    "- Mutability- why do we care?"
   ]
  },
  {
   "cell_type": "markdown",
   "metadata": {},
   "source": [
    "Why Care About Mutability:\n",
    "\n",
    "Predictability: Immutable objects offer predictability. Once created, you know they won't change, which is crucial for debugging and reasoning about code.\n",
    "\n",
    "Side Effects: Mutability introduces the risk of side effects. If an object is passed around and modified in one place, it changes in all places where it's referenced. This can lead to bugs that are hard to track down.\n",
    "\n",
    "Performance: Immutable objects can lead to performance optimizations. Since they don't change, memory management is more optimal, and operations on them can be more efficiently handled by Python.\n",
    "\n",
    "---\n",
    "\n",
    "Sets and Dictionaries: \n",
    "These are mutable. They allow elements to be added, removed, or changed. This mutability is useful for dynamically modifying data.\n",
    "\n",
    "Lists: Also mutable, lists can change size and their elements can be modified. This is useful for collections that need to change over time, like accumulating results or modifying data.\n",
    "\n",
    "Tuples: Tuples are immutable. Once created, their contents cannot change. This immutability is beneficial for ensuring data integrity and can be used as keys in dictionaries or elements in sets. They are also generally faster to iterate through than lists due to their static nature.\n",
    "\n"
   ]
  },
  {
   "cell_type": "code",
   "execution_count": 1,
   "metadata": {},
   "outputs": [
    {
     "data": {
      "text/plain": [
       "[1, 2, 0]"
      ]
     },
     "execution_count": 1,
     "metadata": {},
     "output_type": "execute_result"
    }
   ],
   "source": [
    "a = [1, 2, 3]\n",
    "\n",
    "a[2] = 0\n",
    "a"
   ]
  },
  {
   "cell_type": "code",
   "execution_count": 2,
   "metadata": {},
   "outputs": [
    {
     "ename": "TypeError",
     "evalue": "'tuple' object does not support item assignment",
     "output_type": "error",
     "traceback": [
      "\u001b[0;31m---------------------------------------------------------------------------\u001b[0m",
      "\u001b[0;31mTypeError\u001b[0m                                 Traceback (most recent call last)",
      "Cell \u001b[0;32mIn[2], line 2\u001b[0m\n\u001b[1;32m      1\u001b[0m a \u001b[38;5;241m=\u001b[39m (\u001b[38;5;241m1\u001b[39m, \u001b[38;5;241m2\u001b[39m, \u001b[38;5;241m3\u001b[39m)\n\u001b[0;32m----> 2\u001b[0m \u001b[43ma\u001b[49m\u001b[43m[\u001b[49m\u001b[38;5;241;43m2\u001b[39;49m\u001b[43m]\u001b[49m \u001b[38;5;241m=\u001b[39m \u001b[38;5;241m0\u001b[39m\n",
      "\u001b[0;31mTypeError\u001b[0m: 'tuple' object does not support item assignment"
     ]
    }
   ],
   "source": [
    "a = (1, 2, 3)\n",
    "a[2] = 0"
   ]
  },
  {
   "cell_type": "code",
   "execution_count": 6,
   "metadata": {},
   "outputs": [
    {
     "name": "stdout",
     "output_type": "stream",
     "text": [
      "180\n",
      "1.8\n",
      "180\n"
     ]
    }
   ],
   "source": [
    "## Mutability example:\n",
    "\n",
    "def get_height_in_m(height_in_cm: int):\n",
    "    height_in_m = height_in_cm\n",
    "    height_in_m = height_in_m/100\n",
    "    return height_in_m\n",
    "\n",
    "height = 180\n",
    "print(height)\n",
    "print(get_height_in_m(height))\n",
    "print(height)"
   ]
  },
  {
   "cell_type": "code",
   "execution_count": 7,
   "metadata": {},
   "outputs": [
    {
     "name": "stdout",
     "output_type": "stream",
     "text": [
      "[180, 170, 160, 150, 140]\n",
      "[1.8, 1.7, 1.6, 1.5, 1.4]\n",
      "[180, 170, 160, 150, 140]\n"
     ]
    }
   ],
   "source": [
    "## Mutability example:\n",
    "\n",
    "from typing import List\n",
    "\n",
    "\n",
    "def get_height_in_m(height_in_cm: List):\n",
    "    height_in_m = height_in_cm.copy()\n",
    "    for i, h in enumerate(height_in_cm):\n",
    "        height_in_m[i] = h/100\n",
    "    return height_in_m\n",
    "\n",
    "height_in_cm = [180, 170, 160, 150, 140]\n",
    "\n",
    "print(height_in_cm)\n",
    "print(get_height_in_m(height_in_cm))\n",
    "print(height_in_cm) ## WARNING: height_in_cm has been changed"
   ]
  },
  {
   "cell_type": "code",
   "execution_count": 46,
   "metadata": {},
   "outputs": [
    {
     "name": "stdout",
     "output_type": "stream",
     "text": [
      "[180, 170, 160, 150, 140]\n",
      "[1.8, 1.7, 1.6, 1.5, 1.4]\n",
      "[180, 170, 160, 150, 140]\n"
     ]
    }
   ],
   "source": [
    "from typing import List\n",
    "\n",
    "\n",
    "def get_height_in_m(height_in_cm: List):\n",
    "    height_in_m = height_in_cm.copy() # prevents mutation of original list\n",
    "    for i, h in enumerate(height_in_cm):\n",
    "        height_in_m[i] = h/100\n",
    "    return height_in_m\n",
    "\n",
    "height_in_cm = [180, 170, 160, 150, 140]\n",
    "\n",
    "print(height_in_cm)\n",
    "print(get_height_in_m(height_in_cm))\n",
    "print(height_in_cm)"
   ]
  },
  {
   "cell_type": "code",
   "execution_count": null,
   "metadata": {},
   "outputs": [],
   "source": []
  },
  {
   "cell_type": "code",
   "execution_count": 7,
   "metadata": {},
   "outputs": [
    {
     "ename": "TypeError",
     "evalue": "unhashable type: 'list'",
     "output_type": "error",
     "traceback": [
      "\u001b[0;31m---------------------------------------------------------------------------\u001b[0m",
      "\u001b[0;31mTypeError\u001b[0m                                 Traceback (most recent call last)",
      "Cell \u001b[0;32mIn[7], line 3\u001b[0m\n\u001b[1;32m      1\u001b[0m \u001b[38;5;66;03m## Mutable objects cannot be dictionary keys:\u001b[39;00m\n\u001b[1;32m      2\u001b[0m example_key \u001b[38;5;241m=\u001b[39m [\u001b[38;5;124m\"\u001b[39m\u001b[38;5;124mEllen\u001b[39m\u001b[38;5;124m\"\u001b[39m, \u001b[38;5;124m\"\u001b[39m\u001b[38;5;124mheight_in_cm\u001b[39m\u001b[38;5;124m\"\u001b[39m]\n\u001b[0;32m----> 3\u001b[0m example_dict \u001b[38;5;241m=\u001b[39m {example_key: \u001b[38;5;241m180\u001b[39m}\n\u001b[1;32m      5\u001b[0m \u001b[38;5;66;03m#fails because you could change the list- should the key change??\u001b[39;00m\n",
      "\u001b[0;31mTypeError\u001b[0m: unhashable type: 'list'"
     ]
    }
   ],
   "source": [
    "## Mutable objects cannot be dictionary keys:\n",
    "example_key = [\"Ellen\", \"height_in_cm\"]\n",
    "example_dict = {example_key: 180}\n",
    "\n",
    "#fails because you could change the list- should the key change??"
   ]
  },
  {
   "cell_type": "markdown",
   "metadata": {},
   "source": [
    "Note hashability and immutability are very closely related, and you can think of them in the same way.\n",
    "Immutable objects are hashable, and mutable objects are not hashable. \n",
    "Exeptions when you start building your own objects. "
   ]
  },
  {
   "cell_type": "code",
   "execution_count": 8,
   "metadata": {},
   "outputs": [
    {
     "name": "stdout",
     "output_type": "stream",
     "text": [
      "{('Ellen', 'height_in_cm'): 180}\n"
     ]
    }
   ],
   "source": [
    "example_key = (\"Ellen\", \"height_in_cm\")\n",
    "example_dict = {example_key: 180}\n",
    "print(example_dict)\n",
    "\n",
    "# does not fail because tuples, immutable, would have to create a whole new tuple object"
   ]
  },
  {
   "cell_type": "code",
   "execution_count": null,
   "metadata": {},
   "outputs": [],
   "source": [
    "def get_height_in_diff_units(height_in_m: float):\n",
    "    height_in_cm = height_in_m*100\n",
    "    height_in_inch = height_in_cm/2.54\n",
    "    return {\"height_in_cm\": height_in_cm, \"height_in_inch\": height_in_inch}"
   ]
  },
  {
   "cell_type": "markdown",
   "metadata": {},
   "source": [
    "## Some related concepts:\n",
    "- Dictionary syntax\n"
   ]
  },
  {
   "cell_type": "markdown",
   "metadata": {},
   "source": [
    "Dictionaries useful because:\n",
    "Fast lookups\n",
    "Key-value pairing for data association.\n",
    "Supports diverse and mixed data types.\n",
    "Useful for representing structured data like JSON."
   ]
  },
  {
   "cell_type": "code",
   "execution_count": null,
   "metadata": {},
   "outputs": [],
   "source": [
    "person_attributes = {} # is this an empty dictionary or an empty set?\n",
    "\n",
    "person_attributes = set() # what type is this now?\n",
    "\n",
    "person_attributes = {\"name\"} # what type is this now?\n",
    "\n",
    "person_attributes = {\"name\": \"Ellen\"} # what type is this now?\n"
   ]
  },
  {
   "cell_type": "code",
   "execution_count": 11,
   "metadata": {},
   "outputs": [
    {
     "data": {
      "text/plain": [
       "dict"
      ]
     },
     "execution_count": 11,
     "metadata": {},
     "output_type": "execute_result"
    }
   ],
   "source": [
    "type({})\n"
   ]
  },
  {
   "cell_type": "code",
   "execution_count": 17,
   "metadata": {},
   "outputs": [],
   "source": [
    "\n",
    "person_attributes = {\"name\": \"Harry\", \"height_in_cm\": 180, \"age\": 100}"
   ]
  },
  {
   "cell_type": "code",
   "execution_count": 18,
   "metadata": {},
   "outputs": [
    {
     "name": "stdout",
     "output_type": "stream",
     "text": [
      "{'name': 'Harry', 'height_in_cm': 190, 'age': 100, 'drives_car': True}\n"
     ]
    }
   ],
   "source": [
    "person_attributes[\"height_in_cm\"] = 190\n",
    "person_attributes[\"drives_car\"] = True\n",
    "print(person_attributes)\n"
   ]
  },
  {
   "cell_type": "code",
   "execution_count": 19,
   "metadata": {},
   "outputs": [
    {
     "name": "stdout",
     "output_type": "stream",
     "text": [
      "{'name': 'Harry', 'height_in_cm': 190, 'age': 100, 'drives_car': True, 'weight_in_kg': 80}\n",
      "{'name': 'Harry', 'height_in_cm': 190, 'age': 100, 'drives_car': True}\n"
     ]
    }
   ],
   "source": [
    "print(person_attributes | {\"weight_in_kg\": 80})\n",
    "print(person_attributes)\n"
   ]
  },
  {
   "cell_type": "code",
   "execution_count": 22,
   "metadata": {},
   "outputs": [
    {
     "name": "stdout",
     "output_type": "stream",
     "text": [
      "None\n",
      "{'name': 'Harry', 'height_in_cm': 190, 'drives_car': True}\n",
      "None\n"
     ]
    }
   ],
   "source": [
    "print(person_attributes.pop(\"age\", None))\n",
    "print(person_attributes)\n",
    "print(person_attributes.pop(\"age\", None))\n"
   ]
  },
  {
   "cell_type": "markdown",
   "metadata": {},
   "source": [
    "## Some related concepts\n",
    "    - dictionary unpacking/ list unpacking"
   ]
  },
  {
   "cell_type": "code",
   "execution_count": 17,
   "metadata": {},
   "outputs": [
    {
     "name": "stdout",
     "output_type": "stream",
     "text": [
      "{'name': 'Harry', 'height_in_cm': 190, 'place_of_residence': 'London', 'owns_pet': 'yes'}\n",
      "{'name': 'Harry', 'height_in_cm': 190, 'place_of_residence': 'London', 'owns_pet': 'yes'}\n",
      "{'name': 'Harry', 'height_in_cm': 190}\n",
      "{'name': 'Harry', 'height_in_cm': 190, 'place_of_residence': 'London', 'owns_pet': 'yes'}\n"
     ]
    }
   ],
   "source": [
    "# join two dictionaries\n",
    "more_attributes = {\"place_of_residence\": \"London\", \"owns_pet\": \"yes\"}\n",
    "print(person_attributes | more_attributes) # new dictionary\n",
    "print({**person_attributes, **more_attributes}) # new dictionary\n",
    "\n",
    "print(person_attributes)\n",
    "person_attributes.update(more_attributes) # mutates original dictionary\n",
    "print(person_attributes)\n"
   ]
  },
  {
   "cell_type": "code",
   "execution_count": 23,
   "metadata": {},
   "outputs": [
    {
     "name": "stdout",
     "output_type": "stream",
     "text": [
      "Hello, Alice. You are 30.\n",
      "Hello, Alice. You are 30.\n"
     ]
    }
   ],
   "source": [
    "## ** unpacks a dictionary into keyword arguments\n",
    "\n",
    "details = {'name': 'Alice', 'age': 30}\n",
    "greeting1 = \"Hello, {name}. You are {age}.\".format(name=details['name'], age=details['age'])\n",
    "greeting2 = \"Hello, {name}. You are {age}.\".format(**details)\n",
    "print(greeting1)\n",
    "print(greeting2)"
   ]
  },
  {
   "cell_type": "code",
   "execution_count": 24,
   "metadata": {},
   "outputs": [
    {
     "name": "stdout",
     "output_type": "stream",
     "text": [
      "{'name': 'Alice', 'age': 30}\n",
      "Name: Alice\n",
      "Age: 30\n"
     ]
    }
   ],
   "source": [
    "def print_person_details(name, age, extra_info=None, more_extra_info=None):\n",
    "    print(\"Name:\", name)\n",
    "    print(\"Age:\", age)\n",
    "\n",
    "print(details)\n",
    "print_person_details(**details) # print_person_details(name = details[name], age=detais[age])\n",
    "\n",
    "\n",
    "print_person_details(\"Alice\", 30, more_extra_info=\"has a cat\")\n",
    "# **kwargs"
   ]
  },
  {
   "cell_type": "markdown",
   "metadata": {},
   "source": [
    "## List unpacking\n"
   ]
  },
  {
   "cell_type": "code",
   "execution_count": 29,
   "metadata": {},
   "outputs": [
    {
     "data": {
      "text/plain": [
       "9"
      ]
     },
     "execution_count": 29,
     "metadata": {},
     "output_type": "execute_result"
    }
   ],
   "source": [
    "def sum_three_numbers(a, b, c):\n",
    "    return a + b + c\n",
    "\n",
    "args = [1, 2, 3, 4, 5]\n",
    "sum_three_numbers(*args[1:4])"
   ]
  },
  {
   "cell_type": "markdown",
   "metadata": {},
   "source": [
    "## Some related concepts:\n",
    "- List/dict comprehension\n",
    "\n",
    "The reasoning behind list and dictionary comprehensions in Python includes:\n",
    "\n",
    "Conciseness: reduce boilerplate\n",
    "Performance: Often, faster\n",
    "Local Scope: The loop variables in comprehensions remain in local scope, reducing the risk of side effects caused by modifying external variables.\n",
    "Reduced Side Effects: (usually) not modifying an existing list, but creating a new one."
   ]
  },
  {
   "cell_type": "code",
   "execution_count": 32,
   "metadata": {},
   "outputs": [
    {
     "name": "stdout",
     "output_type": "stream",
     "text": [
      "[0, 3, 6, 9, 12, 15, 18]\n"
     ]
    }
   ],
   "source": [
    "numbers_div_by_3_lt_20 = []\n",
    "for i in range(20):\n",
    "    if i % 3 == 0:\n",
    "        numbers_div_by_3_lt_20.append(i)\n",
    "\n",
    "print(numbers_div_by_3_lt_20)"
   ]
  },
  {
   "cell_type": "code",
   "execution_count": 37,
   "metadata": {},
   "outputs": [
    {
     "data": {
      "text/plain": [
       "[0, 6, 12, 18]"
      ]
     },
     "execution_count": 37,
     "metadata": {},
     "output_type": "execute_result"
    }
   ],
   "source": [
    "[i for i in range(20) if i % 3 == 0 if i % 2 == 0]"
   ]
  },
  {
   "cell_type": "code",
   "execution_count": 35,
   "metadata": {},
   "outputs": [
    {
     "data": {
      "text/plain": [
       "[0, 3, 6, 9, 12, 15, 18]"
      ]
     },
     "execution_count": 35,
     "metadata": {},
     "output_type": "execute_result"
    }
   ],
   "source": [
    "# list comprehension:\n",
    "\n",
    "[i for i in range(20) if i % 3 == 0]"
   ]
  },
  {
   "cell_type": "code",
   "execution_count": 38,
   "metadata": {},
   "outputs": [
    {
     "name": "stdout",
     "output_type": "stream",
     "text": [
      "{'a': 1, 'b': 2, 'c': 3, 'd': 4, 'e': 5}\n"
     ]
    }
   ],
   "source": [
    "vals = [1, 2, 3, 4, 5]\n",
    "keys = [\"a\", \"b\", \"c\", \"d\", \"e\"]\n",
    "\n",
    "combined_dict = {}\n",
    "for i, key in enumerate(keys):\n",
    "    combined_dict[key] = vals[i]\n",
    "\n",
    "print(combined_dict)\n"
   ]
  },
  {
   "cell_type": "code",
   "execution_count": 41,
   "metadata": {},
   "outputs": [
    {
     "data": {
      "text/plain": [
       "{'a': 1, 'b': 2, 'c': 3, 'd': 4, 'e': 5}"
      ]
     },
     "execution_count": 41,
     "metadata": {},
     "output_type": "execute_result"
    }
   ],
   "source": [
    "{k: v for k, v in zip(keys, vals)}"
   ]
  },
  {
   "cell_type": "code",
   "execution_count": 44,
   "metadata": {},
   "outputs": [
    {
     "name": "stdout",
     "output_type": "stream",
     "text": [
      "('a', 1, 'a')\n",
      "('b', 2, 'b')\n",
      "('c', 3, 'c')\n",
      "('d', 4, 'd')\n",
      "('e', 5, 'e')\n"
     ]
    }
   ],
   "source": [
    "for el in zip(keys, vals, keys):\n",
    "    print(el)"
   ]
  },
  {
   "cell_type": "code",
   "execution_count": null,
   "metadata": {},
   "outputs": [],
   "source": [
    "# dictionary comprehension:\n",
    "{key: val for key, val in zip(keys, vals)}"
   ]
  },
  {
   "cell_type": "markdown",
   "metadata": {},
   "source": [
    "## Some related concepts:\n",
    "- Iterators\n",
    "\n",
    "Iterator: An iterator is a type of object that enables a programmer to traverse through all the elements in a collection, like lists, tuples, or dictionaries. It allows for efficient looping through large datasets as it doesn't require the entire dataset to be loaded in memory. \n",
    "\n",
    "It has lazy evaluation, meaning it only generates the next value when needed. \n",
    "\n",
    "Examples of iterators include zip() and enumerate()"
   ]
  },
  {
   "cell_type": "code",
   "execution_count": 32,
   "metadata": {},
   "outputs": [
    {
     "name": "stdout",
     "output_type": "stream",
     "text": [
      "[(0, 1), (1, 2), (2, 3)]\n",
      "[]\n"
     ]
    }
   ],
   "source": [
    "a = enumerate([1, 2, 3])\n",
    "print(list(a))\n",
    "print(list(a)) # once you've used it, it's gone\n"
   ]
  },
  {
   "cell_type": "code",
   "execution_count": null,
   "metadata": {},
   "outputs": [],
   "source": [
    "### zip function\n",
    "\n",
    "# Lists to be zipped\n",
    "list1 = [1, 2, 3]\n",
    "list2 = ['a', 'b', 'c']\n",
    "\n",
    "# Zipping lists together\n",
    "zipped = zip(list1, list2)\n",
    "print(zipped) # lazy evaluation\n",
    "print(list(zipped)) # iterator is exhausted \n",
    "print(list(zipped)) # empty list\n",
    "\n",
    "# Unpacking the zipped object\n",
    "zipped = zip(list1, list2)\n",
    "unpacked_list1, unpacked_list2 = list(zip(*zipped))\n",
    "# unpacked_list1 = (1, 2, 3)\n",
    "# unpacked_list2 = ('a', 'b', 'c')\n",
    "print(unpacked_list1)\n",
    "print(unpacked_list2)"
   ]
  },
  {
   "cell_type": "markdown",
   "metadata": {},
   "source": [
    "## sorted function"
   ]
  },
  {
   "cell_type": "code",
   "execution_count": 40,
   "metadata": {},
   "outputs": [
    {
     "name": "stdout",
     "output_type": "stream",
     "text": [
      "[1, 1, 2, 3, 3, 4, 5, 5, 5, 6, 9]\n",
      "[9, 6, 5, 5, 5, 4, 3, 3, 2, 1, 1]\n",
      "[3, 9, 6, 3, 1, 4, 1, 5, 2, 5, 5]\n"
     ]
    }
   ],
   "source": [
    "numbers = [3, 1, 4, 1, 5, 9, 2, 6, 5, 3, 5]\n",
    "print(sorted(numbers))\n",
    "print(sorted(numbers, reverse=True))\n",
    "print(sorted(numbers, key=lambda x: x % 3)) # lambda function, will go over in more detail in a later lecture, for now just know that it's a way to define a function in one line\n"
   ]
  },
  {
   "cell_type": "code",
   "execution_count": null,
   "metadata": {},
   "outputs": [],
   "source": []
  }
 ],
 "metadata": {
  "kernelspec": {
   "display_name": "py312",
   "language": "python",
   "name": "python3"
  },
  "language_info": {
   "codemirror_mode": {
    "name": "ipython",
    "version": 3
   },
   "file_extension": ".py",
   "mimetype": "text/x-python",
   "name": "python",
   "nbconvert_exporter": "python",
   "pygments_lexer": "ipython3",
   "version": "3.12.2"
  }
 },
 "nbformat": 4,
 "nbformat_minor": 2
}
